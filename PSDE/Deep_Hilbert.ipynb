{
  "cells": [
    {
      "cell_type": "code",
      "execution_count": null,
      "metadata": {},
      "outputs": [],
      "source": []
    },
    {
      "cell_type": "markdown",
      "metadata": {
        "colab_type": "text",
        "id": "view-in-github"
      },
      "source": [
        "<a href=\"https://colab.research.google.com/github/AlviseSembenico/Deep-BSDE/blob/main/Deep_Hilbert.ipynb\" target=\"_parent\"><img src=\"https://colab.research.google.com/assets/colab-badge.svg\" alt=\"Open In Colab\"/></a>"
      ]
    },
    {
      "cell_type": "code",
      "execution_count": 30,
      "metadata": {
        "colab": {
          "base_uri": "https://localhost:8080/"
        },
        "collapsed": true,
        "id": "ByCA6vLMErFT",
        "outputId": "3fbdacf4-d43c-4bd6-87c4-a5ad3d3661cf"
      },
      "outputs": [
        {
          "name": "stdout",
          "output_type": "stream",
          "text": [
            "Requirement already satisfied: torch in /system/conda/miniconda3/envs/cloudspace/lib/python3.10/site-packages (2.7.1+cu128)\n",
            "Requirement already satisfied: lightning in /system/conda/miniconda3/envs/cloudspace/lib/python3.10/site-packages (2.5.5)\n",
            "Requirement already satisfied: icecream in /system/conda/miniconda3/envs/cloudspace/lib/python3.10/site-packages (2.1.8)\n",
            "Requirement already satisfied: filelock in /system/conda/miniconda3/envs/cloudspace/lib/python3.10/site-packages (from torch) (3.19.1)\n",
            "Requirement already satisfied: typing-extensions>=4.10.0 in /system/conda/miniconda3/envs/cloudspace/lib/python3.10/site-packages (from torch) (4.15.0)\n",
            "Requirement already satisfied: sympy>=1.13.3 in /system/conda/miniconda3/envs/cloudspace/lib/python3.10/site-packages (from torch) (1.14.0)\n",
            "Requirement already satisfied: networkx in /system/conda/miniconda3/envs/cloudspace/lib/python3.10/site-packages (from torch) (3.4.2)\n",
            "Requirement already satisfied: jinja2 in /system/conda/miniconda3/envs/cloudspace/lib/python3.10/site-packages (from torch) (3.1.6)\n",
            "Requirement already satisfied: fsspec in /system/conda/miniconda3/envs/cloudspace/lib/python3.10/site-packages (from torch) (2025.9.0)\n",
            "Requirement already satisfied: nvidia-cuda-nvrtc-cu12==12.8.61 in /system/conda/miniconda3/envs/cloudspace/lib/python3.10/site-packages (from torch) (12.8.61)\n",
            "Requirement already satisfied: nvidia-cuda-runtime-cu12==12.8.57 in /system/conda/miniconda3/envs/cloudspace/lib/python3.10/site-packages (from torch) (12.8.57)\n",
            "Requirement already satisfied: nvidia-cuda-cupti-cu12==12.8.57 in /system/conda/miniconda3/envs/cloudspace/lib/python3.10/site-packages (from torch) (12.8.57)\n",
            "Requirement already satisfied: nvidia-cudnn-cu12==9.7.1.26 in /system/conda/miniconda3/envs/cloudspace/lib/python3.10/site-packages (from torch) (9.7.1.26)\n",
            "Requirement already satisfied: nvidia-cublas-cu12==12.8.3.14 in /system/conda/miniconda3/envs/cloudspace/lib/python3.10/site-packages (from torch) (12.8.3.14)\n",
            "Requirement already satisfied: nvidia-cufft-cu12==11.3.3.41 in /system/conda/miniconda3/envs/cloudspace/lib/python3.10/site-packages (from torch) (11.3.3.41)\n",
            "Requirement already satisfied: nvidia-curand-cu12==10.3.9.55 in /system/conda/miniconda3/envs/cloudspace/lib/python3.10/site-packages (from torch) (10.3.9.55)\n",
            "Requirement already satisfied: nvidia-cusolver-cu12==11.7.2.55 in /system/conda/miniconda3/envs/cloudspace/lib/python3.10/site-packages (from torch) (11.7.2.55)\n",
            "Requirement already satisfied: nvidia-cusparse-cu12==12.5.7.53 in /system/conda/miniconda3/envs/cloudspace/lib/python3.10/site-packages (from torch) (12.5.7.53)\n",
            "Requirement already satisfied: nvidia-cusparselt-cu12==0.6.3 in /system/conda/miniconda3/envs/cloudspace/lib/python3.10/site-packages (from torch) (0.6.3)\n",
            "Requirement already satisfied: nvidia-nccl-cu12==2.26.2 in /system/conda/miniconda3/envs/cloudspace/lib/python3.10/site-packages (from torch) (2.26.2)\n",
            "Requirement already satisfied: nvidia-nvtx-cu12==12.8.55 in /system/conda/miniconda3/envs/cloudspace/lib/python3.10/site-packages (from torch) (12.8.55)\n",
            "Requirement already satisfied: nvidia-nvjitlink-cu12==12.8.61 in /system/conda/miniconda3/envs/cloudspace/lib/python3.10/site-packages (from torch) (12.8.61)\n",
            "Requirement already satisfied: nvidia-cufile-cu12==1.13.0.11 in /system/conda/miniconda3/envs/cloudspace/lib/python3.10/site-packages (from torch) (1.13.0.11)\n",
            "Requirement already satisfied: triton==3.3.1 in /system/conda/miniconda3/envs/cloudspace/lib/python3.10/site-packages (from torch) (3.3.1)\n",
            "Requirement already satisfied: setuptools>=40.8.0 in /system/conda/miniconda3/envs/cloudspace/lib/python3.10/site-packages (from triton==3.3.1->torch) (78.1.1)\n",
            "Requirement already satisfied: PyYAML<8.0,>5.4 in /system/conda/miniconda3/envs/cloudspace/lib/python3.10/site-packages (from lightning) (6.0.2)\n",
            "Requirement already satisfied: lightning-utilities<2.0,>=0.10.0 in /system/conda/miniconda3/envs/cloudspace/lib/python3.10/site-packages (from lightning) (0.15.2)\n",
            "Requirement already satisfied: packaging<27.0,>=20.0 in /system/conda/miniconda3/envs/cloudspace/lib/python3.10/site-packages (from lightning) (25.0)\n",
            "Requirement already satisfied: torchmetrics<3.0,>0.7.0 in /system/conda/miniconda3/envs/cloudspace/lib/python3.10/site-packages (from lightning) (1.7.4)\n",
            "Requirement already satisfied: tqdm<6.0,>=4.57.0 in /system/conda/miniconda3/envs/cloudspace/lib/python3.10/site-packages (from lightning) (4.67.1)\n",
            "Requirement already satisfied: pytorch-lightning in /system/conda/miniconda3/envs/cloudspace/lib/python3.10/site-packages (from lightning) (2.5.5)\n",
            "Requirement already satisfied: aiohttp!=4.0.0a0,!=4.0.0a1 in /system/conda/miniconda3/envs/cloudspace/lib/python3.10/site-packages (from fsspec[http]<2027.0,>=2022.5.0->lightning) (3.12.15)\n",
            "Requirement already satisfied: numpy>1.20.0 in /system/conda/miniconda3/envs/cloudspace/lib/python3.10/site-packages (from torchmetrics<3.0,>0.7.0->lightning) (1.26.4)\n",
            "Requirement already satisfied: colorama>=0.3.9 in /system/conda/miniconda3/envs/cloudspace/lib/python3.10/site-packages (from icecream) (0.4.6)\n",
            "Requirement already satisfied: pygments>=2.2.0 in /system/conda/miniconda3/envs/cloudspace/lib/python3.10/site-packages (from icecream) (2.19.2)\n",
            "Requirement already satisfied: executing>=2.1.0 in /system/conda/miniconda3/envs/cloudspace/lib/python3.10/site-packages (from icecream) (2.2.1)\n",
            "Requirement already satisfied: asttokens>=2.0.1 in /system/conda/miniconda3/envs/cloudspace/lib/python3.10/site-packages (from icecream) (3.0.0)\n",
            "Requirement already satisfied: aiohappyeyeballs>=2.5.0 in /system/conda/miniconda3/envs/cloudspace/lib/python3.10/site-packages (from aiohttp!=4.0.0a0,!=4.0.0a1->fsspec[http]<2027.0,>=2022.5.0->lightning) (2.6.1)\n",
            "Requirement already satisfied: aiosignal>=1.4.0 in /system/conda/miniconda3/envs/cloudspace/lib/python3.10/site-packages (from aiohttp!=4.0.0a0,!=4.0.0a1->fsspec[http]<2027.0,>=2022.5.0->lightning) (1.4.0)\n",
            "Requirement already satisfied: async-timeout<6.0,>=4.0 in /system/conda/miniconda3/envs/cloudspace/lib/python3.10/site-packages (from aiohttp!=4.0.0a0,!=4.0.0a1->fsspec[http]<2027.0,>=2022.5.0->lightning) (5.0.1)\n",
            "Requirement already satisfied: attrs>=17.3.0 in /system/conda/miniconda3/envs/cloudspace/lib/python3.10/site-packages (from aiohttp!=4.0.0a0,!=4.0.0a1->fsspec[http]<2027.0,>=2022.5.0->lightning) (25.3.0)\n",
            "Requirement already satisfied: frozenlist>=1.1.1 in /system/conda/miniconda3/envs/cloudspace/lib/python3.10/site-packages (from aiohttp!=4.0.0a0,!=4.0.0a1->fsspec[http]<2027.0,>=2022.5.0->lightning) (1.7.0)\n",
            "Requirement already satisfied: multidict<7.0,>=4.5 in /system/conda/miniconda3/envs/cloudspace/lib/python3.10/site-packages (from aiohttp!=4.0.0a0,!=4.0.0a1->fsspec[http]<2027.0,>=2022.5.0->lightning) (6.6.4)\n",
            "Requirement already satisfied: propcache>=0.2.0 in /system/conda/miniconda3/envs/cloudspace/lib/python3.10/site-packages (from aiohttp!=4.0.0a0,!=4.0.0a1->fsspec[http]<2027.0,>=2022.5.0->lightning) (0.3.2)\n",
            "Requirement already satisfied: yarl<2.0,>=1.17.0 in /system/conda/miniconda3/envs/cloudspace/lib/python3.10/site-packages (from aiohttp!=4.0.0a0,!=4.0.0a1->fsspec[http]<2027.0,>=2022.5.0->lightning) (1.20.1)\n",
            "Requirement already satisfied: idna>=2.0 in /system/conda/miniconda3/envs/cloudspace/lib/python3.10/site-packages (from yarl<2.0,>=1.17.0->aiohttp!=4.0.0a0,!=4.0.0a1->fsspec[http]<2027.0,>=2022.5.0->lightning) (3.10)\n",
            "Requirement already satisfied: mpmath<1.4,>=1.1.0 in /system/conda/miniconda3/envs/cloudspace/lib/python3.10/site-packages (from sympy>=1.13.3->torch) (1.3.0)\n",
            "Requirement already satisfied: MarkupSafe>=2.0 in /system/conda/miniconda3/envs/cloudspace/lib/python3.10/site-packages (from jinja2->torch) (3.0.2)\n"
          ]
        }
      ],
      "source": [
        "!pip install torch lightning icecream"
      ]
    },
    {
      "cell_type": "code",
      "execution_count": 2,
      "metadata": {},
      "outputs": [],
      "source": [
        "# experiments configuration\n",
        "noise_dim = 7"
      ]
    },
    {
      "cell_type": "code",
      "execution_count": 3,
      "metadata": {
        "colab": {
          "base_uri": "https://localhost:8080/"
        },
        "id": "Tk7JnQuVE2kH",
        "outputId": "70fa9db0-2783-429f-e5aa-afd334301477"
      },
      "outputs": [
        {
          "name": "stdout",
          "output_type": "stream",
          "text": [
            "  0%|                                                     | 0/2 [00:00<?, ?it/s]/teamspace/studios/this_studio/Flow-forward-SPDE/PSDE/data_gpu.py:70: UserWarning: The use of `x.T` on tensors of dimension other than 2 to reverse their shape is deprecated and it will throw an error in a future release. Consider `x.mT` to transpose batches of matrices or `x.permute(*torch.arange(x.ndim - 1, -1, -1))` to reverse the dimensions of a tensor. (Triggered internally at /pytorch/aten/src/ATen/native/TensorShape.cpp:4413.)\n",
            "  val = torch.sum(p.T * dW[:, :, i].T, dim=1).T\n",
            "100%|█████████████████████████████████████████████| 2/2 [00:01<00:00,  1.44it/s]\n",
            "\u001b[38;5;247mic\u001b[39m\u001b[38;5;245m|\u001b[39m\u001b[38;5;245m \u001b[39m\u001b[38;5;247mtrain_x\u001b[39m\u001b[38;5;245m.\u001b[39m\u001b[38;5;247mshape\u001b[39m\u001b[38;5;245m:\u001b[39m\u001b[38;5;245m \u001b[39m\u001b[38;5;247mtorch\u001b[39m\u001b[38;5;245m.\u001b[39m\u001b[38;5;247mSize\u001b[39m\u001b[38;5;245m(\u001b[39m\u001b[38;5;245m[\u001b[39m\u001b[38;5;36m100000\u001b[39m\u001b[38;5;245m,\u001b[39m\u001b[38;5;245m \u001b[39m\u001b[38;5;36m7\u001b[39m\u001b[38;5;245m]\u001b[39m\u001b[38;5;245m)\u001b[39m\n",
            "\u001b[38;5;245m    \u001b[39m\u001b[38;5;247mtrain_y\u001b[39m\u001b[38;5;245m.\u001b[39m\u001b[38;5;247mshape\u001b[39m\u001b[38;5;245m:\u001b[39m\u001b[38;5;245m \u001b[39m\u001b[38;5;247mtorch\u001b[39m\u001b[38;5;245m.\u001b[39m\u001b[38;5;247mSize\u001b[39m\u001b[38;5;245m(\u001b[39m\u001b[38;5;245m[\u001b[39m\u001b[38;5;36m100000\u001b[39m\u001b[38;5;245m]\u001b[39m\u001b[38;5;245m)\u001b[39m\n",
            "  0%|                                                   | 0/200 [00:00<?, ?it/s]/teamspace/studios/this_studio/Flow-forward-SPDE/PSDE/data_gpu.py:158: UserWarning: The use of `x.T` on tensors of dimension other than 2 to reverse their shape is deprecated and it will throw an error in a future release. Consider `x.mT` to transpose batches of matrices or `x.permute(*torch.arange(x.ndim - 1, -1, -1))` to reverse the dimensions of a tensor. (Triggered internally at /pytorch/aten/src/ATen/native/TensorShape.cpp:4413.)\n",
            "  xt = (xt.T + ito.T).T\n",
            "100%|█████████████████████████████████████████| 200/200 [00:42<00:00,  4.69it/s]\n",
            "\u001b[38;5;247mic\u001b[39m\u001b[38;5;245m|\u001b[39m\u001b[38;5;245m \u001b[39m\u001b[38;5;247mtest_x\u001b[39m\u001b[38;5;245m.\u001b[39m\u001b[38;5;247mshape\u001b[39m\u001b[38;5;245m:\u001b[39m\u001b[38;5;245m \u001b[39m\u001b[38;5;247mtorch\u001b[39m\u001b[38;5;245m.\u001b[39m\u001b[38;5;247mSize\u001b[39m\u001b[38;5;245m(\u001b[39m\u001b[38;5;245m[\u001b[39m\u001b[38;5;36m10000\u001b[39m\u001b[38;5;245m,\u001b[39m\u001b[38;5;245m \u001b[39m\u001b[38;5;36m7\u001b[39m\u001b[38;5;245m]\u001b[39m\u001b[38;5;245m)\u001b[39m\n",
            "\u001b[38;5;245m    \u001b[39m\u001b[38;5;247mtest_y\u001b[39m\u001b[38;5;245m.\u001b[39m\u001b[38;5;247mshape\u001b[39m\u001b[38;5;245m:\u001b[39m\u001b[38;5;245m \u001b[39m\u001b[38;5;247mtorch\u001b[39m\u001b[38;5;245m.\u001b[39m\u001b[38;5;247mSize\u001b[39m\u001b[38;5;245m(\u001b[39m\u001b[38;5;245m[\u001b[39m\u001b[38;5;36m10000\u001b[39m\u001b[38;5;245m]\u001b[39m\u001b[38;5;245m)\u001b[39m\n"
          ]
        }
      ],
      "source": [
        "!python data_gpu.py --batch_size 5000  --train_only --partition_size 100 --noise_dim $noise_dim\n",
        "!python data_gpu.py --batch_size 1000 --test_only --partition_size 100 --noise_dim 7 --batch_size 50"
      ]
    },
    {
      "cell_type": "code",
      "execution_count": 1,
      "metadata": {
        "colab": {
          "base_uri": "https://localhost:8080/"
        },
        "id": "aKt2p8FeHkrZ",
        "outputId": "ec492b21-97af-48ba-98bf-22cf5e5b38b5"
      },
      "outputs": [
        {
          "name": "stderr",
          "output_type": "stream",
          "text": [
            "/home/zeus/miniconda3/envs/cloudspace/lib/python3.10/site-packages/torch/__init__.py:1240: UserWarning: torch.set_default_tensor_type() is deprecated as of PyTorch 2.1, please use torch.set_default_dtype() and torch.set_default_device() as alternatives. (Triggered internally at /pytorch/torch/csrc/tensor/python_tensor.cpp:434.)\n",
            "  _C._set_default_tensor_type(t)\n"
          ]
        }
      ],
      "source": [
        "import lightning as L\n",
        "import torch.nn.functional as F\n",
        "import torch.nn as nn\n",
        "from torch.utils.data import TensorDataset\n",
        "import torch\n",
        "from torch.utils.data import DataLoader\n",
        "from lightning import Trainer\n",
        "from icecream import ic\n",
        "\n",
        "\n",
        "cuda = torch.cuda.is_available()\n",
        "device = 'cuda' if cuda else 'cpu'\n",
        "if cuda:\n",
        "    torch.set_default_tensor_type('torch.cuda.FloatTensor')"
      ]
    },
    {
      "cell_type": "code",
      "execution_count": 2,
      "metadata": {
        "colab": {
          "base_uri": "https://localhost:8080/"
        },
        "id": "XGRKObiYHmSe",
        "outputId": "29e42568-e3c2-45d4-c815-2ceba3aba6d8"
      },
      "outputs": [
        {
          "data": {
            "text/plain": [
              "(torch.Size([100000, 7]),\n",
              " torch.Size([100000]),\n",
              " torch.Size([5000, 7]),\n",
              " torch.Size([5000]),\n",
              " torch.Size([5000, 7]),\n",
              " torch.Size([5000]))"
            ]
          },
          "execution_count": 2,
          "metadata": {},
          "output_type": "execute_result"
        }
      ],
      "source": [
        "train_x = torch.load('data/train_x.pt').to(torch.float32)\n",
        "train_y = torch.load('data/train_y.pt').to(torch.float32)\n",
        "test_x  =  torch.load('data/test_x.pt').to(torch.float32) #[:10,:]\n",
        "test_y  =  torch.load('data/test_y.pt').to(torch.float32) #[:10]\n",
        "validation_x = test_x[:len(test_x)//2,:]\n",
        "validation_y = test_y[:len(test_y)//2]\n",
        "test_x = test_x[len(test_x)//2:,:]\n",
        "test_y = test_y[len(test_y)//2:]\n",
        "\n",
        "generator = torch.Generator(device=device)\n",
        "\n",
        "train_dataset = TensorDataset(train_x, train_y)\n",
        "validation_dataset = TensorDataset(validation_x, validation_y)\n",
        "test_dataset = TensorDataset(test_x, test_y)\n",
        "\n",
        "train_loader = DataLoader(train_dataset, batch_size=10024, shuffle=True, num_workers=0, generator=generator)\n",
        "validation_loader = DataLoader(validation_dataset, batch_size=10024, shuffle=True, num_workers=0, generator=generator)\n",
        "test_loader = DataLoader(test_dataset, batch_size=10024, shuffle=True, num_workers=0, generator=generator)\n",
        "\n",
        "train_x.shape, train_y.shape, validation_x.shape, validation_y.shape, test_x.shape, test_y.shape,"
      ]
    },
    {
      "cell_type": "code",
      "execution_count": 3,
      "metadata": {
        "id": "NJ37TsaDqCTm"
      },
      "outputs": [],
      "source": [
        "!rm -r lightning_logs/"
      ]
    },
    {
      "cell_type": "code",
      "execution_count": 4,
      "metadata": {
        "id": "zYmpgOC3Hp8_"
      },
      "outputs": [],
      "source": [
        "class CustomActivation(nn.Module):\n",
        "    def __init__(self, input_dim):\n",
        "        super().__init__()\n",
        "        ic(input_dim)\n",
        "        z = torch.Tensor([1/4]*min(input_dim, 4)+[0]*(input_dim-4))\n",
        "        self.z = z.reshape(1,input_dim)\n",
        "        self.psi = z\n",
        "\n",
        "    def forward(self, x):\n",
        "        tmp = x @ self.psi.unsqueeze(-1)\n",
        "\n",
        "\n",
        "        # 1 - exp(-tmp) with a ReLU clamp at 0\n",
        "        # (since your original code did maximum(0, 1 - exp(-tmp)))\n",
        "        tmp2 = torch.maximum(\n",
        "            torch.zeros_like(tmp),\n",
        "            1 - torch.exp(-tmp)\n",
        "        )\n",
        "\n",
        "        # Multiply by z => shape [batch,7] by broadcasting\n",
        "        # [batch,1] * [7] => [batch, 7]\n",
        "        out = tmp2 * self.z\n",
        "\n",
        "        # ic(x.shape, tmp.shape, out.shape)\n",
        "        return out\n",
        "\n",
        "\n",
        "class SinglePath(nn.Module):\n",
        "    def __init__(self, input_dim=7, approx_dim=7):\n",
        "        super().__init__()\n",
        "        self.path = nn.Sequential(\n",
        "            nn.Linear(input_dim, approx_dim, bias=True),\n",
        "            CustomActivation(input_dim),               # insert the custom activation\n",
        "            nn.Linear(approx_dim, 1, bias=False)\n",
        "        )\n",
        "\n",
        "    def forward(self, x):\n",
        "        return self.path(x)\n",
        "\n",
        "\n",
        "class MyModel(L.LightningModule):\n",
        "\n",
        "    def __init__(self):\n",
        "        super().__init__()\n",
        "        self.training_loss = []\n",
        "\n",
        "    def forward(self, x):\n",
        "        x = x[:, :self.noise_dim]\n",
        "        return self.model(x)\n",
        "\n",
        "    def log(self, dest, *args, **kwargs):\n",
        "        super().log(dest, *args, **kwargs)\n",
        "        if dest == \"train_loss\":\n",
        "            self.training_loss.append(args[0])\n",
        "\n",
        "    def training_step(self, batch, batch_idx):\n",
        "        x, y = batch\n",
        "        y_hat = self(x).squeeze()\n",
        "        loss = self.loss_fn(y_hat, y)\n",
        "        self.log(\"train_loss\", loss, prog_bar=True)\n",
        "        return loss\n",
        "\n",
        "    def test_step(self, batch, batch_idx):\n",
        "        x, y = batch\n",
        "        y_hat = self(x).squeeze()\n",
        "        loss = self.loss_fn(y_hat, y)\n",
        "        self.log(\"test_loss\", loss)\n",
        "        return loss\n",
        "\n",
        "    def validation_step(self, batch, batch_idx):\n",
        "        x, y = batch\n",
        "        y_hat = self(x).squeeze()\n",
        "        loss = self.loss_fn(y_hat, y)\n",
        "        self.log(\"val_loss\", loss, prog_bar=True)\n",
        "        return loss\n",
        "\n",
        "    def configure_optimizers(self):\n",
        "        return torch.optim.Adam(self.parameters(), lr=5e-3, weight_decay=1e-3)\n",
        "\n",
        "\n",
        "class Standard(MyModel):\n",
        "    def __init__(self, partition_size, noise_dim):\n",
        "        super().__init__()\n",
        "        self.noise_dim = noise_dim\n",
        "        self.model = nn.Sequential(\n",
        "            nn.Linear(partition_size, 64),\n",
        "            nn.ReLU(),\n",
        "            nn.Linear(64, 32),\n",
        "            nn.ReLU(),\n",
        "            nn.Linear(32, 16),\n",
        "            nn.ReLU(),\n",
        "            nn.Linear(16, 8),\n",
        "            nn.ReLU(),\n",
        "            nn.Linear(8, 1),\n",
        "        )\n",
        "        self.loss_fn = nn.MSELoss()\n",
        "\n",
        "\n",
        "class MultiPath(MyModel):\n",
        "    def __init__(self, partition_size, n_paths, noise_dim):\n",
        "        super().__init__()\n",
        "        self.paths = []\n",
        "        self.paths = nn.ModuleList(\n",
        "            [SinglePath(partition_size, noise_dim) for _ in range(n_paths)]\n",
        "        )\n",
        "        self.loss_fn = nn.MSELoss()\n",
        "        self.noise_dim = noise_dim\n",
        "\n",
        "    def forward(self,x):\n",
        "        x = x[:, :self.noise_dim]\n",
        "        outs = [path(x) for path in self.paths]\n",
        "        return torch.stack(outs, dim=0).sum(dim=0)"
      ]
    },
    {
      "cell_type": "code",
      "execution_count": 6,
      "metadata": {},
      "outputs": [],
      "source": [
        "noise_dim = 7"
      ]
    },
    {
      "cell_type": "code",
      "execution_count": 7,
      "metadata": {
        "colab": {
          "base_uri": "https://localhost:8080/",
          "height": 893,
          "referenced_widgets": [
            "58d71f55243947d3886e87635bc315f8",
            "68756500bf9c47009305443ed7379a13",
            "8b47d826959341a0885ee32f590ec287",
            "d1e90c3d22454b4fbbef192269b8fad8",
            "6352ffc963fc44fc957c531657bb9d90",
            "76b6535de1a7487997c607fa55dd548c",
            "8e5acb4979b842679daab7afa2a7fa23",
            "43add22984eb49f98cee2e6f578ee49e",
            "a3bd601a095843dd8bebff6f98d25f50",
            "b0e6d9db1fb54932bdcfa8cbf894c8b3",
            "d57d1422d6134b2b8dd925ec95b9a5fd",
            "60d7b38064834bc9ad5ec22cc18c8afc",
            "2121a661ae4841cb882a1b3079c7c4ef",
            "bef6072521aa4ed49451b64f7a81ab7f",
            "17561407ab9147d1bfc8befd98efc3dc",
            "ba1e973c010d45ca993abb2ed522e203",
            "544d7b58ecd0472cabc82088efc39193",
            "f23d60469d954268adb3b0dac159ce42",
            "20f292383ecd4166b01df7dd8000e14a",
            "ce182066957a42288b34bc10de4ca198",
            "decdff61695e48d390650959538e97db",
            "39e3ea71e79f41e885fad72e6131cb3c",
            "39a37d324ff04eda86adc95cf66bdf44",
            "a8c140c4406a4eaf9dc29a3ba901d867",
            "d4215817f2054b598c51e4fac4ae7df9",
            "6ad4c12121ec4ff98df697628e538893",
            "d6a62bc8c875410c8837f632c28cd91c",
            "526a3f6a23f64861baa76539dcbfd62d",
            "e3e60e666e5d4a5c9f4222d4edac868f",
            "3ad1e1d7afac4b35956afaf6a5372f0c",
            "96e8b39630b948f1b3c67dc2a6bb7685",
            "19394ce2f6de42dc95c36400592009c1",
            "1126681d40d3461297b92fbb6323d4e0",
            "44cd88840ccb481f929813f5454b3248",
            "a9872cd3a45448e3add4c2ed6ddb19ae",
            "8679078021584e4a882e912d860fd295",
            "e2f87738fb2b407392058cb156347290",
            "47970b41b1714e639a391e12df0cc4a9",
            "3cb38353fa62426a88f3d3276c7017c5",
            "65be62c392b4429098bd3d2d3143b7c1",
            "b405b9157c4a430db8e18a757ba54efa",
            "fab912bd9389495099624c5079376539",
            "0334da2dfa844d56a9d758c02361c8f4",
            "6d1a09602c0b42f5a455020f0dd013d8",
            "09e428df6b64472ea0e71e118f997c0c",
            "8ab39e68ed2e404c8dbe1bae08552f33",
            "1df911d0f52246fc9f82d0eef142c7ef",
            "70fcaf43c0b24b94b9c0b3f7cff78245",
            "1cdc809464544406b5323f49ed734c28",
            "afde59e4479646bf953d7402ba67f3b7",
            "685cb4ad058247efb85faaf66cd25cb2",
            "618f955d37f146c888e2f873d9fe059a",
            "057e3a328ff34a2883b53b8d0a76d21c",
            "32bc54d0ffcc4f008143a3dc83f65a66",
            "c9c0555f246d4536afb04b39d9fa182b",
            "8de6a911250844e983bfefb0df59956b",
            "c4fb76ebaa994ee1bd91612c94ae385f",
            "bbfbf36af6154b49bc7b1b78d8144a51",
            "55771201c60546af85a49534be7a3f2e",
            "de2acd646389416198b4476c87c51cd7",
            "153373212cbc4a84a58153e3c420bed8",
            "4f943394131b438bb256bd01290b4cc6",
            "6dae09e477fa4ae3a0ffa40848420be3",
            "086fea5449b64ccaa40f823b2c5d89cc",
            "d8817242c69d40fdb1dd9ff08b1f52e0",
            "7e70046585ef455dac52ee5245ccfc32",
            "6e22d729564a4d38b4fed43a5291625b",
            "14a2bea22909470693195421041314f5",
            "38cd2cf64b044124ab2c7af22c5ee629",
            "63627d49a76f4b3cba3646104c9c3d17",
            "b0e00a5bdd264512b34f1e91ea9ff03d",
            "e866190939fd443b8b84c3484b1f6ec8",
            "0d3324f56de845199d6a9b505427bf5d",
            "3389cdfb4254465b9836776a5679f383",
            "20cac2e6d5cb4dcf8067ed6e456a2531",
            "a5e7a2a7caf343d4b252d67b9386ece9",
            "45028d3f1b194c6ba614223cfe81ea05",
            "e48ef14d43bc41f487e3564918ada689",
            "2697155c3c064096b9aeb7d8b0871559",
            "343410e87cfa42a1b48a07e15b094250",
            "9c52a8792555420580eec98c64624e87",
            "132a3caf16b74f34a80512f7212d6bf7",
            "74e99f4efff54c69b00204756dadb273",
            "12f2ba05201c48b79cad34bb262ac02f",
            "c64caf1fd93648739ec43f4b9d89c7b2",
            "1091dec1f3bf4cd488176192f9a132e2",
            "dd0d8df1089045b7a0d4ee986b314550",
            "5b8dbf565a214b359d49f941a6c1339a",
            "ba7f3ed3c7694dd8b63ba80b3c796626",
            "9e00f389e204455cb5524d0fb01c6a1e",
            "7a4a7ff6255145f7a66c4607f27f7c9f",
            "db31c7bca3c94d61b87d9e21e305f971",
            "3379d57d61b3499399a62fbd26b5b509",
            "e993def663374249b47ffcfbbb94c913",
            "9220f87ad7e247559c3ad88c00d8fbe5",
            "711585612ff64e92b130c730954d4041",
            "b4b743c93dd84898b5b12dfb3af65cc3",
            "3042c40e9d124e6f9427a0cd1b6cd635",
            "fb35da9301454732b3589589a7b647aa",
            "e1527065c7da4a9aa88dfa38b3e8fd75",
            "2256eb732b8a40eeb7b2d995c022352c",
            "d952bff3fbf146efb3e0914ec877ff3d",
            "507fdd2c19f54f759c4553b4f653dcc3",
            "32b183048ca643279425222ffd32ca1f",
            "595b39b8a8a74d17aa74ee80cbcea86f",
            "131944abec9e4a958608e5e2d092efe2",
            "5c0a8ff7d29a4b978723235d94a2a917",
            "825f53875b4c4026ba78d9dab241617a",
            "8ae541e4a22f4baba299f21142cfbc98",
            "41ae3d328fd544b38bde7974b6deac91",
            "9aa4cc6649c74c5687e1994679ee79a4",
            "a3dcf4e770a644ad841aef08358ecc6c",
            "9023ca2ed9c84d44853ab252ec53e3bc",
            "3ed6c25a0a5641dab8e680fe0de746ac",
            "922af52d6ff44fd2827a6c6c501fc33c",
            "3295f6c535da49e2ab1aca23dfc7ef6a",
            "385d23814c4f490e923b812e2b7715da",
            "eaaccefc75a54e7090aa1dbf38d80c1b",
            "ef39959abf08468e9706427d1ac4e5d5",
            "83a911841f684fc78cc2230419250fb4",
            "4dbb060867f74a4fa690a6fc8bb6d948",
            "7e137ddd1bfd48028c71bcca1ce1f4ef",
            "765b796bd13e478a86492fa27bd0a9f0",
            "377273efd28c4932a266b72b3c347c44",
            "19f7178182ec48a89b0680d7dac9c36d",
            "84e7fc8739b74616ba363e90ebee2354",
            "64413858cfb347e086cb55b1d842a4f7",
            "53be5ed072464ecda379a331ddb669d1",
            "85c6cbbc93ce4b01b1f89b53022bb280",
            "c804ffedace34faa846b6e3ce36314cf",
            "c64ea584696647f69d21bfd872d93273",
            "d3aa036f81f244f5bf92db8684dc5715",
            "18326f3eaca243e996314a7e747f64af",
            "db62534c06f741e6af1cc6e276fe4ce2",
            "4c74479397be438da094c7e58099450d",
            "6742ce2f7d7243a69508bf6b00d009aa",
            "f0f56740e0954c3b967df32cb3e765b3",
            "3cfc0aba308c4244a28560d64d2864c6",
            "0b9225734da94c8d8d7119807d28ac2e",
            "384aaddc795f49b5a9758bd75bfc09b0",
            "fe5f3507cd9844dd971d29e2568b6233",
            "eced229dd90e454ca85cdf2324f0d0c3",
            "603fb8c46a684b02b04b72629fe45549",
            "f3f2d45ee8f745b7912062ec4f3f7193",
            "744d67a52b5e44a889cfb162cc6a26a9",
            "c29d87c07e6942ec8c50c927afd15d94",
            "c7dd19b25ecd4571b357aa64b6cf4dfd",
            "ca178af18bf749cf84d5a6377ca9201d",
            "107d40c33e5b48f8a68304656674e813",
            "6a4496accf7c43aaaf4dee6b594034d0",
            "49cb299ee4b24b58aaca146fcabd954a",
            "4a2fcf3b9bde4e72b5e13caf2ab6894e",
            "a65d1dfe85364da59523208e498f4a5e",
            "742d649c3255458d8c0605412334a033",
            "773ac6b378954eb28a26083490a3fd45",
            "8503970a4740465a9c9763fe541179a6",
            "0694101432c04e86836e417430a41a54",
            "388fad96f2d041a5b5ba43fb89ce8508",
            "244040bd2b7143b8930761bcdde3262a",
            "ae22aed7fb494b628b7eca0eebc992ef",
            "e3ddb25f6e90441aa0c6fa1f3a71af7e",
            "8987007dd18c4dffbc29292a2643a968",
            "bc8c4d3382cf48b18cdc7e35d62ee55b",
            "da8f8fc2fd1d4dddb0c5b4757e72ed02",
            "5a669b6a733549c2bd8cfc0ab38f6f04",
            "7dd2f4772c0d4d26ac8d446fd2850955",
            "feaf8abeb32944b4b8609638e6bb2d29",
            "1b15aa3c2cbd4cb9a27f0c6106f1d884",
            "29ebdf5b448c414b9d7316bbad6aa7d0",
            "fe4722d724c54533b2b8a8632d05869d",
            "fc79eab32072423a867eb436cc4191d5",
            "b35f3e0e74964e5ab5232b9fc8d08e0d",
            "ce9a5621961340018894e43b89235ffd",
            "29e95eed740b4d97854868a87a8c0c21",
            "a495ef5c2a014cf1bd71424e0103744c",
            "dee86dd1eae6487baf62ddccaee6dd1b",
            "79730338b37f481dbabb768ecc0992dd",
            "30c5472acd0e496fb4455fc94b7b70c2",
            "b3f43af5ff554d2c89b43713fe2ae183",
            "9bc0313f6bb64a41ba38bc56c3e2392d",
            "c0046e456b5d4d9e9c28a8b054314ed6",
            "4a568b7c5b0e4bc4a306e60a2ae7385a",
            "da53e665ff494225aec3a383897d7b37",
            "8ea6f517644b41a0a461f1c58cd3a451",
            "bbc1745557e74359a9f9d21fa76b5533",
            "ee5cf38d38ab4af8a1d967eabc8eaacd",
            "c0315fc5753f4fbba6b0515d7973d1b0",
            "d81bbe5258d64fa8ba8d6d4de19fb749",
            "b2ef7a5ef8e844e48dc7faca9932df0d",
            "e076b482f603446db2e5687d4a68413f",
            "f29bd0805d2a4779b7c3a905b2533139",
            "ff91601122a34b60903e4836ca7d38fc",
            "5c63d8ca41b64405aecedbb440dce94b",
            "0e65cdea9b1c4c88b6eda845d01dc061",
            "f7bcda52e70246b4b83f7da4e7aa3a10",
            "6f49c3e4536a4eb9abcbbaaf948e0183",
            "bbc8f86e95e44474b8270bf67c1f22fd",
            "806bd23fe0314165b4ca5987c3ac0781",
            "df0916e9dd87480d8d212a0fa5a1c8ae",
            "af0717f84cd04747af3d5f3484c678b8",
            "d576223e85704fdc9b30d3b6a9b74f8f",
            "0d5945ea636f48a39c21f5ddca067a65",
            "84a528727b384de2a03317cf4951e2bf",
            "2615b0b1703a42a3836d631fe4f0b346",
            "c2e2931e321a456d9770d8d0e8f1dab1",
            "913d9017368641ffae3c514f5060440f",
            "84d109c047794c2ab1b26b9b64272fc3",
            "1ad30f4221e44d39a1a02392ce58aafb",
            "f1d95de6bfb54640bbd1430a2d72ee0b",
            "45821a37f42045b08026a5b6adc02e68",
            "aee6975b5550432a9f8e4bbe70df96b5",
            "817ffaa63d6841dba59dc936fbc8b0ef",
            "cd2c2e3f701f4ff09e59d156944b9ed4",
            "554d8b187ae64902b269100b2f3c3fcf",
            "83321f955ab14344bec3ec40b4385269",
            "f5f29419f86a4a9fa4583b53215ce27c",
            "906734114cec4ee2b1d70997b8f11811",
            "52b6b6f2ce0f49de9b5ca238eab65a3b",
            "98057c278175453b8f950af935763388",
            "6472eb0e886746699f8016dee17a8735",
            "46094120aa9748cca3f4f0abc8add3da",
            "ef0135264a044f6992e3825777f21cd2",
            "05041090724b41eb9fe81f844786ca14",
            "5c2496d32611411f966a28a32a9626fc",
            "d2f5839cbe68498883164ba921ca7a72",
            "c6b58d018eb0431d9ef35419a156f2df",
            "832a7406109449a1b081487af3f4b3fd",
            "36cbad55f7994b88841f2d2a69e2383f",
            "07e249b1cf5344b4951e9a0de8e15ec2",
            "d4f12f614d1643f7a8514fe172c20509",
            "3809c066fb7f4846ac5012bf6a12872c",
            "45b3b7c33ca54b118bf02e489e4f3afd",
            "bc66f20f04444667b5c3e4c273053b74",
            "3f7a6bff5715416ba86411be6f5a7b8d",
            "33e232851f3747899105b11466b79718",
            "62db6ff9f5c449e48899314797bdee90",
            "126948d40c5b41f9a4f19bbec52a6061",
            "94bac17f44e7456cab360f91a2e9f1aa",
            "ab221cdb6e63424789e585a2aee7af12",
            "fb61db8df7d04205b8e051d3c4db8d3d",
            "a0635a80efc240298ee2e4e52edcf76e",
            "71f1c7aa7c6747128af00d56f67c6965",
            "1d7e713a705a4255a8ab3db098dda26d",
            "b5f351fa030b422c937ebda2092cef41",
            "6d64309df5be41399f68e781b3b4fc38",
            "242410cfe51b402a84a25e01797ce3e3",
            "166f33b8748b4213be1cc3c44c932b34",
            "b0ddd437b52f47f98b0d69a3d558a13a",
            "20b9bd689cff4033b48994f47e8ae10f",
            "3045c22136a940e380eab2950fbab566",
            "39eb291a43234b20a4183293c30ece11",
            "333856874af54a2890d38b60835cb484",
            "528cf0623dc34e61a08c202acfc01a79",
            "08376a02eeda4c70a9a5f87eca2e5ff4",
            "1adf1bb3ac34469aa4e11041e0723571",
            "30b9d3ab065942de9baf88a0a3a03717",
            "0f4b334648f54ab0b3835312f4180e67",
            "c873c839c81d4d0c9063111297e8e83d",
            "2fa20f8ca50a4a02b30878866c7166e4",
            "49e8b4f5777b4e6eaef36ef097d3f71e",
            "8d4ffef11c5e45a6a42cefa2558789fe",
            "c5ae4b9ed3a2456085eef3b42fcf4cdc",
            "a0212e308c8d4dc79efa2ba3ba78d5d4",
            "54f0a93d23c3408292f095a9b6545a42",
            "c5986d49d656455c8fa7cfeb4bceb6f2",
            "59ce2d731f7741ebbd7fe980625b6d74",
            "a3915fe934e34b3a8c49f2248355d024",
            "ef5160b96b1f4c3a917f99c139e59add",
            "7b2371c673474a37addba4a198732045",
            "9fe31c627bba41fc8ca05b9182372391",
            "5223eebc1bfa4e19a927021ca7dd3ef6",
            "144b976718ff4441b2d6f45f16f3de80",
            "4adcd6f3a2b5449cb4896e5ba352db35",
            "0200886c49e64d07b73f076c58647e4d",
            "0260073edb39456388dcf8abca7ee457",
            "c7622a4b0a754c15a5847523ff71c817",
            "895c8270bbd84195b018c843cb9abe65",
            "2e04ba82ae2a41b1837586f94923d1b5",
            "22bac928129342adbb24eb043d82ae76",
            "5598fdb4099a462b9bbfa6fba096921d",
            "6b3d7a48b26f4b938fcfc1cdf1733970",
            "a701703d30724197aa5a20a70ecc17ea",
            "8daebbd84ae64bbbb14933161c1d4608",
            "86cfa4d23d03448ab32aa3f4c45e1889",
            "c7499c8a8a014e26aafd6792c88d9acd",
            "ba1d4d2b1cbb4a99983a71ac7882ed3d",
            "3684c87a471f41a9b5b2e849bc73d311",
            "d88fb5934511424da22bbd7104cef103",
            "3ab94b2f5d884e0dad0bdac7422cac9d",
            "b75403b057cc4647a53ac0c5c2e88a0d",
            "a2c80a4070264470a1930213ac053e9e",
            "28eaa9162a054166b52d244d49b432d8",
            "e58d0ddb14af4adc924862914ee6f36d",
            "2e6b488a3b904982a3515750fdeb544f",
            "38bebdb2693b448e8ef911c46c717761",
            "d4cb926bfba646fea32a5d389e0fabde",
            "2846de5ba96a4356b41a2998e262452c",
            "d1603dffd3314c16a63ee19fc6da63ff",
            "68711e38c0044540a3a1d3ac0691ab3a",
            "c93c5b19fa5a4c6c8be264a804b7c462",
            "357783a5af5944d3aa7b7b8e8fa9e76c",
            "2fb88be74e194f0a88b3c4d98e740635",
            "000655f149c349ebb9dc0650a1b6955b",
            "c82d897eea284ba390c2d1ee625b9947",
            "70ec802a67b34162abe350cf3e3b47cc",
            "3cdae635681e4649822309fb561b8525",
            "ea8f6fc40a564f8c90df749e086d94c7",
            "3e5872bae9b7421d9be5dc883a98eb68",
            "b080755a83294a0481644dbe65cc158b",
            "ffc60a0c9d534dc7ad427b271c05aace",
            "b3630eed76a949329bede7d5c8f0c1df",
            "2b0d9a4ef75e4036b43bd2b24a8556c5",
            "d928df8686e74ecfbc5ad704f64ecb28",
            "23446a0cd3c946a3b7b41cf57446560d",
            "d2dde6b1256749ac9e70f6b9ae9cece0",
            "7da558904bb94cfb94531ca76ed59b4b",
            "c28906c765a142d29baeb28a8b13950b",
            "fd08a90c989048e4b89138f1752633ec",
            "bf2431cccb9a4092bc6fddfc213bcaf1",
            "b37af139e05a4a31bbbccf6ce47433d4",
            "7b3054dd15e3456696c486878e80ce46",
            "1cbc060e9eca4755bf799b4277ed7ecc",
            "1e75aa8367cf4396a5377834a221a75f",
            "e18b0c690b1e4639b808a20ed0f19066",
            "7500d5b431e243b98661d3b1533b0933",
            "1b7e6796ad1e40f0a67d6eb220442b07",
            "22ef1f401f5c46319e29c182ba59599a",
            "135cbaceaf384a39a4a6b272f4582785",
            "28cbb2f9323845338ae9074156f7c433",
            "6538efaa43014c48b0ae6c09d56897fa",
            "4fdb1a2d9f7a41c3b06811ba8c2cc40b",
            "c4e49d7c76a5478989bf155bd1754d0a",
            "bf249ec51ffb4eccb86fbc95418d9b38",
            "21efc8a0df3243179be114558c9a2b14",
            "84aa6623357b4a29a12aca960c263436",
            "6eb7a285c4a34d9c949364a8a4a15b67",
            "52fd09afda97407f84624ed43a88c072",
            "9aa698f2263744bcaf7e94c177ed6a42",
            "a425afedc201451885fbfa7ff02597d1",
            "857995eb0ad44ced9e9f51851926e33f",
            "23ce616216bb431b82966a5845898221",
            "e1a4884ecba844fa8beaba257ba0c0ea",
            "8598f90de25041278fb6109d581a7391",
            "74338a1832c34a35bc66cd5080535e86",
            "05379cad15ef4016a6b99fe3fe55b3eb",
            "6e605cb7b1aa4f01879d0388274470ea",
            "16c5624cfd2c4e6995a55eaa345ff21e",
            "639ba23c6ae74f1aa982658daa01d264",
            "00bc626fb4834d67ba197121c3cf902d",
            "d190b721452143f58bdffbc1a67b64f0",
            "c574c39127d341a394895a30529b2107",
            "49ecf55574304d62bbbabd8297d5e09c",
            "fd65cb87cf0d41c2a080fb34aa57ba1e",
            "c70a0642e2de4784847c9fb1357b3206",
            "b332798a30d34b92b3b8e5a7776ae98b",
            "afe7ce9f534147b6932d1135e76c10da",
            "be51a3f33ce14885b29a036d05939c53",
            "94a8b3b9ba0848abac452b79c7cf85dc",
            "b9a17c56f4da4bd6a57e9b41f9e6a04c",
            "2357c14a7ca84d46bef2d4263dbc7025",
            "2dba3570557840bbaa43c2e37a43f04f",
            "170fe0f40445448982794994df61a90a",
            "512e7bcfaf4749a5b715c80f70ee3ba8",
            "eea58960e9da43e2aa0e8e87b7d7e338",
            "44f1766cc1f442948d2f4a932a413db0",
            "608cc87af89b4a5a89cb94595e4bd8dc",
            "fcbb59c6450f4891a9d8fa228ad1278e",
            "655f62ac378b46e4ade20d41ff2c59db",
            "9df48d700da34ef6a4cf622b67d951bd",
            "d3de8858ab1b40f3871d305f7e2596c1",
            "33734c7a11254fe5bed1669f8026f6e5",
            "f28e62037e5c4664bebbdc4349b02410",
            "58e9575ebd504b80a3d08efa1d395e55",
            "6e3279ab647f438197a87910c230f828",
            "13be48134aa34997a87225a7b18c2c77",
            "3608a0a9597944b2878e5fa9806d649b",
            "84ec651570d34568a4c40864f428d536",
            "1d263149239a4bd6b0e23f0cef66b712",
            "2731cc4fb649469883226ed7a92360bb",
            "510a7c7b58e543dd83ad57bb1dfac2ac",
            "eeb343f5fc8e41abafa22dfe819650fa",
            "5af4515caaf347d580547c89de12fd9e",
            "029cd5ec99ec4bfdbeddacfa4b33738f",
            "7a4da3d0cd504114a039f9e16546ccfc",
            "7bc896340a6a4d9cbe6f26a6f1a9d763",
            "1f48fcaed2da436ba102f8d1ebb61c7c",
            "99c3e5b78c2d4186af3c9ff0269541fd",
            "d1ca68c9752a483b916ac71c854ed5a4",
            "25b4681cbf8647f181c9e4e46293b009",
            "bad7c9b8fe654fcea6c5559cd9cacfa2",
            "6e616b6734094abd9be54b1a9d006d8a",
            "7e37e8b7a90b429c965e0f14b37bc17f",
            "81b5577d1e4a498e8d8c63297480becc",
            "944690fe3bff4bda95875484a3ce9c89",
            "c3c045e6bcbc4d97aac612bfa07b1b5b",
            "e4bfe06b2bca410c9ea99c8219e5e6e9",
            "748094df316b437c86a373ce0da446f5",
            "f88dc793a34f41998be05435fb234ea0",
            "1e19aeb1e6b943d2ab24afb438e50409",
            "f1b1901b68244939a293bfdebafdfe75",
            "3117ddbaf7654e64b85281cbd2de64ae",
            "531c3dc05916414189e16da36bcce4a1",
            "cc1e5a263d7440bc9559baf3de6cb988",
            "1ce8956ba3714dd4952400b47dd182d8",
            "3e8a801019e84c679c35cac30a3896ff",
            "6243d5ddac2f405f9591d7bc17fa3651",
            "30a8fdece883423faa62475f79db37fd",
            "aa41b7f477404304b0e81afa84175a9b",
            "084ddc92645b436dbf7423ff57790876",
            "36684b68edc9412daa8ea2d3a34c6e51",
            "8f26ec0657fa49c7bf25197e453ea543",
            "86d522a53a714d608088f26791b6b22c",
            "dedf788de9b54ca99f019323997b655c",
            "5fa126f4aed6441ab14f1dba8bdfb16a",
            "4bdd4098820f490897599dd7ad888261",
            "c2bce0b99bdd40c6807d43056fb24e40",
            "c09c5a01517a45178294f29ce7e638ea",
            "35ede6c90e594d289d9c862795eba1ce",
            "2e46e4a267e54837ad5a74ee79f57708",
            "3f561a87339d48019303c2ae05d37ec8",
            "73e7250e5a6c438eafd93b031df3e3b4",
            "2c11edddaf6c47d1899705e7a751b1b6",
            "41b4535cd5ef454c8ae3899fb038bd8a",
            "a7a41ed1deec4c6b97432fcf35b3aa77",
            "fb110514a92d4fdda8040a05af9035bf",
            "383d215d16b54e359170d39eb5b7238d",
            "31de72ae8ae34cff88eaf75af6be3363",
            "6c5cb589fc0c4002b141ddb0c4fdd16d",
            "331e10d9d57146acbbd610db554a690a",
            "b3fa057d44324f49b96fdcfebb001126",
            "655d679c8be34c6b8033c97fb39df8c0",
            "cf486461acdd4764ad67b206046993ba",
            "2af62f1271c54fac904e2584e34640ad",
            "729fc3624f754932b02853be16a05799",
            "e5207fe408544994a817227f4838309b",
            "773abbad682f4225bf344a6ea7240284",
            "78d80ab7773c421ea6c1766b746d1566",
            "4d8ef52c756d4b78b13c75d1ab266595",
            "b6ddea16704d4a1d8759b1cc8fa58d89",
            "c6d5fdb1701641759c380ff4bc287e3e",
            "3190886a753042efa1bfcc134026b100",
            "680dbdc3df3548d5a7015afddd6e5a6b",
            "a22fdf0db4a4424f83b43fae4f1e7b88",
            "fc4d7cd728da4e82be26c5739e7dad90",
            "792ae8bc711743d68de66169f3ad5958",
            "3d31cc1e05bc4eb7942ac8eac5252303",
            "281068cbd652432f96ede6e0706553f3",
            "0ea7cd9e2f5a4dddb67bfe185a98ede5",
            "365d95609fd64b17aded3064d886c7ad",
            "dd532dd1c785404fa918b8723cbb2aca",
            "5fd1aa5a338f426e83c346e759358fe1",
            "bf4bf11d26e543878a5a0732e0ebc00f",
            "c9599f81ba7e4c20953b3df6e0e61ea5",
            "b274a430180c4e09bdd29715732671c3",
            "4e401749dcd044f79648a6e24924e466",
            "c58f6fa40601422cb4ab5b476dd9445d",
            "ce9c548aebaf4bb382442130827b85cc",
            "ebe7b212a28f49208d7ee888d7781450",
            "a76c7b8d8ae7413ba35a1e5bb4048e67",
            "0a2565cad2b44b638fb042724fe1856c",
            "c79ebad77dbd4ca59ca795f08097d175",
            "285932b2af954db58e9c68c2ce727caf",
            "0ba05392bdc54b1fa9171fb06e5952d4",
            "d65d5259e3654f36bcfb9b983b2b90b7",
            "221c2de6b7fc4eee96cc43ca413e6e1a",
            "44ac8b7ff7494340ab24d48af416a604",
            "ac33dc06a95948aeb73a0d33d75c71b2",
            "b408a7e59aee4d22bee11d3b3a0f5ac9",
            "479b970383fb449db7ac162e7efaca9c",
            "ca9a91426e2949f09558ace763114823",
            "11c9b429275844e084b346748422ce89",
            "dfdc4f8dfc5b4240b6d6f582533a7103",
            "7490d7af45194354b215159057762756",
            "a5f7914058db4aa0b6d2c413efa629f2",
            "2877ed3c6f094316ba4949bcaf0d6cae",
            "82956ae4dc364dcd88a6070ebc2cefb4",
            "f6f06ef8f16b4ac2933d9d997a9d049c",
            "05be93e0c3e042a987d1469b28d65e29",
            "5333c7b1b3d74dad87298a5f86ff083b",
            "e431d729a58841708cc271a8481447f2",
            "eec3e7027b3d4981bfc9a252bf2ae813",
            "8d32c571444e48cf99c69f1be8b49679",
            "81c079389cda448699a1fbef7f234e66",
            "86cf2b3698b04421b57b25728d4b7ea1",
            "a31a4f51319a48bbb70b52b2a0c81146",
            "87e2d97cece14329a326e624d8ded528",
            "7d011dbd980b4c5a8a756f639f364658",
            "e8a41158c508465fbfb84ef943c72f77",
            "15e771eb2ae34e8289f4662ef2e1f357",
            "8b537c0b6229431a99a62382f31f50a9",
            "fde581b5c3fb4c00ade96f15d2f99a15",
            "7ea7ae8ddf9346108d263e7c67ff5f94",
            "93583fa971f146f5a59c786d78030db7",
            "4a01418ab2534358bbb3efa60a961127",
            "e84dcbc500a640d995bc2e6c1215d59d",
            "0a4613642abf40248a8ca4d9e1b48c5f",
            "ec0d125699b44d95b8d8d78255e65b05",
            "997d140dcf704b4a9e334228e61a178e",
            "d020b6389d144fcda6f30196c7972551",
            "74080bcb13624375bead21c56abd92fd",
            "81c815cd1a154321a3ec3cf0c67db263",
            "7a7cc4e7e8cf4d77a4e90e4d1b798c5d",
            "162a6dbe60b947ed979b781f38e1dd5a",
            "51f3947efe244c57a18749b93b9b81e0",
            "6c3ab747dcbf4ca8b0ffec5ad218c27d",
            "146051aa623340d88f5b15410f7e3391",
            "1ec8c225272243d0858a3c8f84eba4fd",
            "7536ffd188314976939bdb6e13fd794d",
            "66120ab33fed4cb79e5f7fd1c36899d9",
            "8ba39d40b2f147d88aceef62adcc71d8",
            "79c5b6adeea84872a7d59aade0ffa5dd",
            "cbdf9187042d4d039427c8081cc2b82b",
            "3a899f0dc1ad47cb9ee3045dce80368f",
            "9e2c0e3e567f42e69203a3128793e768",
            "63af0305f4f048d1be3b70eda95f3dca",
            "7cf75271520f428ba73adb0f68e8cdf8",
            "07e0265b4c4f401795c77f26fad33b1f",
            "178d2c2e340645d28b221ad529c07ab4",
            "cc6374e38e7a4db8be9ee7c5c6943fde",
            "0a972c20a9c241a5a9c86d1f2321c4ff",
            "37cb2e87c36e4e84b5ecc0af82ad87fd",
            "621083129c61401f88d3b2952b0a9ab0",
            "e25854638829473e81a59807aac850fb",
            "dfb2e2e9077f4998b04909a127a67e34",
            "aca14a199b634a91b81f6cd37d129be5",
            "bc748aac7cd44d2585a0cf8fe332b606",
            "664646f72764496b9afe0ebe1255e36f",
            "500b45654d7f47448e43c2f9b15c0bdb",
            "f9aee883527f41d1b9c9128b82241be8",
            "2524095273b5423b88a9772106993ec7",
            "ca6f9450b7f9442c889b4d22ec63ce49",
            "08ffd59927d24f36858202237f4313be",
            "b1b8ee66b199408889f5b22ce43fc1da",
            "2dd7e4c42c0443628a1cc5a172de50db",
            "577c38139a99496fabdd9d45c7a3462d",
            "44f0b412b0a04458bf0f713af6187fe6",
            "c2ab17e8d4a84b5a8c66affb94a52d8c",
            "faeb7016d54341faa97b432842c3b3ff",
            "acdf04fd52ac488d9c1f7ca2129b05dc",
            "b643d796fb644419bc6b25de1d6dba19",
            "3a8e38b18a6f4a72ad4377367be8dbc8",
            "a6cc841fea0f4bc789178093a5b18ad6",
            "d707d2146e3c462489498100ccf65760",
            "1c491ed369404afaae42bab988486d5d",
            "7a1c7d290274481383eaf37a402a49f2",
            "67bebc6d0da148cd824e5e2518f8c452",
            "b396a1ba706247319181f082308cf5c2",
            "03f205c0a28443a5be6c075c40111bd5",
            "1eda8fab798d4b98b02457aa76ad3b60",
            "94cc212aaeb6437ca51bf068d670d2b7",
            "470a35cbd473450c847f564306e8eb98",
            "3b7f13d986084168b7867a174b13e21a",
            "4b637db8a90645e69a8b0c0779dc0605",
            "6c4654c75bad438fafe826b0c24923d2",
            "3be075f936804889b13c8fb6bee53cfe",
            "c685ba6d990e4bb1aa0643552b16b5b1",
            "40b603fb1d0045f297bb9df224de1259",
            "eead421962214271aa663be1025f1a1e",
            "ecb379b2218349be855fe361ab2abfbf",
            "8c0f130e1e27455aa184ba235d8acb5d",
            "86a9e610beac49b7aa73d13cf382f086",
            "b097209e1b5c4445874a30cc9cdb6b43",
            "d62900d850734c5c82cead325a3b1f83",
            "17876676d9a84139b61c040b856e70a7",
            "8c2b0ae1630c4281ad2a507f3c14b6d3",
            "747121e6e33c482e94b9654d67c595f0",
            "48fafa1dcff84a578ef50fe6fe486ae4",
            "6304c8ba74914bf59ac98cd4542a4f38",
            "cb8dd75c07b648309ac5b81e7bb9040a",
            "64f828cfa3fe4349ab4916555b23bf5f",
            "8cab15b5dff040c4b6d1b8f869f5be6f",
            "5f87f78cb4954a24a678a8f0824ff6b1",
            "66cfc509585240e7b406d97345e4d8ba",
            "9023532d5c02488e97624f3e0bfaf950",
            "147b007480f84e7ba9408097df64779a",
            "5336c7e44b644eb48cf6e8fe8df9dfea",
            "c9a1d5523c0742c98479c2a0f5c26824",
            "4361bf8753614950a9f057eb40a6c048",
            "55a531a95207488da86249067074e9f9",
            "aad2577face64706be8a4ed485fa56f6",
            "c4fea9ff907c4a568dd83a2c303102f7",
            "d64a273c3b114a8d93fa3a90b2db5713",
            "096f4e3fdfbe4312a1cb2f3b25ca3747",
            "eaef06f901a94be998c92e1ad1388f2e",
            "2bce8934d30843109873f6af01fcfb9a",
            "21541cc3e5524f938987fd5ee429d6bc",
            "f928654a12a541c5a432a89180d1487a",
            "5dcfc0ecbe134cbc9bae47f6d38566f2",
            "59258dc61e804abbbb74506382a12a16",
            "bbcbe79e15bb4b58844dba3996ff8aa4",
            "b90e10c0e49241058dd0736a891c9515",
            "33f3671c5bd240aaa6fb610b248ab786",
            "2d9e6581deca40299280cf45a57c2d24",
            "a5805d1aa1c7423b81d5f1d4660418d8",
            "f7ec202ae521427a81c3e7309ffa559d",
            "6d7b711c48824e2393fc4ae32dc7ba71",
            "9b9f71cdf569465c9e201351a76b5474",
            "f7932aa4d412404c9f896a9204af2c13",
            "42a4be56a62a47079cddfc0e904b6594",
            "abdf702d735247d2b6e9918fe9cab50e",
            "a88c80239462473b856783a1d709173d",
            "872abc29a13941d4825854e82c14ff3c",
            "f21ed8711f3e4f469f372ac9f1a40311",
            "526c6550d7964982bec46927e8f9e123",
            "15a70a81e1d141d39fcb9f9c0cac96ad",
            "7d02eb5a598a4cfd91a6c21c1615b64f",
            "2d4f6f86ee1642f08ded2746b9a3aec4",
            "a9f0e01e81a143d5bc35d8fcfa6a9d06",
            "db42cdb55e08473cbfaa61212408507f",
            "c0bde2040b824187b07fa5eef71f360f",
            "eacf9cecbe7c459ca832b44803c89d27",
            "7331fe4b99214f8fb0e0d22182606672",
            "8c5f1f40479f4ff597b4b2542a1e073a",
            "1393723085ff47d1aa07d566af52013f",
            "3a3d9bb890424809b5bdd591e91b47a0",
            "a1acb8e8fb6c43db939a896431f1c185",
            "ac1b17f0ee4b45458a101bf1cb635491",
            "62fd5225353f4bad916bafa5043312da",
            "0fb5a5008fb04e91b1c72b5a19281165",
            "b25cf33f89904209847cc6cc0f85232c",
            "6cf6ddd341f34033a40c1a2de9a013c0",
            "c3834ea0688c462cbf2af4f21f5bade4",
            "1f316fd6b8f4479a96423bb9c07d1023",
            "8d460e72e3d541faa1a2e149fd368fc6",
            "204777a085d44676b18658ff0d22cf8d",
            "e35ac02f39d94bc285259c0b72a06828",
            "3d6de60b1cb746f19cdc7a3113b35532",
            "a0b579ada5de4c4198e5fa9b1ac17a75",
            "4c9963bcc05a428eb80b3b483617e584",
            "a7edb5b53c4b4bcea2d119b0e01e899e",
            "dea51dd11cb04100a5b72272f85654a6",
            "a51f70bb59f94432acd1b8cb8b0f60d7",
            "908d0d532cca457e8ad3846fa95d02ee",
            "9d49dd882d8d4ab1b9db07b78a93f138",
            "5a486dc45b68410782997d46f3828917",
            "9870d7df60df4558befad93ee2e105e2",
            "7b44d829b3bd4e2da42d921d1e1d1a13",
            "77af4aaa0cee49e5af8fd278b0729007",
            "12c0b2e19e1b44f8ac91b59a3381123e",
            "f41d9240f3af4ba78f164e738fbc0a97",
            "d528c2bcb7cc4ae8bd6eec64e8d41cac",
            "7e1ad5943cf34295ad528d7c52e3c87f",
            "188c83ffe7284181aa898f47de3097be",
            "dd1d7a37e13a489dbaacb847a20353d9",
            "8abdf127f0ed447fa7a5eb1ff314b609",
            "cdecef3195a14b85b46520b020416206",
            "479f59307f5749498d1b00d5adf61a8f",
            "3a5d7952092247d1b822ae3fc1295ebc",
            "09bc577eff1a4d9a802795c663c6adc8",
            "8339a3bce7664aa08417313306b13129",
            "6668c0eb69e74dcea36b9cc61f412281",
            "3ddf01a83a2748b19fb636690db62962",
            "6bba8e25a96b482d9e3be204d24f2c77",
            "08308865aeed4cefadaa2fd3e874ff3f",
            "4aba91f9c46c42eaa7ec4b4d0037af4c",
            "036dba53d445446dbf87912453c47484",
            "1b0b83d18e94404084a33affef7896ba",
            "75b7a67bd5a34551bf4bbd4de3d41edd",
            "c82d6abcdcac40e898441f02da42d7e3",
            "40ca1b4bb4ba454d9f33a216e9d0e427",
            "f7c0e8db39014dfbac842f949eb2def3",
            "0dbdbd7551eb4ed2a70a35bd1534f3fb",
            "290e64cd12a4472ebe090cf967422a67",
            "d4635712a3af452088b6c3e093bc9e58",
            "9640423cc6e6428e94d21759b09a1de1",
            "6e97183aeba14da0ab1e851f5662cafc",
            "4e5f42d694694fc0a1e99f654f921191",
            "52b84a06bee4461a919b1f3339c97d44",
            "afaed32c5c7a43a98b94538e6ed934a7",
            "13f1e8d52d9b423db5f92b068f775533",
            "0b4cb70aff014367b6cf93d319c40c4d",
            "91ebf9fc3ca445e0a61294eb5164deba",
            "2b7a3031f01d441497d630817448175e",
            "4fc8b11e8ec9443e99a3971d632cc68f",
            "c35f59dfb5924e02843f2e0ee9e3079c",
            "804f420befc245648fc73e6cc8f4bd26",
            "e92c06f0868941f986e332ea5f8b0c35",
            "023d780186e54929b201faaca219a318",
            "a795cc32b03449a98a29de0d20eca0a2",
            "50c3e94ed39c48c7bcaf54c899f558e6",
            "88040e4a0f5147318cbc6f2c23297005",
            "803e5c0d8e774e328550cc12d5bc4964",
            "fe80c72b256c4d6498f30881fee2cced",
            "c9629f8e48a94f0498edb7018ba7aa85",
            "694c793789d946c6b77e82a1f093a4a0",
            "707c8f90eeaa4f74a73143751475baab",
            "2b7cfb5c62674c3aa8afbe36384491f4",
            "556ceeaee26340a5bb13585344bc3c6a",
            "157ca6604bf24cfaaeaaa61d854680fc",
            "7bc84983acd044e09966dc9a2567267b",
            "529ff7c041ef44c7abce52df486d9e7f",
            "3e3c29b70b74447baf117f4394399c37",
            "488d89da976b450eae205afcb1068799",
            "cb269f323bf94781844dc77e4e9e65ea",
            "5cb1c4d787324e67ae8fdf6c00b5b28d",
            "cfdfb74d99d842ed930a1d39467545de",
            "2d7a8f5cd56d456f926176b86f14a40f",
            "9d63591d64bb40599ce2e9199b0e812a",
            "01c934e7dd804166a97df12fbb629017",
            "1d37e3f7dae74af78fb4d589f21bbeef",
            "f2ffd6fbaf57416788427ab34f8a527d",
            "74cc601ed9f74e288a1b4c96fbb5332d",
            "670563b74a71482c833a21f3dc6e6e4c",
            "7689acf9ac80474a95499adfcc5d4064",
            "6d0a49ae696e43cf8762da890916d7e7",
            "debb84214fe3450e98b242f38a32d750",
            "6afde23d094d453f9039f66b48373ef8",
            "ca6029dedeac4e7fa3c280e586d1b9b9",
            "d84148d420914a1da2d970568a63c53b",
            "7ebf5438b4974b83a6e7b0a17cbfa6ba",
            "69aebd231bd34f979da23d8a608509f1",
            "b7580b98bf1d4561b03ef738763ea507",
            "3126d6d912be4ddba84c9c23b7d15a23",
            "ab78cfa744c44986b01f91ece585bd20",
            "64da76bd943d4b02be8ac4b8ed96174c",
            "e343dc82ef574620973582d54b0cd0f5",
            "c3a17828ab924a8abec86688a0fdafbd",
            "2e9432e2f4ff4bddb62eb708fb988d44",
            "b7635bbd4f5f44c7a97ea39ab9f54963",
            "d4ca9570c35e42d9925f5ba5f95deccc",
            "fe7d8836f8544f5797f50e8b9c71ce11",
            "9b8bd2e1202742df8ecadb8a7c086a1c",
            "91041ed6424145169a27c8e7cce50e15",
            "ce1451fbbeab482e9a31456665ea1530",
            "b07315c50b004c0fba01b68ca7270090",
            "ab2015742d85439e86970aec0fdecb65",
            "125ad8f1cb0f46eda5cdfdeaf3cdeb91",
            "29c878f1c66f4466bc4566edd11208a2",
            "044378ba91024a83b4c9a2a81a2b313a",
            "8c78201d9342472290799a19983e5484",
            "d1fe6aa998634e1d8d392d8eeee36fbd",
            "d7398a99cf45481285f5574a29e1bc4d",
            "db73f27569494b9fb85e55444834ff9e",
            "7ef48f24887b4445b7dd7260a95af4a8",
            "80231a571eae4c59b972b5a752f1c224",
            "03c90ab9173e4a76a6e217ca0f2029b5",
            "3b3df3a7cb8c440984cea522cf1181a8",
            "75c93bdc00e74b66b9db466f5268013c",
            "ee22168723c34681a3abccf61ce8bdb8",
            "e0ec98f16c9649cc8bb1ea54b0f8ec84",
            "e58beb6ef8f044e4bab57e0eb189437e",
            "9ac6f0e97e2542e6948b210c2d7205ac",
            "4cad7d79f42049e1a725cf70b19e5ea1",
            "bd7e954b113046afbe9ffe0fcaf700a7",
            "93bb0a8d6065422cac006b23cd29e677",
            "e946377ec7b84853b22147f0acfdeff5",
            "ab23166ca602450d8c8f247d016c39c7",
            "5b08d1fbf1e64e68bb58c20c5f400d46",
            "2edccddd954b47d5a83b89ae8df178f5",
            "120cc122909a4ba88f9a98df990a0673",
            "32a953d61213477db917713293f02ba7",
            "356f8469a57845399b74bea09b3b7b75",
            "65e3debe630d4a24aaff7f0aebbc601f",
            "5cbdede45797463caeaec667469c8726",
            "610d801314394640af4b9d8b9f90c03c",
            "9fb1876a6cfb4090a7ecfa684eda957c",
            "255ef36085c74b779d2108160e9fcca8",
            "1cdfca5a804b44f0872faeb16195f010",
            "bdcd01ec6b18424e8ebf4809c7960b01",
            "236503fac665442d9537bcf4d201c444",
            "cef1e508ef774ffaad9fd06aa6e4ff0a",
            "4269ed541880443681c526345c59d88b",
            "1a9dc833befa470a8c8214783610b3f7",
            "70da763a17164bb2b880e744e3f3d0f1",
            "16018f2eb7c0470c991d37abbfdf65bf",
            "8ae98a0d8c2049feb7701f1685fd19bc",
            "e9438b5d27a1459783ddd65b5113bbe8",
            "0f56b708ac4c4d04948d8965da472780",
            "6aff614b180d4d41ab4c092db1e799b4",
            "dd6062e55ad14fb7aa1c8afd9ee664a7",
            "d80a740f438a43d58251380b25f4ccbd",
            "aef3decc9bb04d5a854bff5a93fb0db4",
            "53d9163272cc45c98793b1e7046b731e",
            "525f0daaa584461f960617dda1e1bfcf",
            "ab13b596d3f440dd9ac9cda4b274e079",
            "e6f72fa3e7bd4e2aa6081347abea40eb",
            "eb7398f12e954bd2b6ffd03151035537",
            "62a65448e7704aa3b2113b37c2ea8d22",
            "295a6a6a2e8d4098a039035a9613ea30",
            "5692f78ff0d04535beeb6275824d7341",
            "dc5a657a1534497ca1e776c00ac26957",
            "696794ae07774fe98ed87cc33035dcbe",
            "8f11f950f5c847308b933971b50f29c2",
            "e9080ec382f44a4ab4c120fda9ce1a9c",
            "5d7b0828bb374c46b4daafa471b87c18",
            "74333393b18344af943060338bbda7dc",
            "cccd1340932a4a149377941a6ab9b365",
            "2ba952c8c7b9440286d95f69703109b0",
            "a9142510b40c478a9c807def49af1f5c",
            "8c8614976bda42ec898af85c51d8ba70",
            "1b357110535c4c948231b5802b4118bc",
            "1d917b1f567243ca83be6f7d903872c9",
            "edeb0f4831754a809b948f0b4f071038",
            "f189ae4d28f84873adb86bed53bf6794",
            "e72c163255654421a355a075bdf0930c",
            "f96ab9b345ac4379bf9cb6b3f945d0f7",
            "acfb587826444f27b5f9fd9b79c20a7c",
            "0b0465099817431796d6e7642e1ffdc8",
            "b339e32540a34765b1b91d8dc0edf0c3",
            "43742d0a7a6b4576bf7d551a23a16a96",
            "f1866bfb6d114b5abe87b3d12ac06fc6",
            "2aee9956fa004e94ae28f7b2412ba85c",
            "f31641bc10c3470d95edcaebdd467c55",
            "bb8c534f6b784b5cad28509df309a74f",
            "b9ff279fb359435b995526766a2ba55f",
            "598631c727ff47158bfe2ec6162b350f",
            "1955a6effd7e41b386a4f4136d776333",
            "ce833c59ac9245ebb146763074ef6b0e",
            "85d7822f819c4fba80cb15bdc0810089",
            "2f278ff77c544e8e9743db7f83b6c370",
            "bc518866d43946688fc2e63fe0e2c9a9",
            "3667305f737e4754b2f3d7d28b22d2a1",
            "0884acb558ce4f00b852e838a72bab5f",
            "ef9858ecc783452bbc907d553672b482",
            "10958b644f3f4c15a1a6db4b4fd32414",
            "bb93249b77d04f7292c65d23d67ead84",
            "8f72cdbb29d54941b7ce512a9e0a9517",
            "74e601e3d63742bda36d3f3c34a5d8c4",
            "9bd4144c58e64fcbaecee67cbde42f31",
            "ad2fbe47979543aaae5114a87d673f73",
            "2960f71416bf45b983801a5f7fe1edfd",
            "deb16f2d9041448980b8fb2aafa0e421",
            "e1898266179e4be28f43d20e1681d208",
            "cf740322a4ce45db8a6a8b48d4cc9cb6",
            "841b2ebab98e4cb4a3af04a6c356f7ee",
            "72bf848555be4950ad1b5119109e106a",
            "9d1f59abdd794efda8540635cb2ca47a",
            "e22cbaba36014cbaa1bd45be2d9636bd",
            "2d525024449743ecb13e6fb7023bb732",
            "cd151d582d8549c0bcabb2e0b784cc25",
            "b80051b91b31488c974a9f5f44b80d01",
            "0f68c240b05a46eaae56b177acfeb3c5",
            "bb29e38263b94ecea50c5c0f4c42a9fc",
            "800a06624d124534907ec36d00e197a1",
            "8dc9c787f1dd4d40a88f8091fbefd1c9",
            "a0302c160adc4e2bb47e6f13fd9641da",
            "f4d673e707af4aa986ca8571c4e63a42",
            "b1301839384b43d4a74781f708f59069",
            "f6ac82838dfb4fe1ae0bc43b271cd421",
            "e34dba34746940f88fd625bc85e0d6fd",
            "487dc18c603c422c9a7ea06cefb136c9",
            "e18965a422a24df49e99e407089c5719",
            "bef2f0029c864afdb8fd4137395e5a2a",
            "0c995cff5a8a4147beb1313978d6b277",
            "4ba1b725a9d5469893223dfa9c4f377e",
            "478fd6932c6748ec832f056c3428d54e",
            "a4ceb5028bab4cb3ba87ef00132017d2",
            "464c871e37b14fc295aef80f10d3d397",
            "69cb5773c5464f659e13eaee1aa0dc8c",
            "600f5dc3c4eb496fb303444c2771bb55",
            "b48bec83d5ad4834b95ad18320269de7",
            "9b81aa475a9c41bbb46cea79a9d2f162",
            "01b0a7083ca44b7da021dc0b70aec083",
            "b1a515bf39fb4a6b9f0ecc8cdc1dfcd0",
            "58b995b481824e0091ef041d66ec3534",
            "23c9ae9fe477414a8af3ac1e5070993b",
            "4ab2c2e6f19b4f8ba33b1de1c40e52af",
            "e1509695ad6c40ac855f5b109b350fe0",
            "63f5f3e184da41e2b75c39b3aa56a5b8",
            "548cafab51d341b099b552bebefa2a58",
            "80d5ab1199b448b3bcd4ca5ab723acc2",
            "ecb15589e56347c69dfb1a8cb9006246",
            "b10a92a4c6bc4a3a8b726d2b53bf04cb",
            "d2b7c0d6fb104ca7990803cd87e66edc",
            "e5b3710fe36f4093a4bac56e4b950a86",
            "025009f499704a8e846481c2bdf65510",
            "8135e4f828aa4c19a28b18ef2caeb2bb",
            "4d109300c30d41ca9f546db44f13a34b",
            "106ca92ec07646e887d2c28f0b955f14",
            "24fd2fb8335c402c9018507d6b0f1cc0",
            "cc68f32ace3b4c4f813cfef5b47f43d2",
            "5c3e0ea6052246c8a9feafff4ba96e12",
            "32569ab64d1942d5891dfd9486ac837b",
            "fb90f18c909b420b9baa3cdfed13eb71",
            "b427ef76c61b41ab8cd4052d08c75190",
            "236207fb67414c968c451fe2153e516a",
            "82d579d576714b6eb897dc12d9dfebf0",
            "ea7f14b6588b44b08d4ea9e0b19c432a",
            "695479d67977486b8522deaee35cb4a7",
            "b1d3a1674220477c84df0b942023406c",
            "b14c60bdbf32422c8800ef449d3b43e8",
            "a6ce54bc44f549e3ab75ef93a690ddf9",
            "20334e8b9b914e2cbe903bcf9bbad373",
            "d9b53838f9bd4b3884745b74af5ffab0",
            "d32b63c1676142bbbd0211259cd62783",
            "eed6e777141e418cb2217a7f1a8fcaab",
            "c3550183e24643c9ab965b1826914570",
            "20115a6de449419ebe4d7c05783ce795",
            "c22d92c0836045af9beaebc342e9d43e",
            "ff60c7a3111042408fb44c09d0e9f0e3",
            "ebedd3d079de4e0aa046ae8342b3a87b",
            "fafb52ef0f554197a9450b675b9cdddf",
            "df14135d16be4c80baebd0b72332ad45",
            "986094c84563465e8d18ef13a9d1fcd1",
            "528a87396ca7463eb469f0b9b39772a2",
            "28a111e9cb204bd38b3a99c3baebf585",
            "5a878ce41aa94d098470005e4e6be59f",
            "cf38b92603e64778abf8f5cee5c4f1a2",
            "8b346680bcf540488ba1dd2ff9720be2",
            "f5ec921ce4fd49879dfd50fd68fd618d",
            "e05a35699983466dbdb8e9f84c94071c",
            "4a253267a8be4ceabb9db03506e2ff86",
            "5b11e0c2367f4537a74bfea77fbfbd22",
            "5a8e865f3726458e8b24588268cc2c99",
            "1ae6c0251b6e40d59338bc595221347c",
            "55685d4268a047d09d64122d7a110a48",
            "b6098d73247840cda8115b6cce42f9e1",
            "e120905b34f5473e8af7bb02d40c84eb",
            "a3a071d7c01a4f3b91e508098820e5cb",
            "f05327465a9f4e948bf6708fb29a94e5",
            "e298fa8707014c37ac79ba1f3d31c243",
            "b2d8cc3da3af4250b16ec394352e450e",
            "3617a879c9234af4991e8f7947a830d5",
            "29d17e4822b546aaa46f5ae6bd12aa5d",
            "31c36e1102ba492988d1004e1bf4924e",
            "538f2da786e5438289cd932e133f5495",
            "6750a3a11df545cdbbd8b7a4ea2750e8",
            "a54b5046758648f19f5c0a691426e960",
            "0dbce8fbb6da4c20a54dcb9712511c29",
            "6d78b144f7be4ceaaf1cf0cc056cdb71",
            "e25790cf5ca045c7b7aa8e29a3edba11",
            "1d8ca6ef21844ad5bd4dd7285891cfaa",
            "433c45bf57a044d0b7a67ef9a5dea7e0",
            "3fbe62d677644314b1840e8fa174e153",
            "05f41b63cc7c49d0a2dcfa9a10a06b28",
            "cd55c5d4ee424a9f89f920aef5db575e",
            "d1ec6a241fc1488bafc85e7376150024",
            "5d3a0edda849435da452f5a7f3850553",
            "2e9dd3bd8bbe4bb98ca55091764933cf",
            "60a5e7017d2a47d88804c2898c007fc4",
            "d28e48af3f22416ca4761b3feae49e57",
            "e04ca41514ad4ed7835aa95029003b51",
            "d51d0aeb845b4bfb9b866120bcc4a55f",
            "eb2a682978d943d2bf6723be82ce5f76",
            "31c79c7674c3456cbe04f185bd728d25",
            "c2a9bc70f82e40289ce1eb8150f90218",
            "4d5bb4f1d4d44bed82eb18e48fd09ebc",
            "d4195c88d3664f21a8c134effcfa4e21",
            "906a2dd645264495b752be632300c2ae",
            "62be148994174b8caa23140964e32c47",
            "eeb16a40565940e0845b31be05e31170",
            "1c214ef2f73a412fb229f5395a422e01",
            "38598df49bd543e5aeaaf5f3160f1ba5",
            "901c57476e6b44af9b6e0a1ab0c5b085",
            "93d5bc5c8ad44e5581a9f90ad2b97b7d",
            "fe324506790d4f14aaa440b08cda950e",
            "399ef763ec9f4e66a66ab000d631f8a2",
            "185a244775d54bd7b911f1343bfb47e4",
            "07e6bd2f75da40e3bde29813ef5eb39c",
            "bdcb745e1edb43d2962969a1858787d9",
            "d0fb424dc29947b888014741bdbd0413",
            "339c3e3d9b054918aea9d73d882a6c54",
            "a9b3b15becda45a888d0c621898fd333",
            "a2105842ea2b42f990413248e93e683d",
            "4d69bf8b083b4f4ba907d083d0981b22",
            "ece900b3499a437bb5e0e46e4efd1881",
            "78b107e0d90e4aa7b7cf9878ec4e0b1e",
            "ee5b184d30a74e7e9112364e967029dd",
            "b523b10a8cfb4e2a9a643355a3a69a65",
            "ee71bf838cb3412fb85b79d3f5112258",
            "17cfb1712dba4db5a3aefd1f4149d313",
            "a76ad8df538e4a77a33e37f0bc5f9a05",
            "5d3eb10d97a44bd896f3b103342bbad1",
            "52825180a71a425dbd1e6414212c17b5",
            "744598a3d82e4ad29001d3ed4551734e",
            "c4124a2cfae44c44ae9e46f9f136a9f6",
            "2b1e610f308d4fc687fc6e0580620e9f",
            "a1cce192bf704ae9a7b82b61a0399f93",
            "8808222f49dd431c9bcdb3ef1169922f",
            "860d9170eca3483aba89afc2e971f02a",
            "90385df579a64b54a443ff58ccf32076",
            "f0f14e762e164daf9dcce542ae389129",
            "ac23c0d16df1440e9da7744afd4e8346",
            "df9997cee7c345408d39e1c5204d9b3b",
            "77ac98167ed14aaf9161ec8413290a43",
            "cacfbe7554d94bb9b8b0fcf5b3758386",
            "96a815ad9dcf4d92a9025b87e8834318",
            "4cfa711da4734bf38e0fb2c374954062",
            "c79253512b4d4a928197711ced7fc8c8",
            "12af7ae02c3b4807ba021bc6f2b3d6ac",
            "ad35382ccd7e423db784da2cf7338baf",
            "59e49d6b448846b290e597e68d1706d6",
            "5fd5527f8ce4461c927ad5c8dd31562a",
            "831d0f74397b40298ed095ae3d7b5438",
            "50e281e506c6451da8374994e43a280e",
            "4d2a4bf633fe432991842f70953c65fb",
            "67f95648b247426eb5259a4b96334c4a",
            "6350b36f0c0f48d79bdfd9dfb6d649a1",
            "d06c7ed4976f4be59702529c88fa96e7",
            "501e1ec40bd045bdb49b2742c371a4e3",
            "16ef8f27dc35429c8782f72399870629",
            "414e2bdefb794108aeaff31b9a7e9ec9",
            "c948f1932652404fa9239d85d512628b",
            "a4f66a64a2844b87989dc2c974906496",
            "f8fb36384eed4005aeda8599e1029bf9",
            "40ad057277d4408f999ccb6bc42eda7d",
            "62bae2b26e49422884a0996d87a4e9e8",
            "cfba5b55df074247aef7ce15738997d8",
            "24c6cbea89494791b56f2d4996a12ab3",
            "ab75b5799b604fce94d27d26a6643ecd",
            "449adaca75da4be68c62229f06634fd8",
            "6d778bb4f30f47e7897396687ff3faac",
            "a0b5e18167114ed1b655f2db76fc9f45",
            "980767200557479e9b54ed5c491167f0",
            "c009fa3d504e4abd94e356d47b775a22",
            "2c3a001fcdc74cbca86ebaf51c0c4c98",
            "e1c68b929526474cb611db4f0292aebe",
            "a0d049028e70483bb93becb828eb90b6",
            "eaa17a729b364e3f88e17118817c5fa4",
            "6077d3d4768e448e8cfaf77ad38063f6",
            "2c105ff8471f43a293a52ae6a241d733",
            "e2c9498b50ef4bf0859c1cd0b5331bf3",
            "faaa28e752ad4496b1ec0eb80fd380bd",
            "d0c8fd44557c440dbe8f156653d1e072",
            "71c367266ea343259de2ec48ac90b6e0",
            "15dc33a455cd4a8a9dc8f96b57c9f9b2",
            "35533bfbf23541e6bfeacb9b5015d21f",
            "e5e48133d58d4fd69e9bcc159fd7f689",
            "ce0cbc15471543ddaa6898504def048d",
            "e99370b0978f4d48802f0d6167a018ab",
            "5dcaf38d934544eebca7900fe618c8e9",
            "4234a0d06a4f418e8d520866bbf888e5",
            "9d7dfc84893148dd848716c822782e0b",
            "a6e98f04fae94916a1ad29e260f0dff7",
            "a0a8626f95bc461dabb57ab2edaca2d4",
            "22dd6adf2ce14870ba963bbd844608b7",
            "1ab88f93f4b44fd4af1d094ce53fb4d9",
            "856f65aa543c4edea068f9b80a1e1708",
            "f7233307eec34ebe9ac9215293dcf481",
            "0cd117c585514f9a958d87be2d42cc48",
            "a04b282a002a4c8ea373f531aecba02d",
            "a515273b27a341d5968d59daefb15ab0",
            "b9d52b2d05bd44f89f201f239e2d04e0",
            "1b06d57a9aef44cf9c416515f9679b10",
            "fc652133147f4a8f9114535cbbd4bb21",
            "ca24ce531dbe49b8908bb803f210f278",
            "57ef0021ba8b474b8cfe18723a8940d7",
            "1f08b58ce5814f4c83b8d0c5ca1ebc16",
            "389708c383de42a284093fad23f7b2b7",
            "58a7f6007071481ba2f00f0c1380914a",
            "2df1420f6d3747bb8355281c43a60479",
            "998b32231f9d4060a7a7870af996aeaa",
            "f953c41873144e2d9e8ca4c3fe6526f4",
            "b06649917adb425cb2b7d95bf12c0a42",
            "a5befcb9561e44dfa80a93dea52a2ace",
            "4a58a56f360a42deadc7f6431218fd9a",
            "7782f4815bd641a59906ecb2bcb6106e",
            "1616ccaee5f04ff4b0f5ed064743b9b8",
            "b69a5db09cfb4cff97a2e5c79213806b",
            "eddfb25b477b457cb0c358c2e0f38920",
            "0fcd3a584d2144ce8b683d26def46300",
            "26d91f34b4b040b68c6a4faca7823cf7",
            "791a441f4d8e4ade855c40a2d1282610",
            "0a366a9a40b1484e8b3bf21aa2cf0130",
            "8e10a57573064e248b0c9c58242261d2",
            "df90dddc5d7646eba12d562825047627",
            "4b0e4b143e96450e848730bf31a871bc",
            "229e429b0f194f7cac34df89b2881edc",
            "5aa895c85c9d464e98af21c401929563",
            "28ef72a5c06e4490987b050d7c414ef9",
            "22b523c60f414ef2a0c644f94eed2128",
            "b808416396b24bde9c48a3d7c13842f5",
            "ba2e7349eb174440b4cc45da0ebfc4f5",
            "bab3500aa5b84abe96dc872244f2b1c4",
            "4e0d00ce387b4c93add18731fced3d5a",
            "ffdca2f1bf5449a1b27f0961e9b1d352",
            "e291ea75ac4c4d7e8aaee5eeca15140d",
            "1655caea92c344c09321ad6da92ed6f6",
            "d88de3f160704be68e2e1b84a66d35fe",
            "c54e69b538894266951690e73aaa2cb1",
            "893365c2d7ce4905a393248df9366766",
            "646f5172c2d240a3bf81c3dcd4c46e4f",
            "83fece332343441fa42a1cf3dcdb6b05",
            "3f97946d4cdf4124ae5847175a0691b1",
            "f42900af6bde4e718e151bf15cb42672",
            "ec092c962add408295485981ddc898cc",
            "802a5432b9344b7faaaee51dae671af8",
            "2a29f135116b4c94a74d33b81f03fbad",
            "23cfd29e484c4b03bf7242420262a910",
            "6d9406bffb244a68823e9c441b19d1a6",
            "9b56655785974eb1ad8778f8bd43d430",
            "3f60b6dab5934fd4bacfbd28295e819a",
            "09aba46f8ba1443faf3c1d8d8a60c1cc",
            "710043ae33e94bcd851f287b240ddb42",
            "8b880687692942ba9e45ac15a9df58a6",
            "7b9d18c0b35c4790bbdeb5620e1ca5b7",
            "157d494302104ea08948abb82cda3ef3",
            "ab6f0b6ef34041c6b46cb24a3b17628e",
            "12ad4fa441864443b116b1195f3e3f02",
            "2ddc50678eae4fa088ab92946196ed3c",
            "9bda9622e1624d45960668508a5ef0d6",
            "fd202212daa04bf69beced4174514573",
            "fd75ce57aa9b4b6f9c4391f0d37a6729",
            "937db309e71b4dfdb79dbee33fcd9280",
            "2bc874be99e948e6822d09d5a7b400d7",
            "4195a3c961664412ae13848c84218f47",
            "bbd5d70fc970425787cbb88ae8a3db6d",
            "7580c95a99f342d19ea4cee0c35c8046",
            "03bafa2823c844ff820a1c1005072f8a",
            "7b23bc310e66430795213ae6d4060320",
            "8fe4f485f1c340b99a03d0b174f89ea7",
            "bcc9d861b37a435385b7119e280b5ba4",
            "c3af18c6c40b471caeb1f0f1c4f3be1a",
            "c3f58bfdc71b4bb08569da3946b509d5",
            "f4560d9e34924ca08d439f37a167fc40",
            "d7d6cdbda9364c868856ba724e046eb6",
            "0dff5bc62e3b4400b7c091c58f8fe592",
            "249961a8bde444b59ceafebd8ccae294",
            "0ef2c46bb61b4a85b0626b342c4a054a",
            "2470400b6143429a89fe75a9c9f75b5c",
            "576fdb8af6754499928eed71a700e437",
            "b94720f184534a298d8eb1486e8bb290",
            "d1ebf85739124a328afe0273ab235062",
            "e605451d608b411db9e38c70cba52dc9",
            "e59c7f3f3aa246239af73c71d52b8f90",
            "aa44d5a6d51f4d5fa49435b64348a2ad",
            "47628017c612492394176180c1272b79",
            "98533b51d9e24475891da8a7076e6dbc",
            "bee947661d414a3394d402482fea190d",
            "bcd7c2fa81d846a0864f5eec85c8dc32",
            "5a32235922b04630838925283cf4f4dc",
            "37fc78b6e4bd4b62ac58be6903601aff",
            "04c6c5aab6594aecbb39bd498493caa3",
            "777752b899c14031938c948b502ddde5",
            "1d1ed5e48c284a0b9b05f93f9f32ba06",
            "0b9a28466b8548af8f58a535351bd592",
            "572abffc5c01433d807d54870cec6657",
            "dd4ff77d9843452b8cdb3d433e536571",
            "ea6c35d322074761957f1da9dd16866c",
            "6dced48f5ab24e42b8f13837822d0441",
            "1117a54e70b34f6fa96d698cd187b791",
            "16ba66669c224963a26e1783098e162a",
            "bc346ba6cfba4747b59ea8cad55a6ad7"
          ]
        },
        "collapsed": true,
        "id": "9iY6FuRMPxsI",
        "outputId": "ea58dad1-17f2-4037-abb7-f6ad8aa49fca"
      },
      "outputs": [
        {
          "name": "stderr",
          "output_type": "stream",
          "text": [
            "\u001b[38;5;247mic\u001b[39m\u001b[38;5;245m|\u001b[39m\u001b[38;5;245m \u001b[39m\u001b[38;5;247minput_dim\u001b[39m\u001b[38;5;245m:\u001b[39m\u001b[38;5;245m \u001b[39m\u001b[38;5;36m7\u001b[39m\n",
            "\u001b[38;5;247mic\u001b[39m\u001b[38;5;245m|\u001b[39m\u001b[38;5;245m \u001b[39m\u001b[38;5;247minput_dim\u001b[39m\u001b[38;5;245m:\u001b[39m\u001b[38;5;245m \u001b[39m\u001b[38;5;36m7\u001b[39m\n",
            "\u001b[38;5;247mic\u001b[39m\u001b[38;5;245m|\u001b[39m\u001b[38;5;245m \u001b[39m\u001b[38;5;247minput_dim\u001b[39m\u001b[38;5;245m:\u001b[39m\u001b[38;5;245m \u001b[39m\u001b[38;5;36m7\u001b[39m\n",
            "\u001b[38;5;247mic\u001b[39m\u001b[38;5;245m|\u001b[39m\u001b[38;5;245m \u001b[39m\u001b[38;5;247minput_dim\u001b[39m\u001b[38;5;245m:\u001b[39m\u001b[38;5;245m \u001b[39m\u001b[38;5;36m7\u001b[39m\n",
            "\u001b[38;5;247mic\u001b[39m\u001b[38;5;245m|\u001b[39m\u001b[38;5;245m \u001b[39m\u001b[38;5;247minput_dim\u001b[39m\u001b[38;5;245m:\u001b[39m\u001b[38;5;245m \u001b[39m\u001b[38;5;36m7\u001b[39m\n",
            "\u001b[38;5;247mic\u001b[39m\u001b[38;5;245m|\u001b[39m\u001b[38;5;245m \u001b[39m\u001b[38;5;247minput_dim\u001b[39m\u001b[38;5;245m:\u001b[39m\u001b[38;5;245m \u001b[39m\u001b[38;5;36m7\u001b[39m\n",
            "\u001b[38;5;247mic\u001b[39m\u001b[38;5;245m|\u001b[39m\u001b[38;5;245m \u001b[39m\u001b[38;5;247minput_dim\u001b[39m\u001b[38;5;245m:\u001b[39m\u001b[38;5;245m \u001b[39m\u001b[38;5;36m7\u001b[39m\n",
            "\u001b[38;5;247mic\u001b[39m\u001b[38;5;245m|\u001b[39m\u001b[38;5;245m \u001b[39m\u001b[38;5;247minput_dim\u001b[39m\u001b[38;5;245m:\u001b[39m\u001b[38;5;245m \u001b[39m\u001b[38;5;36m7\u001b[39m\n",
            "\u001b[38;5;247mic\u001b[39m\u001b[38;5;245m|\u001b[39m\u001b[38;5;245m \u001b[39m\u001b[38;5;247minput_dim\u001b[39m\u001b[38;5;245m:\u001b[39m\u001b[38;5;245m \u001b[39m\u001b[38;5;36m7\u001b[39m\n",
            "\u001b[38;5;247mic\u001b[39m\u001b[38;5;245m|\u001b[39m\u001b[38;5;245m \u001b[39m\u001b[38;5;247minput_dim\u001b[39m\u001b[38;5;245m:\u001b[39m\u001b[38;5;245m \u001b[39m\u001b[38;5;36m7\u001b[39m\n",
            "💡 Tip: For seamless cloud uploads and versioning, try installing [litmodels](https://pypi.org/project/litmodels/) to enable LitModelCheckpoint, which syncs automatically with the Lightning model registry.\n",
            "GPU available: True (cuda), used: True\n",
            "TPU available: False, using: 0 TPU cores\n",
            "HPU available: False, using: 0 HPUs\n",
            "LOCAL_RANK: 0 - CUDA_VISIBLE_DEVICES: [0]\n",
            "/home/zeus/miniconda3/envs/cloudspace/lib/python3.10/site-packages/lightning/pytorch/trainer/connectors/data_connector.py:484: Your `test_dataloader`'s sampler has shuffling enabled, it is strongly recommended that you turn shuffling off for val/test dataloaders.\n",
            "/home/zeus/miniconda3/envs/cloudspace/lib/python3.10/site-packages/lightning/pytorch/trainer/connectors/data_connector.py:433: The 'test_dataloader' does not have many workers which may be a bottleneck. Consider increasing the value of the `num_workers` argument` to `num_workers=7` in the `DataLoader` to improve performance.\n"
          ]
        },
        {
          "data": {
            "application/vnd.jupyter.widget-view+json": {
              "model_id": "9974a5510c03495f8c3305c28ff3d2c4",
              "version_major": 2,
              "version_minor": 0
            },
            "text/plain": [
              "Testing: |          | 0/? [00:00<?, ?it/s]"
            ]
          },
          "metadata": {},
          "output_type": "display_data"
        },
        {
          "data": {
            "text/html": [
              "<pre style=\"white-space:pre;overflow-x:auto;line-height:normal;font-family:Menlo,'DejaVu Sans Mono',consolas,'Courier New',monospace\">┏━━━━━━━━━━━━━━━━━━━━━━━━━━━┳━━━━━━━━━━━━━━━━━━━━━━━━━━━┓\n",
              "┃<span style=\"font-weight: bold\">        Test metric        </span>┃<span style=\"font-weight: bold\">       DataLoader 0        </span>┃\n",
              "┡━━━━━━━━━━━━━━━━━━━━━━━━━━━╇━━━━━━━━━━━━━━━━━━━━━━━━━━━┩\n",
              "│<span style=\"color: #008080; text-decoration-color: #008080\">         test_loss         </span>│<span style=\"color: #800080; text-decoration-color: #800080\">     6.442556858062744     </span>│\n",
              "└───────────────────────────┴───────────────────────────┘\n",
              "</pre>\n"
            ],
            "text/plain": [
              "┏━━━━━━━━━━━━━━━━━━━━━━━━━━━┳━━━━━━━━━━━━━━━━━━━━━━━━━━━┓\n",
              "┃\u001b[1m \u001b[0m\u001b[1m       Test metric       \u001b[0m\u001b[1m \u001b[0m┃\u001b[1m \u001b[0m\u001b[1m      DataLoader 0       \u001b[0m\u001b[1m \u001b[0m┃\n",
              "┡━━━━━━━━━━━━━━━━━━━━━━━━━━━╇━━━━━━━━━━━━━━━━━━━━━━━━━━━┩\n",
              "│\u001b[36m \u001b[0m\u001b[36m        test_loss        \u001b[0m\u001b[36m \u001b[0m│\u001b[35m \u001b[0m\u001b[35m    6.442556858062744    \u001b[0m\u001b[35m \u001b[0m│\n",
              "└───────────────────────────┴───────────────────────────┘\n"
            ]
          },
          "metadata": {},
          "output_type": "display_data"
        },
        {
          "name": "stderr",
          "output_type": "stream",
          "text": [
            "LOCAL_RANK: 0 - CUDA_VISIBLE_DEVICES: [0]\n",
            "\n",
            "  | Name    | Type       | Params | Mode \n",
            "-----------------------------------------------\n",
            "0 | paths   | ModuleList | 630    | train\n",
            "1 | loss_fn | MSELoss    | 0      | train\n",
            "-----------------------------------------------\n",
            "630       Trainable params\n",
            "0         Non-trainable params\n",
            "630       Total params\n",
            "0.003     Total estimated model params size (MB)\n",
            "52        Modules in train mode\n",
            "0         Modules in eval mode\n"
          ]
        },
        {
          "data": {
            "application/vnd.jupyter.widget-view+json": {
              "model_id": "c50ef4cadf554041a31c8d18fc2b6abc",
              "version_major": 2,
              "version_minor": 0
            },
            "text/plain": [
              "Sanity Checking: |          | 0/? [00:00<?, ?it/s]"
            ]
          },
          "metadata": {},
          "output_type": "display_data"
        },
        {
          "name": "stderr",
          "output_type": "stream",
          "text": [
            "/home/zeus/miniconda3/envs/cloudspace/lib/python3.10/site-packages/lightning/pytorch/trainer/connectors/data_connector.py:484: Your `val_dataloader`'s sampler has shuffling enabled, it is strongly recommended that you turn shuffling off for val/test dataloaders.\n",
            "/home/zeus/miniconda3/envs/cloudspace/lib/python3.10/site-packages/lightning/pytorch/trainer/connectors/data_connector.py:433: The 'val_dataloader' does not have many workers which may be a bottleneck. Consider increasing the value of the `num_workers` argument` to `num_workers=7` in the `DataLoader` to improve performance.\n",
            "/home/zeus/miniconda3/envs/cloudspace/lib/python3.10/site-packages/lightning/pytorch/trainer/connectors/data_connector.py:433: The 'train_dataloader' does not have many workers which may be a bottleneck. Consider increasing the value of the `num_workers` argument` to `num_workers=7` in the `DataLoader` to improve performance.\n",
            "/home/zeus/miniconda3/envs/cloudspace/lib/python3.10/site-packages/lightning/pytorch/loops/fit_loop.py:310: The number of training batches (10) is smaller than the logging interval Trainer(log_every_n_steps=50). Set a lower value for log_every_n_steps if you want to see logs for the training epoch.\n"
          ]
        },
        {
          "data": {
            "application/vnd.jupyter.widget-view+json": {
              "model_id": "d89289be3cc345db892dc8f4f0704b52",
              "version_major": 2,
              "version_minor": 0
            },
            "text/plain": [
              "Training: |          | 0/? [00:00<?, ?it/s]"
            ]
          },
          "metadata": {},
          "output_type": "display_data"
        },
        {
          "data": {
            "application/vnd.jupyter.widget-view+json": {
              "model_id": "aebe291fdc84495687ac4760a0439be4",
              "version_major": 2,
              "version_minor": 0
            },
            "text/plain": [
              "Validation: |          | 0/? [00:00<?, ?it/s]"
            ]
          },
          "metadata": {},
          "output_type": "display_data"
        },
        {
          "data": {
            "application/vnd.jupyter.widget-view+json": {
              "model_id": "55ba3017f3f84babafad901e24ad984d",
              "version_major": 2,
              "version_minor": 0
            },
            "text/plain": [
              "Validation: |          | 0/? [00:00<?, ?it/s]"
            ]
          },
          "metadata": {},
          "output_type": "display_data"
        },
        {
          "data": {
            "application/vnd.jupyter.widget-view+json": {
              "model_id": "40e73924e9ba4303b895e33c270c4c6a",
              "version_major": 2,
              "version_minor": 0
            },
            "text/plain": [
              "Validation: |          | 0/? [00:00<?, ?it/s]"
            ]
          },
          "metadata": {},
          "output_type": "display_data"
        },
        {
          "data": {
            "application/vnd.jupyter.widget-view+json": {
              "model_id": "0061660687624e6f9318b50a9ee24b88",
              "version_major": 2,
              "version_minor": 0
            },
            "text/plain": [
              "Validation: |          | 0/? [00:00<?, ?it/s]"
            ]
          },
          "metadata": {},
          "output_type": "display_data"
        },
        {
          "data": {
            "application/vnd.jupyter.widget-view+json": {
              "model_id": "882dd514952e47908c069628e54f7178",
              "version_major": 2,
              "version_minor": 0
            },
            "text/plain": [
              "Validation: |          | 0/? [00:00<?, ?it/s]"
            ]
          },
          "metadata": {},
          "output_type": "display_data"
        },
        {
          "data": {
            "application/vnd.jupyter.widget-view+json": {
              "model_id": "3f6e57fd36414abdb0d162a0d0318592",
              "version_major": 2,
              "version_minor": 0
            },
            "text/plain": [
              "Validation: |          | 0/? [00:00<?, ?it/s]"
            ]
          },
          "metadata": {},
          "output_type": "display_data"
        },
        {
          "data": {
            "application/vnd.jupyter.widget-view+json": {
              "model_id": "b1b3d1c9757f4be5b5752135826236a6",
              "version_major": 2,
              "version_minor": 0
            },
            "text/plain": [
              "Validation: |          | 0/? [00:00<?, ?it/s]"
            ]
          },
          "metadata": {},
          "output_type": "display_data"
        },
        {
          "data": {
            "application/vnd.jupyter.widget-view+json": {
              "model_id": "c9a9ed7f2f73436ca741e62c2fac6125",
              "version_major": 2,
              "version_minor": 0
            },
            "text/plain": [
              "Validation: |          | 0/? [00:00<?, ?it/s]"
            ]
          },
          "metadata": {},
          "output_type": "display_data"
        },
        {
          "data": {
            "application/vnd.jupyter.widget-view+json": {
              "model_id": "8559cee2fe44491f86268de96fe1847a",
              "version_major": 2,
              "version_minor": 0
            },
            "text/plain": [
              "Validation: |          | 0/? [00:00<?, ?it/s]"
            ]
          },
          "metadata": {},
          "output_type": "display_data"
        },
        {
          "data": {
            "application/vnd.jupyter.widget-view+json": {
              "model_id": "9b72a75e71864c00ac4d35d7641f8fb9",
              "version_major": 2,
              "version_minor": 0
            },
            "text/plain": [
              "Validation: |          | 0/? [00:00<?, ?it/s]"
            ]
          },
          "metadata": {},
          "output_type": "display_data"
        },
        {
          "data": {
            "application/vnd.jupyter.widget-view+json": {
              "model_id": "89caa2a9e9c04742bbc9b3c7e2f0b97a",
              "version_major": 2,
              "version_minor": 0
            },
            "text/plain": [
              "Validation: |          | 0/? [00:00<?, ?it/s]"
            ]
          },
          "metadata": {},
          "output_type": "display_data"
        },
        {
          "data": {
            "application/vnd.jupyter.widget-view+json": {
              "model_id": "7108061c89324baf8118aecb6a3b86ec",
              "version_major": 2,
              "version_minor": 0
            },
            "text/plain": [
              "Validation: |          | 0/? [00:00<?, ?it/s]"
            ]
          },
          "metadata": {},
          "output_type": "display_data"
        },
        {
          "data": {
            "application/vnd.jupyter.widget-view+json": {
              "model_id": "56b244a24b164b408db6369a2ae7e854",
              "version_major": 2,
              "version_minor": 0
            },
            "text/plain": [
              "Validation: |          | 0/? [00:00<?, ?it/s]"
            ]
          },
          "metadata": {},
          "output_type": "display_data"
        },
        {
          "data": {
            "application/vnd.jupyter.widget-view+json": {
              "model_id": "03f8f3aa0397400daab0eb1946313a82",
              "version_major": 2,
              "version_minor": 0
            },
            "text/plain": [
              "Validation: |          | 0/? [00:00<?, ?it/s]"
            ]
          },
          "metadata": {},
          "output_type": "display_data"
        },
        {
          "data": {
            "application/vnd.jupyter.widget-view+json": {
              "model_id": "b6093fd65ad94bc093ec5ec9c8452826",
              "version_major": 2,
              "version_minor": 0
            },
            "text/plain": [
              "Validation: |          | 0/? [00:00<?, ?it/s]"
            ]
          },
          "metadata": {},
          "output_type": "display_data"
        },
        {
          "data": {
            "application/vnd.jupyter.widget-view+json": {
              "model_id": "c0f5fe8f09e34c10a3d21924cc59a498",
              "version_major": 2,
              "version_minor": 0
            },
            "text/plain": [
              "Validation: |          | 0/? [00:00<?, ?it/s]"
            ]
          },
          "metadata": {},
          "output_type": "display_data"
        },
        {
          "data": {
            "application/vnd.jupyter.widget-view+json": {
              "model_id": "e268af2a2e984da6b33fb077bf3d2af0",
              "version_major": 2,
              "version_minor": 0
            },
            "text/plain": [
              "Validation: |          | 0/? [00:00<?, ?it/s]"
            ]
          },
          "metadata": {},
          "output_type": "display_data"
        },
        {
          "data": {
            "application/vnd.jupyter.widget-view+json": {
              "model_id": "faaa4284767b422b83f53820f2b23f99",
              "version_major": 2,
              "version_minor": 0
            },
            "text/plain": [
              "Validation: |          | 0/? [00:00<?, ?it/s]"
            ]
          },
          "metadata": {},
          "output_type": "display_data"
        },
        {
          "data": {
            "application/vnd.jupyter.widget-view+json": {
              "model_id": "98898f83963d4dbb90d08352a50fc19d",
              "version_major": 2,
              "version_minor": 0
            },
            "text/plain": [
              "Validation: |          | 0/? [00:00<?, ?it/s]"
            ]
          },
          "metadata": {},
          "output_type": "display_data"
        },
        {
          "data": {
            "application/vnd.jupyter.widget-view+json": {
              "model_id": "dec8822cd9ef4687bcffb32a7561b718",
              "version_major": 2,
              "version_minor": 0
            },
            "text/plain": [
              "Validation: |          | 0/? [00:00<?, ?it/s]"
            ]
          },
          "metadata": {},
          "output_type": "display_data"
        },
        {
          "data": {
            "application/vnd.jupyter.widget-view+json": {
              "model_id": "a4b89df174b941839b74fc1b4c40f567",
              "version_major": 2,
              "version_minor": 0
            },
            "text/plain": [
              "Validation: |          | 0/? [00:00<?, ?it/s]"
            ]
          },
          "metadata": {},
          "output_type": "display_data"
        },
        {
          "data": {
            "application/vnd.jupyter.widget-view+json": {
              "model_id": "a1f302510f064a1ca4b268ae5eb4e04a",
              "version_major": 2,
              "version_minor": 0
            },
            "text/plain": [
              "Validation: |          | 0/? [00:00<?, ?it/s]"
            ]
          },
          "metadata": {},
          "output_type": "display_data"
        },
        {
          "data": {
            "application/vnd.jupyter.widget-view+json": {
              "model_id": "6305a7cbe8db46ef8c138b6722221880",
              "version_major": 2,
              "version_minor": 0
            },
            "text/plain": [
              "Validation: |          | 0/? [00:00<?, ?it/s]"
            ]
          },
          "metadata": {},
          "output_type": "display_data"
        },
        {
          "data": {
            "application/vnd.jupyter.widget-view+json": {
              "model_id": "62fb52cc5b9c4f0cab1abf0bf1213099",
              "version_major": 2,
              "version_minor": 0
            },
            "text/plain": [
              "Validation: |          | 0/? [00:00<?, ?it/s]"
            ]
          },
          "metadata": {},
          "output_type": "display_data"
        },
        {
          "data": {
            "application/vnd.jupyter.widget-view+json": {
              "model_id": "4a9465fcb669418fb4f662db273b6557",
              "version_major": 2,
              "version_minor": 0
            },
            "text/plain": [
              "Validation: |          | 0/? [00:00<?, ?it/s]"
            ]
          },
          "metadata": {},
          "output_type": "display_data"
        },
        {
          "data": {
            "application/vnd.jupyter.widget-view+json": {
              "model_id": "cc60dcde5f2445ea9128851904cb6e1f",
              "version_major": 2,
              "version_minor": 0
            },
            "text/plain": [
              "Validation: |          | 0/? [00:00<?, ?it/s]"
            ]
          },
          "metadata": {},
          "output_type": "display_data"
        },
        {
          "data": {
            "application/vnd.jupyter.widget-view+json": {
              "model_id": "6d112a13240d4efc9b45c1b1997263a9",
              "version_major": 2,
              "version_minor": 0
            },
            "text/plain": [
              "Validation: |          | 0/? [00:00<?, ?it/s]"
            ]
          },
          "metadata": {},
          "output_type": "display_data"
        },
        {
          "data": {
            "application/vnd.jupyter.widget-view+json": {
              "model_id": "14f70c6f0bd745589735fff9319c1a77",
              "version_major": 2,
              "version_minor": 0
            },
            "text/plain": [
              "Validation: |          | 0/? [00:00<?, ?it/s]"
            ]
          },
          "metadata": {},
          "output_type": "display_data"
        },
        {
          "data": {
            "application/vnd.jupyter.widget-view+json": {
              "model_id": "f66f71073fd64acfb14d0ecec2898672",
              "version_major": 2,
              "version_minor": 0
            },
            "text/plain": [
              "Validation: |          | 0/? [00:00<?, ?it/s]"
            ]
          },
          "metadata": {},
          "output_type": "display_data"
        },
        {
          "data": {
            "application/vnd.jupyter.widget-view+json": {
              "model_id": "8915f3ae37684c38b830a826cb548240",
              "version_major": 2,
              "version_minor": 0
            },
            "text/plain": [
              "Validation: |          | 0/? [00:00<?, ?it/s]"
            ]
          },
          "metadata": {},
          "output_type": "display_data"
        },
        {
          "name": "stderr",
          "output_type": "stream",
          "text": [
            "`Trainer.fit` stopped: `max_epochs=30` reached.\n",
            "LOCAL_RANK: 0 - CUDA_VISIBLE_DEVICES: [0]\n"
          ]
        },
        {
          "data": {
            "application/vnd.jupyter.widget-view+json": {
              "model_id": "7af7b16b28f04daaa8d11091e7d39126",
              "version_major": 2,
              "version_minor": 0
            },
            "text/plain": [
              "Testing: |          | 0/? [00:00<?, ?it/s]"
            ]
          },
          "metadata": {},
          "output_type": "display_data"
        },
        {
          "data": {
            "text/html": [
              "<pre style=\"white-space:pre;overflow-x:auto;line-height:normal;font-family:Menlo,'DejaVu Sans Mono',consolas,'Courier New',monospace\">┏━━━━━━━━━━━━━━━━━━━━━━━━━━━┳━━━━━━━━━━━━━━━━━━━━━━━━━━━┓\n",
              "┃<span style=\"font-weight: bold\">        Test metric        </span>┃<span style=\"font-weight: bold\">       DataLoader 0        </span>┃\n",
              "┡━━━━━━━━━━━━━━━━━━━━━━━━━━━╇━━━━━━━━━━━━━━━━━━━━━━━━━━━┩\n",
              "│<span style=\"color: #008080; text-decoration-color: #008080\">         test_loss         </span>│<span style=\"color: #800080; text-decoration-color: #800080\">    0.09475768357515335    </span>│\n",
              "└───────────────────────────┴───────────────────────────┘\n",
              "</pre>\n"
            ],
            "text/plain": [
              "┏━━━━━━━━━━━━━━━━━━━━━━━━━━━┳━━━━━━━━━━━━━━━━━━━━━━━━━━━┓\n",
              "┃\u001b[1m \u001b[0m\u001b[1m       Test metric       \u001b[0m\u001b[1m \u001b[0m┃\u001b[1m \u001b[0m\u001b[1m      DataLoader 0       \u001b[0m\u001b[1m \u001b[0m┃\n",
              "┡━━━━━━━━━━━━━━━━━━━━━━━━━━━╇━━━━━━━━━━━━━━━━━━━━━━━━━━━┩\n",
              "│\u001b[36m \u001b[0m\u001b[36m        test_loss        \u001b[0m\u001b[36m \u001b[0m│\u001b[35m \u001b[0m\u001b[35m   0.09475768357515335   \u001b[0m\u001b[35m \u001b[0m│\n",
              "└───────────────────────────┴───────────────────────────┘\n"
            ]
          },
          "metadata": {},
          "output_type": "display_data"
        },
        {
          "data": {
            "text/plain": [
              "[{'test_loss': 0.09475768357515335}]"
            ]
          },
          "execution_count": 7,
          "metadata": {},
          "output_type": "execute_result"
        }
      ],
      "source": [
        "path_model = MultiPath(train_x.shape[-1], 10, noise_dim=noise_dim)\n",
        "trainer = Trainer(max_epochs=30, accelerator=\"auto\", devices=1)\n",
        "trainer.test(path_model, dataloaders=test_loader)\n",
        "trainer.fit(path_model, train_dataloaders=train_loader, val_dataloaders=validation_loader)\n",
        "trainer.test(path_model, dataloaders=test_loader)"
      ]
    },
    {
      "cell_type": "code",
      "execution_count": 8,
      "metadata": {
        "colab": {
          "base_uri": "https://localhost:8080/",
          "height": 893,
          "referenced_widgets": [
            "f015762b3e67404fb876bcf58f3722c4",
            "8a32bcde8fe04944a0a56acecda6ef04",
            "fca6801bdfc84a959ab6ab407a4c6438",
            "fd427191a56348eead171e82e47b9f60",
            "be001033a4e345ceb9aad58c3c630ac4",
            "af1139c9a3184d96a14d2a924e9d21fd",
            "f9b884db5daf4280bb68031d951a01b1",
            "5427ed7477114400b8d9e1dfa8f99a73",
            "6721155266104226b06738da5ec81d31",
            "29f635e049724b779bc8b62b72051ba6",
            "fdb3096c50aa4a47a2bcbe376a88427b",
            "559c551fa0694d9bb987e56541efd6be",
            "dc4277243ad64c0ca273fa445896ee6c",
            "5b0df52f307c486bae52cb4c18f82046",
            "34d590b61520408da68cadd89db513c9",
            "36895cf84913490898e9aa0e18ec48d6",
            "8967203126d54732b1c434d0c147d573",
            "89e91753d97c4363a85ce965be434779",
            "a532d73f123a4695985e1b7fde374ff6",
            "d02738b009ea4a279618089fd24a0a9e",
            "618e9ff689984abfb47b5511b928edd0",
            "87a3d7ecd2244979992d646f7e16b62f",
            "6bffc82c053c46beb72cf805e1071153",
            "dc8afc906a9141bc95816f790e27b2a0",
            "234d2c27decf46c78160e60063da706d",
            "aeba2012af9444bba0a01e2ee7082e7e",
            "a1ee681df64a475bab0e72a0aa3028fb",
            "5f9d34586c674abf801bf8c4cd019a04",
            "4d81763935324c82b8398f73a0134be9",
            "49de9dbeb30b431c8b0c57646e944b09",
            "6d7beb9b12b249038219c058d94e7abe",
            "46aa3b5832c445c8a7e78fa4aea7b3b1",
            "d8872c3baa174a568e9b388e789d2ff1",
            "dcb29f573e7c4542a6ead866389ef344",
            "fa68e1b19b8f427e8abd5ea69744a0c3",
            "a1a86a773cfc4cca9c89924b27870c2d",
            "cb2ee802ce5d48f3be0387e2398ed922",
            "2b754accdc114bfaa27736eabbaeb28f",
            "2fd641c9ecf143e992a0939c81f9b087",
            "b23fc062b83c408a86fa636e81a0b533",
            "6639733c0b2049b3b49dec9f07219963",
            "32a13555a8de4df9930d52110c437b6b",
            "90f8526b4ab84c51ab89adba73f78da3",
            "29cedad50a624ca2946d182a9aa9c27b",
            "8567ab3f200648718287ca138b2b0a79",
            "caab3427a0d141478b39fd3fc34b0b95",
            "322c94a21c4448018d9636fe82dfa59a",
            "b4d448e36d24447d98a262ab7d7735bb",
            "9700423a4f1c45b29d592b1adb721c8e",
            "64a63ff40aba415791fa27ba3ffea875",
            "885a3189838a4240ad33984901fcf56e",
            "e837e2c4a68f4838a52c0a1138243988",
            "cf34c346bb8640b8a2b0379e2f15e51c",
            "000c1f5f88414607a691239341cf037b",
            "783dbb6233c7445d811459fdeea88243",
            "f42bed4b30bc4eccb4cd426137f77fb3",
            "08245e8d685247daa31764235256f8da",
            "8ee067f5ab5b4a458bd6a3398498695b",
            "88c0c95ac0144e499575b84777d7bd5b",
            "5bf12752d6534c06a1932d5d30fef37c",
            "90111d92d4f444c18fb76b8f535046a1",
            "6290a92390724b7a8f0835e639c6f072",
            "c48970b5452448d99e9cefd84aa718b4",
            "0ec00e869229473e802720c2a295347e",
            "f4f3af5f43754755b237c0719db677b5",
            "95ae9e218ba24b1c9dc49bcb27ab274b",
            "c17654c6e64f4eff8c4acead04de53a2",
            "e3de77f1e9aa4ed591723768109bc86c",
            "e626d22ec3154f7c83626917ca737aba",
            "23ef43fefd2d45c1bc22c43e8b3a7de7",
            "893dde80d9d14215a931f360dc9df494",
            "679f2c2806184abca346631caedb4246",
            "dafe212d834c421691c1f3a85d36d059",
            "364410bcc5f249ce99effeac892677dc",
            "5e7007d826b24d26836ce28d8ca285f8",
            "268a1fa5872a401894c7dab046f9d214",
            "4c3b167570d24dc9a68c4d5ccadb61b8",
            "760fcaffc96f4c008cdda8e3627b4598",
            "d0a0ac9747744af1a332a92340ea0d1d",
            "34de80bc9f7e48fd96be29dc7309177a",
            "599ebf6fec144fe99e24892e6d0f7965",
            "b25d91499b5642d59b227bf434da1a99",
            "9d42aec3806d4082a7bad9a5a1ec4737",
            "b55b76d951b04eea802fa04f954da8d1",
            "1eeebd9e35384ff39261593e66c72454",
            "1cd526589af243399fa39bd1ccd1d4ad",
            "2145cbe60e3847a1928d8ed14ba153c2",
            "87830a3b047542bd8a7a9fb64e68bb56",
            "a6a7b96149cd492681c8be265e0363b8",
            "aef05a921dfd41e6a7e1a455b8497d9a",
            "8cd562b3bf8d473faae1efa5f73da054",
            "0cfdecc809624f7ebecc6ff84d1cce1e",
            "121d2511dd984ff7af336d14b48e0d3d",
            "0d7f0a5c8e684289ae53fb02b7239633",
            "49e563729c90445e8664f23cdcece769",
            "b83c767cfa3d49e8b82280312250f9c5",
            "7f61c12ee02f4a509be2bc053252e621",
            "c35291f92d6145baa44e362d43157d7e",
            "abe1d2fa59244002ad55120364c2d140",
            "2a57e705ca4a4e70b975e794fde4dbca",
            "68dfaec0a71442e69f51e02a8d9c9b70",
            "bf51a3a1a3e34f619fa2b3ccc12ebc11",
            "8e6ae5df7bd44d00ba60b8803981eaf1",
            "a08b55c6c1ed454488c395488df5af79",
            "04254e7c57aa45b48a41f35172178d4b",
            "db31a65d5ed644afba65ff0980747045",
            "0e30debe738f4a0b97712622fde76fea",
            "404fecb1cfb843e2bea7e501749b52b5",
            "c62c6e5ebd224a34ad84f4a8724a74ca",
            "f53216adff8d4a8da4185371af60c02b",
            "8340dbfe6b1f4d62a52fe5c89c9f5e67",
            "50cec29b4ced4e08be637e34894bd6ae",
            "6c687e16df004228b31b6fa13df599fb",
            "bfe50e77ecb143f586b7716bb4a8fe88",
            "2019f4fdbd30470394c4ed6b26fc5975",
            "c63a7df6e13a4b00a613d1a6a41a5da3",
            "4b7f89fbdb734e65a379f9fa8eeb359a",
            "5388bf7d339640738ed8aab306b402a3",
            "abe43850e89f4bedbcedabd9951b6234",
            "24c86dede71b4c1fb2fb7d4b6d01652a",
            "78c2968b7e2c403f9081e84042099fc6",
            "ead0eaf0f9e1465b965ca78c0de26e35",
            "1ffd15c5c13145928a6d487f5321f2f8",
            "2367665dca69445893ddea50eb1af433",
            "9957618b24044e308088d1cf83795fc3",
            "030295d7c6ec42dfb8b5eaba0b09abae",
            "7e334103778c469fa7d1bcf7426c2202",
            "33cbe8e5bc46425997a3db737a75057a",
            "6133edc76916470aa57c71eceef00c94",
            "f99d3695086940d380762e377090bc73",
            "b0c60196756647ef870de77c761e86fe",
            "159c726db9c74d97a6e8b930c97d766d",
            "0efb7040b5e64ea9b743226afd4f7d84",
            "b845303bbf304a45ac5c913dc0769e4d",
            "519ce5be349c4aec9ce8a91a7ed9b69d",
            "335b4150cd9f4c9998e426134295bcd8",
            "58f5be9e3d794644a9e6019093ccc25a",
            "aadf89281ed741edbb4ddf5d3d2c48c8",
            "053080f31d694182973f5b5c13215e27",
            "295de9ada158439194dfa09ced38b8e4",
            "2dd7168ca9bf40e4a4ef888384706bc3",
            "0c2c62e1fdb34b43b2012582056c2747",
            "364ed1ce5dbf4cc48cc7dd03a5acec1a",
            "75948c2c90a54755acdd898c65202a70",
            "9a3bd71be824470d9ef579d89d12c9cd",
            "640e8972713a48ef97fc75d0970aaf49",
            "569edff31c0b4adf9b2d8d1b82df6032",
            "b0c0dabff8c44969b67224aeb5b2116a",
            "4ba8a13a5be841b7953d9ecbd08d9e00",
            "ba88420a63c7485fa16fef34fa12ee39",
            "df2ec8b1584042fba2e28743b369a7e2",
            "2cf70201318b48f8b2171c1ffb53d098",
            "523d80418d2041cdaf15447915f255cb",
            "b4285ff3aa4e4746aa506fab54b5b73e",
            "905f84154b6042fe9cff738e5f976e28",
            "14a969d25b7045bf83346e4ab90154aa",
            "762c910e667a47ad8e4bb1bc4ba8cb11",
            "1c6a35f0c2f24cd1b5406a7d6ff03e7c",
            "f18f3a926ab845d282c02f4fa952cc86",
            "78c1874b8b9848298dc953d9f5945655",
            "48e04c8362164a02a4f11d3b6c9f8667",
            "b85e8f74199b42c68391ea458685312e",
            "f2680b8671f34977b2a3032d0b24256b",
            "1399eb89df644e1aa93cf47090889e93",
            "78862681c7ae494dbef81eae539c77c4",
            "b77821b8d7274907a01ac69303fb2045",
            "c69a8f4045564cd4a0004a007fd603eb",
            "e5cd09c8cb8641e886a034dfddbd79f2",
            "f5b58f497ece4d60bdefe341fd317843",
            "b0ebd0628fd3420fb104fc8f4ec85ae1",
            "106b8f230b204b648941625234c7f58a",
            "584cfa2e181a40099d23447fc4e95b71",
            "1780149d346c43d5a27055de29128cf1",
            "40166b01a4e04892a30d9661a9e39ed5",
            "411e34ffb3384e54ad0e756173482741",
            "cbdad4b5c06543969056006c5aab821f",
            "446ca5a07b1045a0813a6d2632e9b702",
            "483e0488fd1847b8a66f56995ee77b3e",
            "1dfabc7043134dceb087725f07992063",
            "328015ea7aaa4c689626e8085fab909d",
            "089b7843fd194e93961175dab840c8bc",
            "3fda05f9c3b4423299af80eea1cb75b1",
            "ed374ae570be42298acd992b3ce21f3d",
            "50498bf7f77345d1b6b82918ea5a14cf",
            "2c565d4a8df14a2d9f09e078a77b9b32",
            "94b3ea65eae645dab93b67789b2a993a",
            "087056b611f143d5ab0972396255576e",
            "c0030240f9454afc8f4b48d063c166d6",
            "223e99f9d4b44c188532de035fa93db4",
            "40eff7182c3f43048813d20e65228749",
            "aca1ab58c7504648afb121f4a82dc434",
            "77d0cef192ce4544b0b0d5debfdd4dae",
            "7d9c2b04aee14cacb3a445078fec02a0",
            "ac80a3574300415f8d28be705585774c",
            "820ea9a889e446bbaf26625af1e87fb4",
            "c8f9ab7334f04e1684fe4facd7f8eecc",
            "7c26cd760da146058a06675359585537",
            "e53332f441824bcd9e322d082c9424d6",
            "641e4eb711994aea9d122d3970898d7e",
            "f72c7ab2d5564081a305ff98bb9f00da",
            "2ef2886f546841e59ead066244b6f731",
            "7b12e9c552aa406cafa04f97db9bd843",
            "b817b42c35354f9cb7652c7e20636f2f",
            "9201f74a359f46b8ab9f62fd6197abbb",
            "24a94aebfb1f4790b687661170ba703b",
            "5936e38752a2438097952b2da377d677",
            "2410c3a1f26d461c8082d43b99e90b3e",
            "a348b6182680469a886897f4f96d617d",
            "c9c7a4af26574a3788a39032d4cc0ca2",
            "d3c1abd3696e4f83a5e6982e9efbcc06",
            "d5746a2d18914764bc326ed38af5dbed",
            "8fbe49ae90c1453487c2bd3f37894d36",
            "b3284cb757374e358abc7f3d9cf6a87a",
            "ab6a0859b85041ef97d23a61c4626638",
            "ff8d80b1ca3c4679b0f48f755f169f65",
            "25e913cf9eb34368b5e9a2d4b12f70cd",
            "586232cdae7b4c94bcb34ff40e7efbbb",
            "fdae033243184ffab76ec6414a8ba6c8",
            "3a9459631b804c9e8d378828529e49b4",
            "b9cab02cbacf4e16b9d509dd7936750b",
            "ff02a1e2ea3646c3b4fc3cfc54a51d18",
            "812d1c730f684bb8a3e7b9914c845dec",
            "032a62c3d1cb42efadbc292f5781618e",
            "288dfd297c15460baa769f4d3861f6e1",
            "a75538330fcb477d824978d930d0b717",
            "10ce5bb2351e4e80b70c1b21d9c30336",
            "c50a7f5d530640bcbcf77e4da86e015e",
            "2ffd1954a2a5486ea7bd565afb275277",
            "376819bc39f9413dbe036c66102ec41d",
            "101393e41f2a4dd69204de7d5d819c89",
            "b28ab7a141034cafa4afd5f4ba945b3c",
            "3948444ecb474c43a892fdc7abdb60da",
            "798a36e5e7bc47c384ca769f3b6e521f",
            "d798426a7bc94bdcab90d717244d38f2",
            "18cc51d5674d4a118261664bba594b42",
            "f7d28b8200544e34ba086cca94c94699",
            "2ee22bba56814665870ec2f07284bf97",
            "02942af240a2407298661512439b466e",
            "540e46b009a4494da3ee742076f2eb8c",
            "f0242a8474a843039119a277df838c4d",
            "5e370349a37c40fd9e4d67e859f25859",
            "f914b7a6f6c34ef89cddc24674ae28d9",
            "00876f47426e4059863a350499867771",
            "bf2ab339c8c84006b5f0e0a700b6ad4a",
            "ac9dd454a7d745919910d0caf2316ac4",
            "da96fe8458d24afa8cd3dce38c521621",
            "ec95d67d7c144faeb9573fcabc2e9357",
            "ce749b778e7745c0a9ec51e9db8f441e",
            "59eaf1026a7648d5b099962fddd5e491",
            "037d19c791824f2e9508a5b7dac332c0",
            "5975cd2eed6b4e1d8532ae6111a2ae1f",
            "6cb7cfa0aa1b4487b7d530106d75054e",
            "45069fe80bcf43858656cbf5694d580a",
            "9e998e53fc664e09ae3e82f3606a12fb",
            "473bb3eea13d45a488a62ab9586094bf",
            "c59410f46c66438295d21e823e6f4902",
            "738d39178dea4108a5733d078a0fcc63",
            "ebba7150ab214331811217ca3938a845",
            "bb6d8d87c6c74a3799567ab68c51ccc9",
            "792955c8d28f4a77a75a667b5847ea7d",
            "042a5be4c26740e7aa68f4d7646e9567",
            "50816b007c874574af94f568f016ab08",
            "ddcaa5515c3f485b9a752060b35c662c",
            "88976f0a6ebf4a2c99a137cc7ec26968",
            "7909f2adeacd4acc8031918bb03b48fd",
            "abaa1157aa2540d9814bb60cd604afe4",
            "757d8bc715cf45dfa95048959784223c",
            "4433470a8b6b4bdf9015d517663aa7c1",
            "ab88d68f1a0a424888f1cc017950adac",
            "7abe3120073b4562a4651fafc965a190",
            "49cf646e8528425baf28f45366bace10",
            "42da321ac0c74059bfc163d8607e6bed",
            "833ef961a56e4f1789f9d6ddb08696fe",
            "af8972d19f1b475dac5b34f473a581a3",
            "54292010cbd74915acf283eff8f13d2c",
            "128bfa6589fc495ebfda95e3171fec9b",
            "7b9aef9c5dda46349297487064e6dc8f",
            "d1942adcc4fd4838911340fa6cd7dfe8",
            "e5714a2c1e724e9ebe8fa804c563a5b2",
            "d09b513d80e94798b31880481178bf27",
            "463e04a9d15e4c5992f0432096c6fbd5",
            "778cdd85ee154ac69a794a6fab46639e",
            "4c68bea69703429db7e67c1f37fd7498",
            "ed4defc4c41c4babb3a783fec8d4bc71",
            "c8e6919a2a114e1b9269b7d8cd2a6323",
            "957945a21036492281c18d9568e1ccc6",
            "f73cdae58913473cb986ea94e1e085a4",
            "82b655bda11643dabe86f8dab96d4590",
            "7012c85e02bb4ed6aa0d2e22b4af43d3",
            "431f5c525e8f4e0394993f066a40de1a",
            "44d9e833205943168db47e84164a4855",
            "d0a85148b86a4cab812cae1e51a609d3",
            "ccac8c70569345cdabfc82e577b15c88",
            "7334c6d71eb64f3fac1c548970ff6a63",
            "c64b0227080944eba1a49ed66f62e07d",
            "92c0b66e29984d7ea8802fdb132f01b4",
            "47b1529c1d33404888763f7bed70fe7e",
            "cbb3e27543d5492083774643568086a1",
            "478e1df105d94654823d857a4ee7e092",
            "d096abf7c34a4f25b8c525ce7b052bc8",
            "7ecd9d8b680a46228400c906400fb9a3",
            "d0b7511e61834a7bad74e7dfdf3af423",
            "a910f57edfe14e76acc64a96d4e14629",
            "69af0633c8dd409183528b9153be35e9",
            "b738520972114dff98562b61c4d66a4a",
            "c0051f043c174dc9a8dbb66c5b295ff2",
            "be5538b713704d9daa544d389b0971d3",
            "56e3df2d114148c3ba4324fd34ce03e8",
            "4acde50acdb544008dcc8fcad11feca7",
            "99971bd2863941df9f3b911b01dd99da",
            "e21cd50377c94d18b867d20058ba38dc",
            "5f8d5903d52942f5a1dd02035c4703b8",
            "66fd4cbeca1a47c58bb3d85b5eda7789",
            "37be6122c5234807ad919b939f545bfe",
            "226c73a3948e4f95a5ab514f75337db8",
            "f352066cb4514706884b6ed9c793023b",
            "b5c52c13f478406b918d8960148ae79f",
            "c78ef750d9134194b9689b562d030f80",
            "58b41717079a4d14b89ef2ae7a08d5ab",
            "37dcaf66b3ec4093a846287d5d42f218",
            "b2504b1d903b4aa6b4b29bfcc4940ede",
            "dc092a78c0e54b89bb8dafcdf2a183b1",
            "dde3d41ea437432fb520c7397e1ca461",
            "b51c863fdf4f410d82754d07cfcd7154",
            "b18283d0aad642eeb1a0662001c5d16b",
            "92166ae814d04d31944e31c43d90f115",
            "61fe241a3ef646d28c4a35b43bfc988f",
            "16a4d4279d5641bca53b646231ca23e2",
            "6279cdea32814a8da143df77f29be966",
            "a236e12e9f744afb8789023a89e08d59",
            "ac01b17d59764af38c244206ac60f961",
            "e2de88b6e5d24da58bf8454866691f00",
            "912d3345d2584a7db0d1ac45ce296aa4",
            "f0b950f66cfd48f9bc55d2bf533eaed2",
            "3dedcb414be44c65b3ded61cb8f324c5",
            "1a546f23bf4644238906291af333990e",
            "55c8b3093aab4eef80873a27e4d97325",
            "796e1f8e05804c2b85802176ba6c82a7",
            "4df2bc3167ad4200bb18f305dc68885a",
            "3db4c7cff8da4704acdd0360ef310368",
            "f8d46ef2eee34ed59f05c33833174eb5",
            "efe81c2f5a984680bdc982e373ec1a77",
            "78aedcef9bc54ef98167e96a0fe61357",
            "f7593ce6c4d34fd3be05e124a49a620c",
            "92d89d135fbb410fadd242323cc79d32",
            "b16a7601be984780987d5d900876b6a9",
            "f0f5dbe2b4f04ab598c93a905a509633",
            "ced64de5e0f644a08a49b937f667e9d2",
            "985a17635791462daaac87fb9d539bc5",
            "2181a08b8ee74833a83dd3ccb28139e4",
            "ec98f50515364a1f8c2c9209327d21c8",
            "3fd56d75aaa54d6d8f27d098a73eafd4",
            "e0301d5a954245aa824f0cbaf7be3d5a",
            "a21c95f9a9ad4e4f86cf0a6f8f7fd231",
            "e8de4f29e86b451580e211915999632e",
            "61058f31e6954945b3eb57e28b5cf422",
            "521e19a5c64c4eefb83b6ede29c57a49",
            "04d86fe64428487a8b5065171d1cd254",
            "93747ffbd4994311af55f37e407e5db2",
            "bff450f6d3674145b8c59f6ac43daad3",
            "917b0f4bdcb342398794001b328cc3fa",
            "f6a2412d0fc54aa98df2b4cad21a04b9",
            "8e7f78fa029742a688440d91b4ea3e3a",
            "f3ac45045dc640b3a7cf3927b1be9b19",
            "ee608d29b23f42d9bf7832fed59aeb52",
            "178836290d74412cba28ecc3e6c6800c",
            "0b27623a6cd546fcbcdebeb0eb0cef51",
            "9de2915456bd4b22948fc6c9a6c171af",
            "eb28e0d9a8244024a8e3c9e39e0d03d1",
            "440c5e1a76d142c288b030eceb68d8fc",
            "84887b7ec3cc42948b8a74a721cb9efe",
            "2f68ea44e5c7418bb11c0efada3d71a2",
            "5355d716492a4c92a9cb3e21500f4e88",
            "129ad9dc782447e5a3844d7be80aa0bd",
            "4b1c6550ce464138b705da53a5482383",
            "ae5ccf31a4f24a31a2b95e2e3b2183bb",
            "af5f1e266d0b4cffa67f56338a34f6b5",
            "5f5d7588ee544350a424f11a65df61ac",
            "2a4f975984d2480abef3cd6a263e4055",
            "7bf4994586934388858913daef875565",
            "81b5797068424966be98ec47cd9fea9e",
            "365d79fcebc64328929bccd1d07bc7b8",
            "ad192a54257f480286255c821186e91d",
            "1369f0cb74e74de2b4979440ffeb53b7",
            "25a5c2f8457b42f6aa17bcd223f87103",
            "b0c3531c2a2a44b7a697e648b8d01783",
            "c91973a8c3b9414cbeaf0ccee9f4765b",
            "8c2210655ebc4e3aa8366b661e29acf6",
            "e6e0bed0703b427894d97dfb9d8f23b2",
            "19d91f5ee4464d4bab646a7595676f67",
            "28f168a6172a4a9fabb1a037b47a041d",
            "c54cce3f1cd640b9973bcfa522821a3b",
            "eae59e38d9d049608f364a141a73648c",
            "5829551b88d748c4bc915b9ac7d42939",
            "08f47c6629934640a0441cdb5565eb74",
            "22db5cac2a454aff8176d49f09ace34a",
            "73f300f7619148f78bb0bb6b165dccac",
            "d709d7b468e346e58ac2a67ae691efe5",
            "f7b11f6fcb054634a9cebe61d554f985",
            "6e678c8d19ae428180ec82b2f1c5b7a1",
            "0b495838d8ae4d38b4fcf3b1fd8dbae7",
            "ff76add5485341e0823169ad8ec82e3d",
            "f056847a9dbd4defb93db018aa889ca8",
            "4f6b910f621e400ca3d5e9842a228e4c",
            "e6d6a77f5e7e4e90b219aadc2c75696d",
            "69b0f2e9be9c4e04a9f51052057136c5",
            "cf3f7faba351473082dcc2f143c896dc",
            "b06ef80064f748d8ba6f80738246868b",
            "24d716fda6424985b6b038426f1954c0",
            "813943d8a85e4795902cf28c4f890a87",
            "e8bae47616b04a26bb5cd305a01a8ab7",
            "7a36383b53754d69ab47fcaca5fd4667",
            "b5f28e07a7b14096a98ad381bb1b6e78",
            "f1566eb0eaff411e871fa2948cff5286",
            "11a1093ccfa347bb83e0fec83e703987",
            "4f3fa42032a3476d9a93ccd522a5eeec",
            "063c2c0bd81247ad9c2091db5f44ad53",
            "e41c88b23ad24834be2814222a15ce3b",
            "cd2c4159b8c74d1f949e818680689893",
            "75efe95026a44f97adc1f4735a57c892",
            "4209141294e741bf94f74e0cd5a26a2b",
            "6b170439d1f84ed49e68968bb97e8de5",
            "b92b83bf9b7b42b69852479a56be0bc1",
            "b2c7015037d347598571951ac4d9c980",
            "b252e6d2f26f481b93c11c832d58caeb",
            "513f8a87945d424dbc5f69244d29776a",
            "129469d8373a41f0916494cca4b74441",
            "f4a2bef2a6b4436e97e1ff04faa81864",
            "9be5b008e69e4978bca4944e99bbbe15",
            "a4bdfbf56e074e20bd4c8a839b68badf",
            "066de1a6e0a34ebfbc25622f5db1e799",
            "bc4be718be424b4bb8d09ab5e9bb3192",
            "12f8be255225467bae651762bf10841a",
            "3257eee60e80427aa93fac8a00bce7fa",
            "93535dbcbea3440c81e97674ce22cfc9",
            "4653b38648cf44f997e8d60fed358e64",
            "a8481a81ffca4a4a83c91d38e9c13582",
            "b648c4e36129422fbf64e7a612e3ccc6",
            "a7faf1a608ca4bbfa5c082ffae6372f6",
            "43ac6ef6a80446fc9ae2d213ca85426e",
            "758ab9c087df40c2b964e1d787d7bebc",
            "45374fca3bae43518bebd9cee9fa99cf",
            "9ec71e2a0c12445a92d38ff61c3a7540",
            "f93a4682df3340d1aa601ecfb44d9314",
            "eba8ce6fbb5e48bb9cb6eec916286915",
            "45dee785e046480cbd7147af12b0e02b",
            "446dfecbb4724a37a7a43c2140dd2869",
            "76c00a11ff224deba4fc43114f8d08fa",
            "4221921e3a7c4bddb349422e974d9270",
            "93cfe4e918e1411f965100c47856d95c",
            "7aec8837a42f414185c8718698907e28",
            "20b26f8924a64a0ab0d06607de0a1e0e",
            "78d56584ee75452bb0340769f51fd262",
            "9f855e98d05248d19d3a893fa92cab49",
            "20ba67cbf7fa48acabdb536c830e08b7",
            "66bc85e42b6a4d679c8e11f8802d74a6",
            "3f34115abec34d14900625fad4b7c975",
            "da6a57de22fc4a8ba6f4c9b9be2d2342",
            "224e69f36cc44fdd93bd4e041ed56036",
            "1b69983b82ba447f92145c0788078263",
            "29aadec4835b4ba5b98da29e1b19d392",
            "b8b17f68cec549f98c0a08b70dbb3a12",
            "b0c92f18723f435483dbf4c89be4d815",
            "34b1f42c04854d79ba43bb82be7b0e9f",
            "57ba8a4711224895a0379f31322cf92f",
            "f4fab32f89e74c4b9ba75e90283e1707",
            "4a33023d246d438d87d975f734613c2f",
            "324e178a7eba48c0b25a9fd942a00d3a",
            "3e2c1f4242ca449ca07162c4d254f03b",
            "94a607f79c554ad8a9de4038510f978b",
            "b3dddd11563a4dca9e7a1d9c06fd5c06",
            "ca5a82d506884b2ebef7ba41f07419ea",
            "35f79db1f0cb4d2991c67c93938f6918",
            "068547547be54e578c2d69eb211df3a2",
            "43e64800018349f48cd4b2152baa9db2",
            "ef500b0fcf2846f7bf520132e6932e24",
            "b2dc35a3fe0743fbb66191cdec81ae16",
            "0e25a9e6bb3a44d6a2de08983e19be80",
            "850a0bb68a4a4ea6af42232415c45198",
            "f1c5c07c86a3457ba5270d3ce713655c",
            "22154b7565c242f09f3c1108335f6cf6",
            "baacfb1299214094b2ba29d0e44730d4",
            "ae726be1f2bd4f828b7468e79991f11c",
            "b3a8693557684393a4cdbcae419700bc",
            "b11a19f266824e1b98d45d6d59c5b04e",
            "e070acf3f3004bdfbc0ec0b743e6ad95",
            "bdbcfbc672f4451cbe5745c6f50292b1",
            "5b83a65ba06540caa769334fc80f0792",
            "77384a07629e445abcefd9d9cb49cfb1",
            "96790d0183494c8daa37bab3ee439aa8",
            "f814282f5ac346d1b437dcb91139806b",
            "4a56f0b78431447ba09c7564d244326f",
            "a782d8e313d347f78cabb5c475ff259e",
            "7b25a785ce984ef38c48242489e7b0b3",
            "7c22b3a56808409b81fddf5d0fe7a25b",
            "96adc77dbfb1461ba6979215c37be54c",
            "828ab1b9f68345b1b758657d20340462",
            "f4f99d9f971445a597886c1c76c4f0b2",
            "6b2aa5b5962c4b04838492ee37936124",
            "2e804f46a3be4985ac4764e5146a57d7",
            "4f8a888c70c74658a94d61e063271dcf",
            "a33a42f5eb4c4a4f911c792151029d2c",
            "5108c010d0a447aa839fb6cd5da72e9d",
            "8cf671e60ee649808a7df65813ceea65",
            "719864eb1b0a463ca391a085fc326bcc",
            "57e3f225307443cf8634dc0538a40e9a",
            "6efc5e03fccf4fa68ab6ea9577cc15ae",
            "b9d716967b974b7398850bbbe79d2027",
            "53d9240f8689497dacc247df9207c679",
            "29c909a7de5b4d2d9eca347be420d0aa",
            "cc8e925b9283471fba3bfd638369e1ee",
            "6995eda943e44c93847c73a9da4337c6",
            "9e9f31a05eb84c26ac90925ddf52e3d0",
            "a5ed2347a5604efb9528ddfab1ede541",
            "5124e656ecf743e38b80bfcc6a506ed1",
            "407c5f0ec5fd49b4baaac26201bf504b",
            "366571c15b7147a2b918be60f217bafc",
            "ea0b6683df0545428529aaa75bb6100b",
            "ad0462bf14134db88100aac53cba4da9",
            "5e50a6e455b74f9f9d4ac9aff1ddeb37",
            "c326f7c344a149fabedbfd7e5ec0e9d6",
            "5c2ab9ed4f6d4625a1bbba949309f2fc",
            "1f1715aa70ce4a07a84feac22c0e3e42",
            "16066c3673c7481790b9925492778ebe",
            "4e34c75531274a3ba11c0c2fa35403e2",
            "079f2600080a47b8b6c49a6307b9ab12",
            "1f966657e39f4c30a8f26407f9efdfe2",
            "2d5b3a3e75ee422bb07ab57011e3d387",
            "85ccaf7660534b3296f94d934253c100",
            "bd439544bd924c178478b0bef9e38e75",
            "3396bbe8e2f04046859210fd8b7232f0",
            "e2eaf0bfaddd4154a9bfaf84d7c11bf3",
            "15b4a43e214d4a51ac438c514302816b",
            "c3fac006f2e34f458dc451f45e9af7ae",
            "7f3acffaa40243569e785d0b9da93ad0",
            "3703ba49dab24deba71b2bb0c84f53c3",
            "d5ea9bbdc21644a39efa8c603222e3d1",
            "cbc848df9df04fb7b87976430cde8e82",
            "3fe1dbf236c7471fbe3bd318fb6fe698",
            "e62b1aad326a4dd991143329e094f844",
            "d972a505505346d1ad8888da09d60954",
            "84670575ee65477895a56dfd2f9a93ea",
            "48cba6dfb0ad4c368f5db3c95801dc7b",
            "057c75df8d364ebd93ddcb571aea8dd1",
            "cc88d4a5db2e408f8d0a1a7a8572e128",
            "676299a18ea4405c9a22268141b0906c",
            "17415d66f20e4957aa57eda35a139857",
            "41c19b47b8614f289a64a3e066eb053e",
            "22b2ad1bb44d4d6da53e489ce2123b81",
            "02f3267de5f04354b22fda38e9b9bd37",
            "ac81bec3ac9947868c9e701feffc62fc",
            "52542b626f044910a42076ea5125b867",
            "581b4dec118241718677ebab6035dbf2",
            "a0633f675cc54ba9a0eafc27ef1b033f",
            "046c42e5a719483e97508abaa83745f9",
            "74270c6319f34a02ac459164cebfc3d8",
            "2c056cc8fab44cf0848ed48a4e466f78",
            "f1729a50eb2740d38fe39f64cd0c0b88",
            "bfe9fcd5b28b42f28071e36822f9b9a2",
            "8da0af9cffdf4cadb08465c7e5438208",
            "5dc25af9110f455f9b90153b5f42af06",
            "d12b594507d247b49698d4dc4b550ac7",
            "16fa1c92207c45e78b2989998bc2b252",
            "13e2f5372259495f81bc71b0d6c3dbd3",
            "e0a597d72b2d42be8bb99bbd15c6e458",
            "6598f322f6da4060bb61292d59cb7a09",
            "61ddef72b77241ce824a4a0a4cf8dffb",
            "bbdcffc6474e42bfb99d0c6f2aa42ada",
            "e212793e852946d79e1467e620c65a59",
            "90f1c557262a44b3b264630bae4fc2ac",
            "8ba17d84bf2f43f1a7c35cfe1f7774df",
            "1afc4e2ebc8d4498b98ff0519babd759",
            "4c8ac71c70114eefb891a445df7ecbfc",
            "ed8fd048329e4833a05deb6d7f41ec08",
            "3a4c9a89149a40c1b0ec915b4034e802",
            "70b189e20c654475a8b4c5840953c8f9",
            "90e12b3c4d314630b5430cf45df553e8",
            "98e7a7401a9e4295bccb463a17f3d04b",
            "82d00a7451ac45fca65808672348830b",
            "5c2d7990448e401fa581a551728cc1c5",
            "7663a50b45914599b5fe7aa06dbd8d4b",
            "1af6802f4ec942738e79ea8bd96e77aa",
            "dc7d8929de55480e8ca22c83d8d7e05a",
            "fd2b18915fbb456096f83412818ff692",
            "738cef553fb04e7795cf81a23da026df",
            "aeb1cfdc2f1e4ac389a68f18a95098b4",
            "9d2effd5ee7d47f48a4296255e095287",
            "1dd8b309e8854796a526f9f9a1f9430e",
            "0717be09e22440f2afe1f9944fc742d1",
            "9ae70c0cfc5448bfb994af5f9c62d7d2",
            "4dd74620fdd540709ca23945d31a0466",
            "13b1e1e2348b4666b0090bd707aa4400",
            "beaa1627ce904fe5a0f79b1193ca37e7",
            "deee9f4ea99149dfb6b3e707905bd1e1",
            "e38d6694136642c98e548e292a2ccae3",
            "e779028ecdb24bcb9ca3ed0728d32875",
            "ae02819523b04a0aa89179935c5f07ad",
            "390446da20344384a62850322de8dc5f",
            "06fd8b669a4a47fba8a1b4ba14bc78c6",
            "06b0d21eb8b74f0fb4b5b610dd5e4927",
            "d6b78dd68baa4ef0b176b97ac7d441a5",
            "2b23612c05954ed6b6886125cad667b9",
            "6aa4f79c40764859a06f5e7a9fa8e7c6",
            "c8c8126912984a4e9876d072d7a2c2a4",
            "787b6b42b6944e2f9546d0268318200f",
            "84dfdab465624bc78b225c80cc201126",
            "aae759bf41794fe98a573cdbe6cd7dbd",
            "fea7fb84fe894ce285e582328c25a11b",
            "50e4dff9b5f44f7888d55feed34db2c1",
            "043137f29225462c881d427e251df2f8",
            "f1f6656a449e497a93b65addbeb3513a",
            "8e3a3ca0df9547859fc86bb115301675",
            "252ee828a9cc4f8c918ae342561ba7b1",
            "1f4955857b2941788bf11a4134239374",
            "defc16cbb605490385dbcc96cec8c8e0",
            "a8af9a6dd83d415bac94810d6906cedf",
            "38d3c1eb3af9420bb2b231dcac0db922",
            "f371a06866fd4563953e7cd2db4309d0",
            "c2b8312658b240eb8ea918681f72febe",
            "29a7fbaed52e43c98257c25ea0b1bc58",
            "8fac45b94d6a42c8ad99813b064358b0",
            "a01b8dd90edc4af79f75aed4791053d6",
            "1265b67a833b4a71bf8de7041bb59eec",
            "06c7dc3730d1480cb549a1188820c06f",
            "e1becbc04de14b9da44c582e583a7bb3",
            "322af35f19f8462a9cd12430022d6156",
            "4a312103f3cc4a798df0478fb37a12ca",
            "a921712b7db644c3b3eb6fced497777c",
            "97f7a7b0f16145a883b9556ab9cf168d",
            "1f86267e628e4e2c85703fb455131ab8",
            "0d16a55395ec4a7f8166cd753d26c3de",
            "411c0f062322475094d2e8227204fe8d",
            "c670b33624904b16842967d5361f27d2",
            "a02e35b2e8bb45b3817d5a0ec5d4198c",
            "0316c9b7bf84485ca098c46c22aff85c",
            "daccd821a1e04ea1a1ec6cbc10d48416",
            "4faeb320a28f48f39db66829eb42c6e0",
            "831842f421e547eb8d97a4f58cbb19de",
            "6a52f2f29df74c11843c5dbe0d27e19e",
            "09f9556f3a834afea3792357eeea04f1",
            "1992cb83ea4e49a2aad007ec8ae5936c",
            "0abaee617cba41818e1e0a97d75a9cfe",
            "aaf164cd2cf7482fbb3101a5ffdf7a9a",
            "c502d496409c45619e68549fbdb7d32b",
            "f35c8efeca914dd68263f644781fb2b8",
            "68e51c45357041f2939f5c0f899f11b5",
            "94763fb2ef444f6993d1aa3398621e4a",
            "c7e2fd1994a447b3bd40341fee7835fe",
            "65275e64aa204fee980855fb771c3331",
            "e95261c85fe14622a0f08eddba1cf89e",
            "1bff019f39f044fab60fa08df39d6dd6",
            "465d8c7ddceb43a99ea173f91468c165",
            "40fe573f75f740d288f65d404cc69521",
            "dac58380f4d34ec9894745eab72d7de7",
            "64a1fbd4cf564ee1b59b842c38fe1b67",
            "cdff7d36f557460095ac3ef805b034e6",
            "eada36e9cfae43a2b9c451688fadacdf",
            "82cdae3dba5948d888b8dd355d8a3be7",
            "a705639a188c4d6b862a75d068e636e6",
            "4c3b3698aec84d79855511bf07ce31d4",
            "322abd0c3f824cbfa1bb55a981252fe4",
            "fb687e738919402f8769a95f6fdbeef1",
            "1771284f1b364723a407d87ec5c26cf0",
            "ee10a7e3ba54427f8ac10b4f57843c16",
            "cc4dce86a9ab4ec5b2281859bd36c9fb",
            "4bd04ca11e414067ba3fa16ed20208c8",
            "fd3a49569a4c4f4ebc17d9de7729bd73",
            "54d187c9d15a452aa745f31a0b01f919",
            "d4bf283b73a1440ab484bd7e4ac787a6",
            "9108cd46609d4cc7995cc113fe849d6f",
            "54816b82f47648129f4102096fad36ca",
            "9c5ba67d6f0b42c89ed3da51432bdeb3",
            "ec7c13bfd3df4e25a446406270e149ce",
            "a32aec69d241461e9e3e624c1bb4f8b7",
            "36903c2a78714e7da9051618b0e10097",
            "9089baf95ad34c78bfd1e1a7ffe2cebe",
            "dd46073d20bc4620a2a205211fbfb14b",
            "ed752aa0a26e44c58866da0a0322933f",
            "1043a1e3f83f42a1b273ac15edb4ccd3",
            "cac446052e8048dd90ceeb2a0abd1910",
            "4ae37e1e4126401aa304e91112106318",
            "2256536305644e1d9f2b005df44eb6ea",
            "78cd7506f13041f7b18617f24051fe4a",
            "0879df1681bb42acbbab7e4c2dac1d09",
            "2a80dab2cdbc4e7798381477f301a966",
            "6d79dbb0fcd54ad3aff4113f741012e1",
            "6a4bd7321a1d4b3c97026082058de40b",
            "42b7fdbf69264897b4e1990afb6ebb32",
            "6d1bfdf1568940e99f48c47db7fcf88d",
            "c4b36d75654a4f13a9030f7f3f4458f4",
            "816be35b8d4248d7be54d0e1ffabc315",
            "7e349babf2294b7eab6af078e92e8115",
            "86d0de0807ca4d9d8f775bbd6397f579",
            "a8ca50e8ad0c4240ac3cfaa9618871ea",
            "2a1aa5a7c0534ca3b9e4f08c711a17e4",
            "9bdb8f0ef1fa4f5d8199ba68cb1af53e",
            "b159673b43844638bfbb23b5dc637c84",
            "2ead7086af6d4ad38ad3fabe82b910f1",
            "0a8dc5b627284f0b95a02e0e93c86bbc",
            "c7906f59a4c24b44b7c47c90b26df0fc",
            "ba36ce6cec194b61b29f1386f3d8bee0",
            "b47065ab10b24ad3a8d593a34f340d68",
            "a067901b878f4b778eba40bb5f56419e",
            "b2384a778f2c4379abc3586899d43c5d",
            "044fb4b3d12a4fdfbd846c767e53fbef",
            "667469927e224a1abb35d80c7caf4238",
            "b2d44b628ed0429d9c47a0b8b919dc5b",
            "78190b6d859549439fbdc93bc797c1a6",
            "d2b2846746a24751b8b4236c48c3f37b",
            "30590e43dc3d4dc3ae1b91a80f94279f",
            "740ccb1eedcf486f8bfdfdba660e94d3",
            "753046217a2c498389ba22fb272b9ce8",
            "1b81d0be99e94735a4f24f8ab849e5ec",
            "5db9d141e40c431bbe16e502eec1416d",
            "4351518e24c34273ad87c4f882057103",
            "2ecac165627a4534b9ffa7c3e931f8d0",
            "2c10aa86b457475a83cbd12be6eb5bbd",
            "d72f92620706437f990e18644d3bcc82",
            "301f8f062275496cbdcfa187a69278c3",
            "a1a03247ebc6488d9525a58fd021ee75",
            "85c98e33d1ce447cb23cf88b444e15e7",
            "a7cbfffbffca403bb50d1e9fb98030f6",
            "7b601456291a4dc68274ca0ab4c1f017",
            "a0623788fd61475eb0e56fdccaf9376e",
            "7413777f7f114fd890398bb0afd7b64c",
            "7f1696b0a4ea4e15b57948a369aa349b",
            "21adab0669bb4cf39c56e8fb518ffa0a",
            "02a1e2469edc4c1a881b5abbebb3f07d",
            "db41cfb0b45d41fd8ab59b9d0f317943",
            "2cc2569e4b644e61bac199b7e94bcfd4",
            "22c613d6fe27406d9703396636f14500",
            "74fc61ec912d410ebb73a3f3d0c60dd8",
            "f621cf7f89734d1e9c6e5d9253e6ef92",
            "724af6e0b6de4bf7b7366b4b22892af6",
            "6f6b6fc2cb844f76aa3ab5d899fbb8ad",
            "641f60ff235d476db23bad308139558f",
            "64aadba12adf4e5a9819f0078a291ac2",
            "89aed62e358f473db64a21212065d324",
            "0404c728af134828a798523c80476837",
            "f6ca03a248034605a104a0e19d5a0617",
            "51f51ec8786e40b091c91f02ab888f04",
            "e88c9cc5c47a41798ca9d5a6cb970a0e",
            "ee5c874c10164a3a90a77cafdbd3ee5b",
            "dda5e57a1e384b7eb9face8ca20b6aed",
            "e27796735bf947d38b79283f4b877c67",
            "63ea9a6372604ceab5b949dc7965a795",
            "6e0dc0769f78403abf71a865cc05b038",
            "967b19df42da411980903a5e29fff7d1",
            "605bc2a36a014bdea7cf9936a493f5eb",
            "6a98baca1e6c4333b2ce4f0073702f85",
            "dcca33c87d0c479792e953037e3766b9",
            "ca8500945b1e48cf9ad9618760c3e8f5",
            "c81b9386081b41929eab5e56cc21732d",
            "0416fe6162ca4c0f991398c2544fb645",
            "bf5111e391ca49daa58e243e4958a944",
            "2583501b675a4fed8c11857cbd6a603b",
            "d72f8233ae7148d2bf5007f0b47b0e25",
            "6947bc1023f846199ac39f8034759bec",
            "a5dbc25318af461c84d9ea1a503df2cd",
            "cae5fdc921f44e508038b6ba5b58f8d9",
            "612cf0264eae4159a9de263439c28b70",
            "c0a4886e33cc4ee387e8fa650ae00996",
            "4b0cfc59e8314fea8c40c93346f21921",
            "c8da171b7fcc4fa786580cd12ab6c288",
            "d75febbc8e15427583efc45a955bdcb8",
            "27f87dff9d0846b2943f3443331d000b",
            "193eed02711742a1808d4c2c1463eb31",
            "6121ee2caf7749bd90312f82cbf51e7b",
            "535c539dbfc74267908eb05cc3f44394",
            "ec470a27f9564fa283a7c285da47eb1a",
            "24a30dcee1b74d2c95e59608d78ee70f",
            "48278f3a22da421bb0830cd818c5d117",
            "a41b4dd0b95040f3b5465e47a3eee5ae",
            "740217b2c8094272857c770bc963e8be",
            "4b44576d352d47299b08cc2ed0c322f9",
            "f61805fb8bf14eb6a1e5166a3313a3ec",
            "f80fa3c891da4d41a0fb3459ed8b6bfc",
            "288f24fad695409b91790152985a40cb",
            "acfa60bd939647318350151e905996be",
            "699079a23dc24e3e8aa685eb302bd0a0",
            "8eb70eb98c784453aabfe139f0b8c2cc",
            "f55bcf4aa3e64192b34f48b9f47e7eea",
            "41bd069ba51842079cc83fcc77c78d32",
            "fddf2dea668f456d9a8fe6b6c49528e1",
            "093dd3564081497499a6283c7da007fc",
            "a42276afcb204876bda472df7a9826f7",
            "1cdb53dad38a44e082fe53fb59df3883",
            "8212f7dc3f2a4ac9ba55b688db0c606e",
            "1a008f750c0a448eb78f28283ad9ba01",
            "1bbbb59f409142dc8082c6fb0a8d2670",
            "d34e3c1fae0a44ac8e636eb868f76891",
            "1d22b04528ff45dc8b0d15049d3774cc",
            "62381c8a0b8b4c6182839e96fceff9ec",
            "b969cc1edea24a7caefb588a4868e1df",
            "5010af37e0904c02a3b7a9c84a992e55",
            "e3b556a9c8804b889ce701fbf5912b22",
            "e7c99143ffd145328bc1800591b19832",
            "68d5cbc945904266b89e720f4a47bc9e",
            "ecbca739c5f945d08d9211c9e3d339d4",
            "c2671d05235847aa84a8f6876def4e25",
            "2c6512915e094d1399eec89acda93bf8",
            "51467b15c75c4fdbb4ee2da336bc03ec",
            "8734aaa94f5d4c4fb4d99c908bf692a3",
            "390e1e3b360d4a828bd5e0e7d0f2df83",
            "7fa15cd92db74083b5a9b11f5ead3c9c",
            "7bc26540182f42ba8d350a0149954fab",
            "47d62e2621ce4514839554eb7611af63",
            "610143ccf4a1455da4292aabb8a82dfc",
            "a5ff2e682a8847a4b02538f599040747",
            "c1e7e80089b0426ab88a03dbf395cf59",
            "fd9965cbd8d14acea2b244fa7555039a",
            "9caf62b2910a4deb9516ba5a61ff49fc",
            "e621cbcc96114ab684a7ea99fc0a012f",
            "9216fa8c4f274846880d1809c15ef8da",
            "0edec8698b2349f2a8cde877690d2ee5",
            "a20c9092a95a4c14a71566c0831af912",
            "12bda7d6a53f4a8ab42f62ce5f02798d",
            "4148a89010cb49289ad9bd0514483cfb",
            "7c9fa6767e9b43d692e9ce23cba27f70",
            "5a65132edefa4a559e01296ca8e8b7a3",
            "9390d042d06047e9b6cf107d8319e1dc",
            "0d69e29ee81740ceb719a211cf84e67f",
            "476581f9d3b14181b21c1905bf48dd3f",
            "47d203155cf4435087506ca0ca70a4dd",
            "042aa932e3b94a7389a169dcb4faa04a",
            "fc38bf297dae4281a0326c6cd44a6149",
            "d9a3aba955a4455793f244f16d891268",
            "16f9e5b30e684d979595cd4afa5ea67d",
            "bb690db6c2c7429da7e0a233d9f9e79d",
            "ac9248b4fa0c440c98b1e8467f1e7b51",
            "a10e2bf971894ddc8a1a536c71636408",
            "552226963a5a488c84a27e964aaf32fc",
            "7c2de55fd7634a66915e769e866d2c8e",
            "373bb3f991834538ab3c5c55ee408f9c",
            "0c0d1e55f1504738b7c4a7f13253091c",
            "41a3e472a1114eb4a235edd7de02a4ad",
            "fe647cd45828493ca32a501bf01c0d72",
            "f41f2d3057bf4463bb897abecd32464d",
            "a18d92c841e54fd98e4c1e23a1f9d468",
            "581b1d9f25a04bdbbb6b2e53f813ca93",
            "1fcd7f177a3d4b3db8e128be56ead0b5",
            "e250902a8efb427aab845b8e7f8e597d",
            "3c40025260a24b409b4c8865bdc5e80f",
            "dcc4048c70c54721891b80aea9cf4449",
            "7af68d1645c94dcf8d626daa3efeacf3",
            "05e1649d6993421d865a4c5b9c4606cf",
            "0e9a9adaf7b1463084ff5ad1e34f1696",
            "3db56d348c74485f8ede7973b4275ba7",
            "a9c25985e3de451e80638e2a1febae63",
            "f29fe4feb13f4ffd9939520e95925d0b",
            "f30c278baaaf4b5f8eca85b1d1ef845f",
            "aaa889c08e9d45dc995d88c4224d00bd",
            "d0d2a1af69bf42c8ac78884b8f7a2130",
            "c5b15ffe7d6a4e50b58218723def3683",
            "2ff2bbf7adc04e37b9cbe21f65b03d5c",
            "d535f2e4b22842f5bcc3fd41763d8c59",
            "4b9b43aae9bd4410b1ba7f3c06eeba9a",
            "2a0e7a46444d4e1080b99b86e2adfa05",
            "a56abd89f0864358b7a7e18650f390f0",
            "22fe5f2cc99c4f77b3ed7402b90f4782",
            "a1a2420d955748be9f996ad00733aaec",
            "e2cb9213a5f24f23907c51200ce79458",
            "b559c97f6f5d45ac8aa94495bb75ad36",
            "2c59bfbadba44ecb8727cfca89cc75d0",
            "5ed7bdc9175f46649d321910e51e49d0",
            "3a926cc41e23451f964a7cfbd1a01ccc",
            "7b77f1173ad9449b91acb3265e70381b",
            "6faeffc83df54f4fb948012eca8856ff",
            "5f82f0ffc95b45e3babf7a4191f2494e",
            "74bef8d4e45f4f01b6d879031efe8f08",
            "85df1892db144b129785ac5646f30dac",
            "cbb70658d66640c7b5bd9deee82582f8",
            "f0189b98a56645b39dcb9398941c352e",
            "704c8f8eb5524e7ba20b555408bb8ac3",
            "c7b064b139a1497da6c629932480a83a",
            "464bf0175bf0420a9b93845d4671ddc4",
            "b216b68699b04bd5af7fdc9393b05df7",
            "a19fb343dec5438bb0be29e7fc10f8b5",
            "777e95a4ed9b413e990b13fad08b6f7f",
            "2169b054e25f4fbf9c24921b25329d83",
            "07cd30bf4e90425abbc83ff376ed3439",
            "45795fe88a2a45d19a26f4c35ca96e35",
            "7a33cf8d0b1046c2823824fe585e419d",
            "b07fc8282806472182d599f001487feb",
            "cfdee42258d140778fe5d22d39588223",
            "7e66a155ad4947a4b835b847e464fa1d",
            "93cf77a4a3e34feab0c3f3e380c0c5bf",
            "80499f12844c4a45a2fe028f33ea34ff",
            "5607bdda7aed4f60bc69fb42031c6f36",
            "61397c465c7242789d423c62e130cf84",
            "c6b17f104d6049fbb88dc3645100c94a",
            "6810875aabc54e618f5b170f188e4f54",
            "cb87f1a08704446795c7e49edcdd4314",
            "b992ea912c6e4dcf9a528be38f942e44",
            "477e41d885934921915b26a80636a103",
            "5e7de3efe5254ee886e47750ffcef8dd",
            "b2f78ca11cec4692864c06a762feeedb",
            "165741d69713401ba46af00682147d51",
            "521d2d4b7fa046e98e9c5067d98f0d04",
            "027229a92de7436da4bb839e10b853c2",
            "06d034ff17e443e0ac0ccb33b55a2c6e",
            "3c737c41416a4d8586aadac4c05675bd",
            "d38996c2f98b44f8a40b39a2094cd200",
            "dfb3bbfbcd5b4d969066a109de317849",
            "39c207d3f3d1436bb039bc283f1adeb0",
            "2d736d603b7843f6a0114645ec0f1c6c",
            "56b9f71e8fa74d87a131917a676de759",
            "d253c2520cf44a6d9d1076c310599cb1",
            "8fb3a9ba9eef4db28ad0df0012f0b80f",
            "4d7cfb4fa9414e2db69dd4fe919a80b9",
            "ed77699569ec4654a9288ec9555180cc",
            "8d673827ee68436db09006131d92d229",
            "26e012977d7043e4b92f3ba8f33e3a2c",
            "af7e169d7df8471c96093a9e8231abed",
            "7e6d6ded706044c89829b0ca981bbed3",
            "620075baef4f42cf9c9a87fd6db68819",
            "549af7c2f4df483f89c9968d29791656",
            "63aa296998b3401aa2ac745a5e79bcb9",
            "005003ddcc9343a4891e7ca6d04d74ae",
            "305c380ecceb4292badd81331d4aa561",
            "42255968991d48edb6e24d802fafde85",
            "492b9faf5be541e1a9139719f855caef",
            "5e98ef81bfb64e5686e71746e380e0d5",
            "b8ac7201cb82423ca96eaa3033ba914b",
            "4a4874f49e934c2cbe0c4787b06f5acf",
            "132a4e737fbc494f81944aa3a7004268",
            "783d5f14972c4e27aa76e4cc60cd1be1",
            "aab10eb9878c439f82eb4fe5865e4b56",
            "8b62406855ab47fc9b313b077bc60861",
            "4f0acacbdd1641178137142d5dd7c448",
            "14fcf92c11d2417697925880f1e91f99",
            "b5c14cc40e794412ad8df816c4f028b2",
            "7789e2031c0a459697bf99e123236658",
            "c7f89ba2aed741e18673a7f97efd0d32",
            "243391d5f7014dd3ba6575444787dc2c",
            "b1939e3a415e44e2a22210a695cbbaf7",
            "b1f0c383c9d9469a8a4ee121347a3148",
            "fd30e5b7581d45b7bf2d12891f2ca723",
            "ccb34b6026ea4e42bdc698b80b43b4f5",
            "b47fdfb8c16a42849278660c09a29dcd",
            "542761697c9e4e86ba93a109292de2e7",
            "2028662cee6d40d5ab297420fe7d778c",
            "9d9644aef12f47ee896daeabeb01bdd4",
            "f2c4c8a596ae4db9ab3352e0b1529ef3",
            "5453ec8514004640930a52bbf8a04ce5",
            "d701d5e0a10f4317b678de74bafbc5fe",
            "d852ff555cab4254b57d091e23c1d29c",
            "5541c5dcf71d40c09fd4d520e401316b",
            "adea3543073b4da4b673f0b11d4241d3",
            "8adbf7ca20f744dd9988fe736319508d",
            "77f41db0bca54fd6b791fa507870e890",
            "04b1c4e236d6428a8830ae15a65fea17",
            "8849e6eba2c842f298b3c9b349aeb1fd",
            "34b07ced0f01413ab9055a7ce5e8aca5",
            "f7ff9aa1a5f04d14a312828b306ae12e",
            "51fd958d2ea844ae992ea3ab4195b4f0",
            "8daa76c16b3a4bbbb901cb83ca3afc87",
            "dfb5931a7d2f4efeb003402ae9c73714",
            "089c3404069e41f8bc50b08a86fcc3fe",
            "ea68af4dc8694c468f25be7586d77066",
            "01743c04ff7a499a964ac756c2c2452e",
            "51493105905f42f8bde0192c69c4355e",
            "47ee6c6e082d450bab8f6856db37490e",
            "084d97affd464529a8e4792993b07d3b",
            "34e6c2b3f0324e449d1c63d655e572c6",
            "b3d48633bb9c498d9bb7cfe636163d64",
            "4c75d0fad9e04a6ea0f958f4c21b5e32",
            "7784e8d3954241e1bc2ce6a552c02f52",
            "a1f4bdf2e30a48949a3e48dd6013f6d5",
            "510a91e8706c4d20bb57145660f8230f",
            "7c2ff311848a4a379e21393c97f4d6d0",
            "2c83e1b1e0ad41ccaeeabd047afba32e",
            "cebdf5a28cce419ebc012959c38a1b5e",
            "980b53ceb6a04a9b9b9983fe46235a88",
            "8035ebe686324f6ea0fc86aa28875fbf",
            "794c4be8e95749dd88ce8bf7e8e7647e",
            "4e7853868eb34c598936d24a70928fb2",
            "f253e3e5c53344c0a872f6aabcaaaa23",
            "7d20173bf906496cbb9326d00fe2e97f",
            "95c879e636534ccaaee2eda18b00cc60",
            "b3a30ed28e4c46fbbcae59023d44001e",
            "85f2883f7f024ca19a1208fc99e2dc84",
            "92b4afb36550405490ad0a5ec34ac577",
            "f82941b1607447c6b530e7388b6aec64",
            "5a1ab7ecce974cf7ad644892700d5937",
            "4e8e41ce8fd54be390a9b3b710e2622a",
            "d8dc560d9a124a859e62de1089210a88",
            "0e24681aba0a4cdcacb2820ccebad456",
            "faab1fc47f074ec9844c01dab47b9d6a",
            "b0daf286d4a34b39a7fea45edf75088a",
            "25c2483fd09a4b9d95c8676c1d4c2666",
            "c86d3ee919a248b08a66e640b067ccfe",
            "ab153bf34ffc475a8417e25b5921881b",
            "e68e169871aa480f9219e6c3b0e376ed",
            "60a8a27f1a06428a825f52fc88e200f3",
            "7896c01df48e440a81e77199048c9385",
            "07e3540f42cf44e6af5ef11e33aeb3d9",
            "a581b3d1fbec4198a6a8ea3f6f1c4f6c",
            "b4d17367de1143c8bf4574d4a60be36c",
            "94649eee7d7b4e79b43366c2531177cb",
            "f12e8d523fd9496f98ab6c378903041f",
            "a43d6804823f47b9ae7a874aea927851",
            "62d0742acfbd4298b937eaf44abfca30",
            "edf962616e664788a986f529266a6b20",
            "f254d07a10de421e9cf76b3beb9ba11c",
            "a233e76fb07f41f58e0ab6ef1bfe01ea",
            "9d03a7d62c41427eb3041b29f4ca70c7",
            "f8bdc06d4a854c25b43ed62a6c891f51",
            "2442c4661c354596abe353d3fb367124",
            "ff40af17323246e7b554496cee1f3722",
            "42f1b5cfeecf41fe8af65edb27d1d2cf",
            "816a287d71b2450e8eab5179b2ebbfba",
            "a93243c3bc4e49c09619aa4bc8e33cf6",
            "5dbafa9c7b75416f821fba1aa55c415c",
            "59461b0fe603456bbeea8e2ee9231266",
            "0b18de514df24b15830cad31f5dc9622",
            "ffb421c28c4b428bb1449e6140ff8542",
            "65146a3d68e24c8cb6440490b0c1b9f8",
            "29310d4639ea4ab3b27763c6ec3e810d",
            "77a27ceb0f9243f3a08df1e9db286c2d",
            "cbf3d5b447c846a5b310bdd62c48a6b7",
            "e3198ea90dbb465ba35161bcb2e51a34",
            "c8c12a86a5a944fa81bc03e3e12f0647",
            "adf03475c90846dd990cf0dd5a1c494e",
            "16f674c5098e4a1ab61eae273f175cb9",
            "e61f494a1ceb444fb4b64c003e28bbb1",
            "5afb9e7fcae542f3bfc606492483c6b3",
            "84bb82505eef4155a6fc1d7b761f069e",
            "7cf40a80928648bb88257071c8bd130c",
            "2bce594136054b9880496a6318eab393",
            "30cc27ea432445c4aa18a3c5631ffa95",
            "d473cfbecde24a56a31d3bb8be16d5b2",
            "601a48e84de94aa39dbfff66130e9cab",
            "5c06e03663d549eabc3397b4724dfd6e",
            "8a840085ae324e8cba9d51e80ebb0d9a",
            "ff3570e79bb14f75aed73fcdcfa2bacf",
            "17cb53a5ffd64a33b8c29ebf3bf9e868",
            "7cc33eb5ee0f479fafb132b05d9e28be",
            "e66ea4b48f0d4cfba87805698b08431e",
            "48c99a24cfe94d28a834b8600820548b",
            "67d145a2e12c4f67be99212e0fa55f73",
            "b7a6ea1b985e40fa8669f5072a912a7a",
            "fdf4678900ea40a4b50e201b44e83938",
            "3b3d04582630400f98ab8d426790b59e",
            "0c2b3df18a13400ab64eb4a9bdd540c1",
            "62033b71856e4a7ba2022490859899b5",
            "74c0c30d503049b39f374d71db871b6d",
            "e3680c5629554dde9ddeb73a65c9c153",
            "90d28475b59943b4a7c9e54b6bb73ed6",
            "5afab3b47bda4a2daaf2d1b2c33ad9e1",
            "0120d6d54b0945b7a31e2797ae2b122b",
            "7fce86bf63bb43fd8882d7e23794a973",
            "1aedb3b83aca4647a6dfa8b3c03bd0fe",
            "bd0ae9b8ddd842dcbd95f6a410a34bb8",
            "ed354153ad39455b94a3f49b833acb19",
            "4438b9c68192444b80f7ee10fad0ba77",
            "1fe5e9e67b754042ac205828b37e9a08",
            "47d68f76ff7b487aada4b6a481071a22",
            "edb5ce1b0f564cf286f173b747b76c4c",
            "d71dd466404b41f5a8b9a7e9626a6324",
            "663b8ac1de7d435a88fa91c6928d7d17",
            "eb85926af8284dfaa6d5c1ccb07c0b14",
            "5a07d543d4874ce2a50d829d9d42233c",
            "fc6dff8852d04b98be5b28d3c2361d25",
            "1d8ecb411616450d8dc38aabf8949909",
            "1f1084fde8684b8fae2bcd5a54550fef",
            "506be78e035349788bda76a3bbbe47ae",
            "46422bded98c4542868cff3d48485392",
            "02728b4b09b74f2a81f7691484790917",
            "1016c9272e3c49419c246db3621ff833",
            "14a65df3fad14c319d0684122a480314",
            "b0e29e24db0f4729b745ebc91391eb7c",
            "8699f0dd594240829bdb022b6a677c02",
            "a96cfe6357e24e68b39f5efdd9c1933d",
            "a4af913c183c47a883e3bc075b582d5e",
            "e4255dfa29c24c3e8f951557e8e93017",
            "61a1c495a2f14b1bb1c67c1eef4e9b78",
            "d157e971ce72408490150956d2d3d5e7",
            "8f160962ba3846599c4b6904c7655934",
            "6cfbb489305847ca95201a9ba5b9d09b",
            "a3ac45ad93ce408fbbfdb4b5363636f5",
            "08d37b48a0384468ad92146f772c94dc",
            "f15447a737384937a987e310a887c059",
            "3ea7018de2004c04968e696d19656504",
            "6e178fa128f74a2e90ec851f391760d3",
            "681b35ee4ccc41568ab0fddcba1b52a0",
            "6ec4d472221f41659c2d95c7897c2dc9",
            "826385a21bbb4bf993d3bc4212c78895",
            "f257af97e7e44473900c8be8a9a25262",
            "f8dc3588c10c4bde89076fce63abfb96",
            "103412264924491293c134a6ce12ae28",
            "f10a93769b024034866712d3aa5d6522",
            "a4ba1ed4fdd041cfaeb2c223b7d09a35",
            "aa6c10e581f64a099b2142231211e1b3",
            "7a3e2eb2fd3147ab86e65990e221c163",
            "c51de216f2e34b25892e85d3d0fe0471",
            "945d8a79f584440a97e30cab064d5994",
            "6b7bdfe56ba94dac855dd3b750d2ba4f",
            "ac4d3fef7889464ea3038aab26232ef9",
            "953cf97fa09a445187237dba97c73a30",
            "823e868efb7b4a44b32f34b68612e3be",
            "6fff1ef531064907ad35be49167177e7",
            "03597f00f55b49739b361cc920811860",
            "36f43f2f8b714d5e9d6233ce8a486792",
            "1c3a1285e8494187b49b9d1eb569b9f6",
            "29ba4b33ebe743bab39ac33d5bd5d320",
            "7fde1bb686eb4a209a3310a5ed1ca7cd",
            "c6c9e761aa084a42bd13029b5c2f488b",
            "eeaccd75ba8b46299b889446a77cd828",
            "aa2e0020621c4162b205ef318d680bc8",
            "871fd569a04a46adaccc5f8eba5952de",
            "0d35faedb127432ea966bbdb566ea554",
            "f7448ae9362f4daf813bb8aab147e659",
            "54669dbdaace47b09c5a810a7b576969",
            "8fd29fa592504336bc84bda1a74fafa7",
            "26e052820e474f0aa16a2f87643e1331",
            "bad4c9772f0b4afbb7e97967937fe4ff",
            "67ea2c5c305141c7a80004f7bd504a0c",
            "24c39aa0174c43a4893f3a4ea8728138",
            "9d95d137b2374d849c910117e82c2c03",
            "bebec9d1fafa4cd999109e2d811a19da",
            "ed9d77c7131649068ebf0ec30abfbf86",
            "b91618a7c21740629e1b26b31ac4d734",
            "856310e0fef647b2b3b055a66bf6d349",
            "3464465574244985aa089dd2174ea9e1",
            "09d7441598ee43998aa880f0aeaab940",
            "6c1cf2a7e5e84451b9c90bc85f62a251",
            "7e1ab814e99049209c7ea2369da61215",
            "24fa4ab7b9df44a098969c1795ed7ad2",
            "07073a06dda94d79af29f6983162b118",
            "eb40b63d6a5e426196e6a3666baa9a5e",
            "08856dff59244a56ac3c3e8b132d3978",
            "b1a8031d8ba4421c87c2e960a4712ebe"
          ]
        },
        "id": "8uoDUfO9HrUE",
        "outputId": "48bf9501-f465-4d71-ff7f-cc32c52157b4"
      },
      "outputs": [
        {
          "name": "stderr",
          "output_type": "stream",
          "text": [
            "💡 Tip: For seamless cloud uploads and versioning, try installing [litmodels](https://pypi.org/project/litmodels/) to enable LitModelCheckpoint, which syncs automatically with the Lightning model registry.\n",
            "GPU available: True (cuda), used: True\n",
            "TPU available: False, using: 0 TPU cores\n",
            "HPU available: False, using: 0 HPUs\n",
            "LOCAL_RANK: 0 - CUDA_VISIBLE_DEVICES: [0]\n"
          ]
        },
        {
          "data": {
            "application/vnd.jupyter.widget-view+json": {
              "model_id": "929e446299b6481f808fd4373774a5aa",
              "version_major": 2,
              "version_minor": 0
            },
            "text/plain": [
              "Testing: |          | 0/? [00:00<?, ?it/s]"
            ]
          },
          "metadata": {},
          "output_type": "display_data"
        },
        {
          "data": {
            "text/html": [
              "<pre style=\"white-space:pre;overflow-x:auto;line-height:normal;font-family:Menlo,'DejaVu Sans Mono',consolas,'Courier New',monospace\">┏━━━━━━━━━━━━━━━━━━━━━━━━━━━┳━━━━━━━━━━━━━━━━━━━━━━━━━━━┓\n",
              "┃<span style=\"font-weight: bold\">        Test metric        </span>┃<span style=\"font-weight: bold\">       DataLoader 0        </span>┃\n",
              "┡━━━━━━━━━━━━━━━━━━━━━━━━━━━╇━━━━━━━━━━━━━━━━━━━━━━━━━━━┩\n",
              "│<span style=\"color: #008080; text-decoration-color: #008080\">         test_loss         </span>│<span style=\"color: #800080; text-decoration-color: #800080\">     5.878712177276611     </span>│\n",
              "└───────────────────────────┴───────────────────────────┘\n",
              "</pre>\n"
            ],
            "text/plain": [
              "┏━━━━━━━━━━━━━━━━━━━━━━━━━━━┳━━━━━━━━━━━━━━━━━━━━━━━━━━━┓\n",
              "┃\u001b[1m \u001b[0m\u001b[1m       Test metric       \u001b[0m\u001b[1m \u001b[0m┃\u001b[1m \u001b[0m\u001b[1m      DataLoader 0       \u001b[0m\u001b[1m \u001b[0m┃\n",
              "┡━━━━━━━━━━━━━━━━━━━━━━━━━━━╇━━━━━━━━━━━━━━━━━━━━━━━━━━━┩\n",
              "│\u001b[36m \u001b[0m\u001b[36m        test_loss        \u001b[0m\u001b[36m \u001b[0m│\u001b[35m \u001b[0m\u001b[35m    5.878712177276611    \u001b[0m\u001b[35m \u001b[0m│\n",
              "└───────────────────────────┴───────────────────────────┘\n"
            ]
          },
          "metadata": {},
          "output_type": "display_data"
        },
        {
          "name": "stderr",
          "output_type": "stream",
          "text": [
            "LOCAL_RANK: 0 - CUDA_VISIBLE_DEVICES: [0]\n",
            "\n",
            "  | Name    | Type       | Params | Mode \n",
            "-----------------------------------------------\n",
            "0 | model   | Sequential | 3.3 K  | train\n",
            "1 | loss_fn | MSELoss    | 0      | train\n",
            "-----------------------------------------------\n",
            "3.3 K     Trainable params\n",
            "0         Non-trainable params\n",
            "3.3 K     Total params\n",
            "0.013     Total estimated model params size (MB)\n",
            "11        Modules in train mode\n",
            "0         Modules in eval mode\n"
          ]
        },
        {
          "data": {
            "application/vnd.jupyter.widget-view+json": {
              "model_id": "a317679980e646f78923138bdf4bd5ba",
              "version_major": 2,
              "version_minor": 0
            },
            "text/plain": [
              "Sanity Checking: |          | 0/? [00:00<?, ?it/s]"
            ]
          },
          "metadata": {},
          "output_type": "display_data"
        },
        {
          "data": {
            "application/vnd.jupyter.widget-view+json": {
              "model_id": "17fdc944af724fba93562b542d047cc0",
              "version_major": 2,
              "version_minor": 0
            },
            "text/plain": [
              "Training: |          | 0/? [00:00<?, ?it/s]"
            ]
          },
          "metadata": {},
          "output_type": "display_data"
        },
        {
          "data": {
            "application/vnd.jupyter.widget-view+json": {
              "model_id": "918ab77a58a4439d8c618bfc389ce988",
              "version_major": 2,
              "version_minor": 0
            },
            "text/plain": [
              "Validation: |          | 0/? [00:00<?, ?it/s]"
            ]
          },
          "metadata": {},
          "output_type": "display_data"
        },
        {
          "data": {
            "application/vnd.jupyter.widget-view+json": {
              "model_id": "c05b4e65d50544d18fa016a1bde84013",
              "version_major": 2,
              "version_minor": 0
            },
            "text/plain": [
              "Validation: |          | 0/? [00:00<?, ?it/s]"
            ]
          },
          "metadata": {},
          "output_type": "display_data"
        },
        {
          "data": {
            "application/vnd.jupyter.widget-view+json": {
              "model_id": "c02e88d834f844f6a5269533a2b0949c",
              "version_major": 2,
              "version_minor": 0
            },
            "text/plain": [
              "Validation: |          | 0/? [00:00<?, ?it/s]"
            ]
          },
          "metadata": {},
          "output_type": "display_data"
        },
        {
          "data": {
            "application/vnd.jupyter.widget-view+json": {
              "model_id": "38eb64d9e2de47a2a23b14ec80c93aad",
              "version_major": 2,
              "version_minor": 0
            },
            "text/plain": [
              "Validation: |          | 0/? [00:00<?, ?it/s]"
            ]
          },
          "metadata": {},
          "output_type": "display_data"
        },
        {
          "data": {
            "application/vnd.jupyter.widget-view+json": {
              "model_id": "91a7f8ea531646a3ba80c934fd935cf7",
              "version_major": 2,
              "version_minor": 0
            },
            "text/plain": [
              "Validation: |          | 0/? [00:00<?, ?it/s]"
            ]
          },
          "metadata": {},
          "output_type": "display_data"
        },
        {
          "data": {
            "application/vnd.jupyter.widget-view+json": {
              "model_id": "2141d8825ae34acca446f72481b82ea9",
              "version_major": 2,
              "version_minor": 0
            },
            "text/plain": [
              "Validation: |          | 0/? [00:00<?, ?it/s]"
            ]
          },
          "metadata": {},
          "output_type": "display_data"
        },
        {
          "data": {
            "application/vnd.jupyter.widget-view+json": {
              "model_id": "80c64ffd00ab450ba78d26ebb510c297",
              "version_major": 2,
              "version_minor": 0
            },
            "text/plain": [
              "Validation: |          | 0/? [00:00<?, ?it/s]"
            ]
          },
          "metadata": {},
          "output_type": "display_data"
        },
        {
          "data": {
            "application/vnd.jupyter.widget-view+json": {
              "model_id": "8267731931814a60bf280bd5b6a365af",
              "version_major": 2,
              "version_minor": 0
            },
            "text/plain": [
              "Validation: |          | 0/? [00:00<?, ?it/s]"
            ]
          },
          "metadata": {},
          "output_type": "display_data"
        },
        {
          "data": {
            "application/vnd.jupyter.widget-view+json": {
              "model_id": "37b920ffd41547eb96ffcc7d73a3c53c",
              "version_major": 2,
              "version_minor": 0
            },
            "text/plain": [
              "Validation: |          | 0/? [00:00<?, ?it/s]"
            ]
          },
          "metadata": {},
          "output_type": "display_data"
        },
        {
          "data": {
            "application/vnd.jupyter.widget-view+json": {
              "model_id": "1a6a8173d4fd40faa4527c8cc45c868e",
              "version_major": 2,
              "version_minor": 0
            },
            "text/plain": [
              "Validation: |          | 0/? [00:00<?, ?it/s]"
            ]
          },
          "metadata": {},
          "output_type": "display_data"
        },
        {
          "data": {
            "application/vnd.jupyter.widget-view+json": {
              "model_id": "e36abb9fd5604f4cb759f1a97b732214",
              "version_major": 2,
              "version_minor": 0
            },
            "text/plain": [
              "Validation: |          | 0/? [00:00<?, ?it/s]"
            ]
          },
          "metadata": {},
          "output_type": "display_data"
        },
        {
          "data": {
            "application/vnd.jupyter.widget-view+json": {
              "model_id": "136b36a557f54fe491d645a08fd44a57",
              "version_major": 2,
              "version_minor": 0
            },
            "text/plain": [
              "Validation: |          | 0/? [00:00<?, ?it/s]"
            ]
          },
          "metadata": {},
          "output_type": "display_data"
        },
        {
          "data": {
            "application/vnd.jupyter.widget-view+json": {
              "model_id": "68ad2ff5509d43969bb55c537e0bdbdf",
              "version_major": 2,
              "version_minor": 0
            },
            "text/plain": [
              "Validation: |          | 0/? [00:00<?, ?it/s]"
            ]
          },
          "metadata": {},
          "output_type": "display_data"
        },
        {
          "data": {
            "application/vnd.jupyter.widget-view+json": {
              "model_id": "dbeb3d6e0dd9461fbdd0ab29b2d54cb4",
              "version_major": 2,
              "version_minor": 0
            },
            "text/plain": [
              "Validation: |          | 0/? [00:00<?, ?it/s]"
            ]
          },
          "metadata": {},
          "output_type": "display_data"
        },
        {
          "data": {
            "application/vnd.jupyter.widget-view+json": {
              "model_id": "926a9e3c73ae410d8a399940be39293f",
              "version_major": 2,
              "version_minor": 0
            },
            "text/plain": [
              "Validation: |          | 0/? [00:00<?, ?it/s]"
            ]
          },
          "metadata": {},
          "output_type": "display_data"
        },
        {
          "data": {
            "application/vnd.jupyter.widget-view+json": {
              "model_id": "bdbffc5a44c74d25bf4eb448673ab82c",
              "version_major": 2,
              "version_minor": 0
            },
            "text/plain": [
              "Validation: |          | 0/? [00:00<?, ?it/s]"
            ]
          },
          "metadata": {},
          "output_type": "display_data"
        },
        {
          "data": {
            "application/vnd.jupyter.widget-view+json": {
              "model_id": "58157c9250d044528f393d47c917f762",
              "version_major": 2,
              "version_minor": 0
            },
            "text/plain": [
              "Validation: |          | 0/? [00:00<?, ?it/s]"
            ]
          },
          "metadata": {},
          "output_type": "display_data"
        },
        {
          "data": {
            "application/vnd.jupyter.widget-view+json": {
              "model_id": "e897cda729554f0697165ba95665d639",
              "version_major": 2,
              "version_minor": 0
            },
            "text/plain": [
              "Validation: |          | 0/? [00:00<?, ?it/s]"
            ]
          },
          "metadata": {},
          "output_type": "display_data"
        },
        {
          "data": {
            "application/vnd.jupyter.widget-view+json": {
              "model_id": "27f4d60cf95240c2a923df10e558cde2",
              "version_major": 2,
              "version_minor": 0
            },
            "text/plain": [
              "Validation: |          | 0/? [00:00<?, ?it/s]"
            ]
          },
          "metadata": {},
          "output_type": "display_data"
        },
        {
          "data": {
            "application/vnd.jupyter.widget-view+json": {
              "model_id": "f6500dac0fd148a4896314abaa46d7fa",
              "version_major": 2,
              "version_minor": 0
            },
            "text/plain": [
              "Validation: |          | 0/? [00:00<?, ?it/s]"
            ]
          },
          "metadata": {},
          "output_type": "display_data"
        },
        {
          "data": {
            "application/vnd.jupyter.widget-view+json": {
              "model_id": "3100b636fdcc451daaacd96026b1dca1",
              "version_major": 2,
              "version_minor": 0
            },
            "text/plain": [
              "Validation: |          | 0/? [00:00<?, ?it/s]"
            ]
          },
          "metadata": {},
          "output_type": "display_data"
        },
        {
          "data": {
            "application/vnd.jupyter.widget-view+json": {
              "model_id": "0f1cdead0e7c4790a37ca93193c9adca",
              "version_major": 2,
              "version_minor": 0
            },
            "text/plain": [
              "Validation: |          | 0/? [00:00<?, ?it/s]"
            ]
          },
          "metadata": {},
          "output_type": "display_data"
        },
        {
          "data": {
            "application/vnd.jupyter.widget-view+json": {
              "model_id": "2b2844c4251b48da8acddc039218fb60",
              "version_major": 2,
              "version_minor": 0
            },
            "text/plain": [
              "Validation: |          | 0/? [00:00<?, ?it/s]"
            ]
          },
          "metadata": {},
          "output_type": "display_data"
        },
        {
          "data": {
            "application/vnd.jupyter.widget-view+json": {
              "model_id": "3ff9ab761d724fcb88286c5d234c30dc",
              "version_major": 2,
              "version_minor": 0
            },
            "text/plain": [
              "Validation: |          | 0/? [00:00<?, ?it/s]"
            ]
          },
          "metadata": {},
          "output_type": "display_data"
        },
        {
          "data": {
            "application/vnd.jupyter.widget-view+json": {
              "model_id": "4e874d1a0c8745bf81ec99652996e534",
              "version_major": 2,
              "version_minor": 0
            },
            "text/plain": [
              "Validation: |          | 0/? [00:00<?, ?it/s]"
            ]
          },
          "metadata": {},
          "output_type": "display_data"
        },
        {
          "data": {
            "application/vnd.jupyter.widget-view+json": {
              "model_id": "2f8f9670c99c4d93b93d19701fe2314c",
              "version_major": 2,
              "version_minor": 0
            },
            "text/plain": [
              "Validation: |          | 0/? [00:00<?, ?it/s]"
            ]
          },
          "metadata": {},
          "output_type": "display_data"
        },
        {
          "data": {
            "application/vnd.jupyter.widget-view+json": {
              "model_id": "8ebe48ae73274e2aa51c26de0493837f",
              "version_major": 2,
              "version_minor": 0
            },
            "text/plain": [
              "Validation: |          | 0/? [00:00<?, ?it/s]"
            ]
          },
          "metadata": {},
          "output_type": "display_data"
        },
        {
          "data": {
            "application/vnd.jupyter.widget-view+json": {
              "model_id": "422a695e8d1e4698b2ad6b4e48ebbd5f",
              "version_major": 2,
              "version_minor": 0
            },
            "text/plain": [
              "Validation: |          | 0/? [00:00<?, ?it/s]"
            ]
          },
          "metadata": {},
          "output_type": "display_data"
        },
        {
          "data": {
            "application/vnd.jupyter.widget-view+json": {
              "model_id": "cceefd4636ba4aea86398f0a71527f70",
              "version_major": 2,
              "version_minor": 0
            },
            "text/plain": [
              "Validation: |          | 0/? [00:00<?, ?it/s]"
            ]
          },
          "metadata": {},
          "output_type": "display_data"
        },
        {
          "data": {
            "application/vnd.jupyter.widget-view+json": {
              "model_id": "5067935cb8364f46b3b58d5d8007b959",
              "version_major": 2,
              "version_minor": 0
            },
            "text/plain": [
              "Validation: |          | 0/? [00:00<?, ?it/s]"
            ]
          },
          "metadata": {},
          "output_type": "display_data"
        },
        {
          "name": "stderr",
          "output_type": "stream",
          "text": [
            "`Trainer.fit` stopped: `max_epochs=30` reached.\n"
          ]
        }
      ],
      "source": [
        "model = Standard(train_x.shape[-1], noise_dim=7)\n",
        "trainer = Trainer(max_epochs=30, accelerator=\"auto\", devices=1)\n",
        "trainer.test(model, dataloaders=test_loader)\n",
        "trainer.fit(model, train_dataloaders=train_loader, val_dataloaders=validation_loader)"
      ]
    },
    {
      "cell_type": "code",
      "execution_count": 9,
      "metadata": {
        "id": "OeXjNCNhHsXb"
      },
      "outputs": [
        {
          "name": "stderr",
          "output_type": "stream",
          "text": [
            "LOCAL_RANK: 0 - CUDA_VISIBLE_DEVICES: [0]\n"
          ]
        },
        {
          "data": {
            "application/vnd.jupyter.widget-view+json": {
              "model_id": "537b632fb4fa43dc80757cb90ca235ce",
              "version_major": 2,
              "version_minor": 0
            },
            "text/plain": [
              "Testing: |          | 0/? [00:00<?, ?it/s]"
            ]
          },
          "metadata": {},
          "output_type": "display_data"
        },
        {
          "data": {
            "text/html": [
              "<pre style=\"white-space:pre;overflow-x:auto;line-height:normal;font-family:Menlo,'DejaVu Sans Mono',consolas,'Courier New',monospace\">┏━━━━━━━━━━━━━━━━━━━━━━━━━━━┳━━━━━━━━━━━━━━━━━━━━━━━━━━━┓\n",
              "┃<span style=\"font-weight: bold\">        Test metric        </span>┃<span style=\"font-weight: bold\">       DataLoader 0        </span>┃\n",
              "┡━━━━━━━━━━━━━━━━━━━━━━━━━━━╇━━━━━━━━━━━━━━━━━━━━━━━━━━━┩\n",
              "│<span style=\"color: #008080; text-decoration-color: #008080\">         test_loss         </span>│<span style=\"color: #800080; text-decoration-color: #800080\">   0.001826939987950027    </span>│\n",
              "└───────────────────────────┴───────────────────────────┘\n",
              "</pre>\n"
            ],
            "text/plain": [
              "┏━━━━━━━━━━━━━━━━━━━━━━━━━━━┳━━━━━━━━━━━━━━━━━━━━━━━━━━━┓\n",
              "┃\u001b[1m \u001b[0m\u001b[1m       Test metric       \u001b[0m\u001b[1m \u001b[0m┃\u001b[1m \u001b[0m\u001b[1m      DataLoader 0       \u001b[0m\u001b[1m \u001b[0m┃\n",
              "┡━━━━━━━━━━━━━━━━━━━━━━━━━━━╇━━━━━━━━━━━━━━━━━━━━━━━━━━━┩\n",
              "│\u001b[36m \u001b[0m\u001b[36m        test_loss        \u001b[0m\u001b[36m \u001b[0m│\u001b[35m \u001b[0m\u001b[35m  0.001826939987950027   \u001b[0m\u001b[35m \u001b[0m│\n",
              "└───────────────────────────┴───────────────────────────┘\n"
            ]
          },
          "metadata": {},
          "output_type": "display_data"
        },
        {
          "data": {
            "text/plain": [
              "[{'test_loss': 0.001826939987950027}]"
            ]
          },
          "execution_count": 9,
          "metadata": {},
          "output_type": "execute_result"
        }
      ],
      "source": [
        "trainer.test(model, dataloaders=test_loader)"
      ]
    },
    {
      "cell_type": "code",
      "execution_count": 17,
      "metadata": {
        "colab": {
          "base_uri": "https://localhost:8080/",
          "height": 472
        },
        "id": "yatNi9TVarcH",
        "outputId": "468f379c-a2db-44f0-df8b-fc65097d4879"
      },
      "outputs": [
        {
          "data": {
            "image/png": "[encoded data removed]",
            "text/plain": [
              "<Figure size 640x480 with 1 Axes>"
            ]
          },
          "metadata": {},
          "output_type": "display_data"
        }
      ],
      "source": [
        "import matplotlib.pyplot as plt\n",
        "plt.plot(torch.tensor(model.training_loss).cpu()[:100])\n",
        "plt.xlabel(\"Epoch\")\n",
        "plt.ylabel(\"Loss\")\n",
        "plt.title(\"Training loss MLP model with noise dim = \" + str(noise_dim))\n",
        "plt.grid()\n",
        "plt.show()"
      ]
    },
    {
      "cell_type": "code",
      "execution_count": 11,
      "metadata": {},
      "outputs": [
        {
          "data": {
            "text/plain": [
              "300"
            ]
          },
          "execution_count": 11,
          "metadata": {},
          "output_type": "execute_result"
        }
      ],
      "source": [
        "len(model.training_loss)"
      ]
    },
    {
      "cell_type": "code",
      "execution_count": 12,
      "metadata": {
        "colab": {
          "base_uri": "https://localhost:8080/",
          "height": 472
        },
        "id": "2dPGphnNbLml",
        "outputId": "e26ae264-54c1-46f6-8d7c-2567d73ab0df"
      },
      "outputs": [
        {
          "data": {
            "image/png": "[encoded data removed]",
            "text/plain": [
              "<Figure size 640x480 with 1 Axes>"
            ]
          },
          "metadata": {},
          "output_type": "display_data"
        }
      ],
      "source": [
        "plt.plot(torch.tensor(path_model.training_loss).cpu()[:200])\n",
        "plt.xlabel(\"Epoch\")\n",
        "plt.ylabel(\"Loss\")\n",
        "\n",
        "plt.title(\"Training loss multipaths model with noise dim = \" + str(noise_dim))\n",
        "plt.grid()\n",
        "plt.show()"
      ]
    },
    {
      "cell_type": "code",
      "execution_count": 13,
      "metadata": {
        "colab": {
          "base_uri": "https://localhost:8080/",
          "height": 472
        },
        "id": "eUUJuh0QsVsB",
        "outputId": "1abff555-5be3-4c21-960a-10cb761070af"
      },
      "outputs": [
        {
          "data": {
            "image/png": "[encoded data removed]",
            "text/plain": [
              "<Figure size 640x480 with 1 Axes>"
            ]
          },
          "metadata": {},
          "output_type": "display_data"
        }
      ],
      "source": [
        "import matplotlib.pyplot as plt\n",
        "\n",
        "noise_dim=3\n",
        "train_x = torch.load(f'data/train_x_{noise_dim}.pt').to(torch.float32)\n",
        "train_y = torch.load(f'data/train_y_{noise_dim}.pt').to(torch.float32)\n",
        "test_x  =  torch.load('data/test_x.pt').to(torch.float32) #[:10,:]\n",
        "test_y  =  torch.load('data/test_y.pt').to(torch.float32) #[:10]\n",
        "validation_x = test_x[:len(test_x)//2,:]\n",
        "validation_y = test_y[:len(test_y)//2]\n",
        "test_x = test_x[len(test_x)//2:,:]\n",
        "test_y = test_y[len(test_y)//2:]\n",
        "\n",
        "plt.hist(torch.cat([test_y,validation_y]), bins=100)  # Adjust 'bins' as desired\n",
        "plt.title(\"Distribution of training dataset\")\n",
        "plt.xlabel(\"Value\")\n",
        "plt.ylabel(\"Frequency\")\n",
        "plt.grid()\n",
        "plt.show()"
      ]
    },
    {
      "cell_type": "code",
      "execution_count": 14,
      "metadata": {
        "colab": {
          "base_uri": "https://localhost:8080/",
          "height": 472
        },
        "id": "H3U6mXKps23t",
        "outputId": "bb2ad516-d3e3-4d69-b97e-a37afa61d875"
      },
      "outputs": [
        {
          "data": {
            "image/png": "[encoded data removed]",
            "text/plain": [
              "<Figure size 640x480 with 1 Axes>"
            ]
          },
          "metadata": {},
          "output_type": "display_data"
        }
      ],
      "source": [
        "plt.hist(train_y, bins=100)  # Adjust 'bins' as desired\n",
        "plt.title(\"Distribution of test dataset\")\n",
        "plt.xlabel(\"Value\")\n",
        "plt.ylabel(\"Frequency\")\n",
        "plt.grid()\n",
        "plt.show()"
      ]
    },
    {
      "cell_type": "code",
      "execution_count": 15,
      "metadata": {
        "id": "lt2oYSRuxtZR"
      },
      "outputs": [
        {
          "data": {
            "text/plain": [
              "tensor(0, device='cpu')"
            ]
          },
          "execution_count": 15,
          "metadata": {},
          "output_type": "execute_result"
        }
      ],
      "source": [
        "# train_y = train_y.numpy()\n",
        "(train_y<0.1).sum()"
      ]
    },
    {
      "cell_type": "code",
      "execution_count": 16,
      "metadata": {
        "colab": {
          "base_uri": "https://localhost:8080/",
          "height": 449
        },
        "id": "wZbAjr61YpRn",
        "outputId": "8572aa52-2784-49fa-f058-68c5785d480b"
      },
      "outputs": [
        {
          "ename": "RuntimeError",
          "evalue": "mat1 and mat2 shapes cannot be multiplied (100000x3 and 7x64)",
          "output_type": "error",
          "traceback": [
            "\u001b[0;31m---------------------------------------------------------------------------\u001b[0m",
            "\u001b[0;31mRuntimeError\u001b[0m                              Traceback (most recent call last)",
            "Cell \u001b[0;32mIn[16], line 2\u001b[0m\n\u001b[1;32m      1\u001b[0m \u001b[38;5;28;01mwith\u001b[39;00m torch\u001b[38;5;241m.\u001b[39mno_grad():\n\u001b[0;32m----> 2\u001b[0m     y_hat \u001b[38;5;241m=\u001b[39m \u001b[43mmodel\u001b[49m\u001b[38;5;241;43m.\u001b[39;49m\u001b[43mforward\u001b[49m\u001b[43m(\u001b[49m\u001b[43mtrain_x\u001b[49m\u001b[43m)\u001b[49m\u001b[38;5;241m.\u001b[39msqueeze()\n\u001b[1;32m      3\u001b[0m y_hat\u001b[38;5;241m.\u001b[39mshape\n\u001b[1;32m      5\u001b[0m plt\u001b[38;5;241m.\u001b[39mhist(y_hat, bins\u001b[38;5;241m=\u001b[39m\u001b[38;5;241m100\u001b[39m)  \u001b[38;5;66;03m# Adjust 'bins' as desired\u001b[39;00m\n",
            "Cell \u001b[0;32mIn[4], line 49\u001b[0m, in \u001b[0;36mMyModel.forward\u001b[0;34m(self, x)\u001b[0m\n\u001b[1;32m     47\u001b[0m \u001b[38;5;28;01mdef\u001b[39;00m\u001b[38;5;250m \u001b[39m\u001b[38;5;21mforward\u001b[39m(\u001b[38;5;28mself\u001b[39m, x):\n\u001b[1;32m     48\u001b[0m     x \u001b[38;5;241m=\u001b[39m x[:, :\u001b[38;5;28mself\u001b[39m\u001b[38;5;241m.\u001b[39mnoise_dim]\n\u001b[0;32m---> 49\u001b[0m     \u001b[38;5;28;01mreturn\u001b[39;00m \u001b[38;5;28;43mself\u001b[39;49m\u001b[38;5;241;43m.\u001b[39;49m\u001b[43mmodel\u001b[49m\u001b[43m(\u001b[49m\u001b[43mx\u001b[49m\u001b[43m)\u001b[49m\n",
            "File \u001b[0;32m/home/zeus/miniconda3/envs/cloudspace/lib/python3.10/site-packages/torch/nn/modules/module.py:1751\u001b[0m, in \u001b[0;36mModule._wrapped_call_impl\u001b[0;34m(self, *args, **kwargs)\u001b[0m\n\u001b[1;32m   1749\u001b[0m     \u001b[38;5;28;01mreturn\u001b[39;00m \u001b[38;5;28mself\u001b[39m\u001b[38;5;241m.\u001b[39m_compiled_call_impl(\u001b[38;5;241m*\u001b[39margs, \u001b[38;5;241m*\u001b[39m\u001b[38;5;241m*\u001b[39mkwargs)  \u001b[38;5;66;03m# type: ignore[misc]\u001b[39;00m\n\u001b[1;32m   1750\u001b[0m \u001b[38;5;28;01melse\u001b[39;00m:\n\u001b[0;32m-> 1751\u001b[0m     \u001b[38;5;28;01mreturn\u001b[39;00m \u001b[38;5;28;43mself\u001b[39;49m\u001b[38;5;241;43m.\u001b[39;49m\u001b[43m_call_impl\u001b[49m\u001b[43m(\u001b[49m\u001b[38;5;241;43m*\u001b[39;49m\u001b[43margs\u001b[49m\u001b[43m,\u001b[49m\u001b[43m \u001b[49m\u001b[38;5;241;43m*\u001b[39;49m\u001b[38;5;241;43m*\u001b[39;49m\u001b[43mkwargs\u001b[49m\u001b[43m)\u001b[49m\n",
            "File \u001b[0;32m/home/zeus/miniconda3/envs/cloudspace/lib/python3.10/site-packages/torch/nn/modules/module.py:1762\u001b[0m, in \u001b[0;36mModule._call_impl\u001b[0;34m(self, *args, **kwargs)\u001b[0m\n\u001b[1;32m   1757\u001b[0m \u001b[38;5;66;03m# If we don't have any hooks, we want to skip the rest of the logic in\u001b[39;00m\n\u001b[1;32m   1758\u001b[0m \u001b[38;5;66;03m# this function, and just call forward.\u001b[39;00m\n\u001b[1;32m   1759\u001b[0m \u001b[38;5;28;01mif\u001b[39;00m \u001b[38;5;129;01mnot\u001b[39;00m (\u001b[38;5;28mself\u001b[39m\u001b[38;5;241m.\u001b[39m_backward_hooks \u001b[38;5;129;01mor\u001b[39;00m \u001b[38;5;28mself\u001b[39m\u001b[38;5;241m.\u001b[39m_backward_pre_hooks \u001b[38;5;129;01mor\u001b[39;00m \u001b[38;5;28mself\u001b[39m\u001b[38;5;241m.\u001b[39m_forward_hooks \u001b[38;5;129;01mor\u001b[39;00m \u001b[38;5;28mself\u001b[39m\u001b[38;5;241m.\u001b[39m_forward_pre_hooks\n\u001b[1;32m   1760\u001b[0m         \u001b[38;5;129;01mor\u001b[39;00m _global_backward_pre_hooks \u001b[38;5;129;01mor\u001b[39;00m _global_backward_hooks\n\u001b[1;32m   1761\u001b[0m         \u001b[38;5;129;01mor\u001b[39;00m _global_forward_hooks \u001b[38;5;129;01mor\u001b[39;00m _global_forward_pre_hooks):\n\u001b[0;32m-> 1762\u001b[0m     \u001b[38;5;28;01mreturn\u001b[39;00m \u001b[43mforward_call\u001b[49m\u001b[43m(\u001b[49m\u001b[38;5;241;43m*\u001b[39;49m\u001b[43margs\u001b[49m\u001b[43m,\u001b[49m\u001b[43m \u001b[49m\u001b[38;5;241;43m*\u001b[39;49m\u001b[38;5;241;43m*\u001b[39;49m\u001b[43mkwargs\u001b[49m\u001b[43m)\u001b[49m\n\u001b[1;32m   1764\u001b[0m result \u001b[38;5;241m=\u001b[39m \u001b[38;5;28;01mNone\u001b[39;00m\n\u001b[1;32m   1765\u001b[0m called_always_called_hooks \u001b[38;5;241m=\u001b[39m \u001b[38;5;28mset\u001b[39m()\n",
            "File \u001b[0;32m/home/zeus/miniconda3/envs/cloudspace/lib/python3.10/site-packages/torch/nn/modules/container.py:240\u001b[0m, in \u001b[0;36mSequential.forward\u001b[0;34m(self, input)\u001b[0m\n\u001b[1;32m    238\u001b[0m \u001b[38;5;28;01mdef\u001b[39;00m\u001b[38;5;250m \u001b[39m\u001b[38;5;21mforward\u001b[39m(\u001b[38;5;28mself\u001b[39m, \u001b[38;5;28minput\u001b[39m):\n\u001b[1;32m    239\u001b[0m     \u001b[38;5;28;01mfor\u001b[39;00m module \u001b[38;5;129;01min\u001b[39;00m \u001b[38;5;28mself\u001b[39m:\n\u001b[0;32m--> 240\u001b[0m         \u001b[38;5;28minput\u001b[39m \u001b[38;5;241m=\u001b[39m \u001b[43mmodule\u001b[49m\u001b[43m(\u001b[49m\u001b[38;5;28;43minput\u001b[39;49m\u001b[43m)\u001b[49m\n\u001b[1;32m    241\u001b[0m     \u001b[38;5;28;01mreturn\u001b[39;00m \u001b[38;5;28minput\u001b[39m\n",
            "File \u001b[0;32m/home/zeus/miniconda3/envs/cloudspace/lib/python3.10/site-packages/torch/nn/modules/module.py:1751\u001b[0m, in \u001b[0;36mModule._wrapped_call_impl\u001b[0;34m(self, *args, **kwargs)\u001b[0m\n\u001b[1;32m   1749\u001b[0m     \u001b[38;5;28;01mreturn\u001b[39;00m \u001b[38;5;28mself\u001b[39m\u001b[38;5;241m.\u001b[39m_compiled_call_impl(\u001b[38;5;241m*\u001b[39margs, \u001b[38;5;241m*\u001b[39m\u001b[38;5;241m*\u001b[39mkwargs)  \u001b[38;5;66;03m# type: ignore[misc]\u001b[39;00m\n\u001b[1;32m   1750\u001b[0m \u001b[38;5;28;01melse\u001b[39;00m:\n\u001b[0;32m-> 1751\u001b[0m     \u001b[38;5;28;01mreturn\u001b[39;00m \u001b[38;5;28;43mself\u001b[39;49m\u001b[38;5;241;43m.\u001b[39;49m\u001b[43m_call_impl\u001b[49m\u001b[43m(\u001b[49m\u001b[38;5;241;43m*\u001b[39;49m\u001b[43margs\u001b[49m\u001b[43m,\u001b[49m\u001b[43m \u001b[49m\u001b[38;5;241;43m*\u001b[39;49m\u001b[38;5;241;43m*\u001b[39;49m\u001b[43mkwargs\u001b[49m\u001b[43m)\u001b[49m\n",
            "File \u001b[0;32m/home/zeus/miniconda3/envs/cloudspace/lib/python3.10/site-packages/torch/nn/modules/module.py:1762\u001b[0m, in \u001b[0;36mModule._call_impl\u001b[0;34m(self, *args, **kwargs)\u001b[0m\n\u001b[1;32m   1757\u001b[0m \u001b[38;5;66;03m# If we don't have any hooks, we want to skip the rest of the logic in\u001b[39;00m\n\u001b[1;32m   1758\u001b[0m \u001b[38;5;66;03m# this function, and just call forward.\u001b[39;00m\n\u001b[1;32m   1759\u001b[0m \u001b[38;5;28;01mif\u001b[39;00m \u001b[38;5;129;01mnot\u001b[39;00m (\u001b[38;5;28mself\u001b[39m\u001b[38;5;241m.\u001b[39m_backward_hooks \u001b[38;5;129;01mor\u001b[39;00m \u001b[38;5;28mself\u001b[39m\u001b[38;5;241m.\u001b[39m_backward_pre_hooks \u001b[38;5;129;01mor\u001b[39;00m \u001b[38;5;28mself\u001b[39m\u001b[38;5;241m.\u001b[39m_forward_hooks \u001b[38;5;129;01mor\u001b[39;00m \u001b[38;5;28mself\u001b[39m\u001b[38;5;241m.\u001b[39m_forward_pre_hooks\n\u001b[1;32m   1760\u001b[0m         \u001b[38;5;129;01mor\u001b[39;00m _global_backward_pre_hooks \u001b[38;5;129;01mor\u001b[39;00m _global_backward_hooks\n\u001b[1;32m   1761\u001b[0m         \u001b[38;5;129;01mor\u001b[39;00m _global_forward_hooks \u001b[38;5;129;01mor\u001b[39;00m _global_forward_pre_hooks):\n\u001b[0;32m-> 1762\u001b[0m     \u001b[38;5;28;01mreturn\u001b[39;00m \u001b[43mforward_call\u001b[49m\u001b[43m(\u001b[49m\u001b[38;5;241;43m*\u001b[39;49m\u001b[43margs\u001b[49m\u001b[43m,\u001b[49m\u001b[43m \u001b[49m\u001b[38;5;241;43m*\u001b[39;49m\u001b[38;5;241;43m*\u001b[39;49m\u001b[43mkwargs\u001b[49m\u001b[43m)\u001b[49m\n\u001b[1;32m   1764\u001b[0m result \u001b[38;5;241m=\u001b[39m \u001b[38;5;28;01mNone\u001b[39;00m\n\u001b[1;32m   1765\u001b[0m called_always_called_hooks \u001b[38;5;241m=\u001b[39m \u001b[38;5;28mset\u001b[39m()\n",
            "File \u001b[0;32m/home/zeus/miniconda3/envs/cloudspace/lib/python3.10/site-packages/torch/nn/modules/linear.py:125\u001b[0m, in \u001b[0;36mLinear.forward\u001b[0;34m(self, input)\u001b[0m\n\u001b[1;32m    124\u001b[0m \u001b[38;5;28;01mdef\u001b[39;00m\u001b[38;5;250m \u001b[39m\u001b[38;5;21mforward\u001b[39m(\u001b[38;5;28mself\u001b[39m, \u001b[38;5;28minput\u001b[39m: Tensor) \u001b[38;5;241m-\u001b[39m\u001b[38;5;241m>\u001b[39m Tensor:\n\u001b[0;32m--> 125\u001b[0m     \u001b[38;5;28;01mreturn\u001b[39;00m \u001b[43mF\u001b[49m\u001b[38;5;241;43m.\u001b[39;49m\u001b[43mlinear\u001b[49m\u001b[43m(\u001b[49m\u001b[38;5;28;43minput\u001b[39;49m\u001b[43m,\u001b[49m\u001b[43m \u001b[49m\u001b[38;5;28;43mself\u001b[39;49m\u001b[38;5;241;43m.\u001b[39;49m\u001b[43mweight\u001b[49m\u001b[43m,\u001b[49m\u001b[43m \u001b[49m\u001b[38;5;28;43mself\u001b[39;49m\u001b[38;5;241;43m.\u001b[39;49m\u001b[43mbias\u001b[49m\u001b[43m)\u001b[49m\n",
            "\u001b[0;31mRuntimeError\u001b[0m: mat1 and mat2 shapes cannot be multiplied (100000x3 and 7x64)"
          ]
        }
      ],
      "source": [
        "with torch.no_grad():\n",
        "    y_hat = model.forward(train_x).squeeze()\n",
        "y_hat.shape\n",
        "\n",
        "plt.hist(y_hat, bins=100)  # Adjust 'bins' as desired\n",
        "plt.title(\"Distribution of train-dataset predictions\")\n",
        "plt.xlabel(\"Value\")\n",
        "plt.ylabel(\"Frequency\")\n",
        "plt.grid()\n",
        "plt.show()"
      ]
    },
    {
      "cell_type": "markdown",
      "metadata": {
        "id": "iycE0XKef2ib"
      },
      "source": [
        "## Test"
      ]
    },
    {
      "cell_type": "code",
      "execution_count": null,
      "metadata": {
        "colab": {
          "base_uri": "https://localhost:8080/"
        },
        "id": "Fy4fCHwSZTf5",
        "outputId": "5f130b20-05f6-45ba-909c-e587787ce7d6"
      },
      "outputs": [
        {
          "data": {
            "text/plain": [
              "(tensor([[2.5289]], device='cpu', grad_fn=<AddmmBackward0>),\n",
              " tensor([[2.3351]], device='cpu', grad_fn=<AddmmBackward0>))"
            ]
          },
          "execution_count": 20,
          "metadata": {},
          "output_type": "execute_result"
        }
      ],
      "source": [
        "x = train_x[0].view(1,-1)\n",
        "dist = torch.norm(train_x - x, dim=1)\n",
        "sorted_distances, sorted_indices = torch.sort(dist)\n",
        "\n",
        "sorted_train_x = train_x[sorted_indices]\n",
        "x1 = sorted_train_x[1]\n",
        "x, x1\n",
        "x2 = x1 + torch.normal(0,0.1,size=(1,7)).cpu()\n",
        "x2\n",
        "\n",
        "\n",
        "model(x), model(x2)"
      ]
    }
  ],
  "metadata": {
    "accelerator": "GPU",
    "colab": {
      "authorship_tag": "ABX9TyP2sHmSvooDg4flTH3Ku3bf",
      "gpuType": "T4",
      "include_colab_link": true,
      "mount_file_id": "1M-yZPZ00HAQ_9GXpARprODwyWGh8hpNe",
      "provenance": []
    },
    "kernelspec": {
      "display_name": "cloudspace",
      "language": "python",
      "name": "python3"
    },
    "language_info": {
      "codemirror_mode": {
        "name": "ipython",
        "version": 3
      },
      "file_extension": ".py",
      "mimetype": "text/x-python",
      "name": "python",
      "nbconvert_exporter": "python",
      "pygments_lexer": "ipython3",
      "version": "3.10.10"
    }
  },
  "nbformat": 4,
  "nbformat_minor": 0
}
